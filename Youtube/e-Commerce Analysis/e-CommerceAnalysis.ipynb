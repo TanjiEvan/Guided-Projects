{
 "cells": [
  {
   "cell_type": "markdown",
   "metadata": {},
   "source": [
    "## Connecting To SQL"
   ]
  },
  {
   "cell_type": "code",
   "execution_count": 3,
   "metadata": {},
   "outputs": [
    {
     "name": "stdout",
     "output_type": "stream",
     "text": [
      "Processing customers.csv\n",
      "NaN values before replacement:\n",
      "customer_id                 0\n",
      "customer_unique_id          0\n",
      "customer_zip_code_prefix    0\n",
      "customer_city               0\n",
      "customer_state              0\n",
      "dtype: int64\n",
      "\n",
      "Processing orders.csv\n",
      "NaN values before replacement:\n",
      "order_id                            0\n",
      "customer_id                         0\n",
      "order_status                        0\n",
      "order_purchase_timestamp            0\n",
      "order_approved_at                 160\n",
      "order_delivered_carrier_date     1783\n",
      "order_delivered_customer_date    2965\n",
      "order_estimated_delivery_date       0\n",
      "dtype: int64\n",
      "\n",
      "Processing sellers.csv\n",
      "NaN values before replacement:\n",
      "seller_id                 0\n",
      "seller_zip_code_prefix    0\n",
      "seller_city               0\n",
      "seller_state              0\n",
      "dtype: int64\n",
      "\n",
      "Processing products.csv\n",
      "NaN values before replacement:\n",
      "product_id                      0\n",
      "product category              610\n",
      "product_name_length           610\n",
      "product_description_length    610\n",
      "product_photos_qty            610\n",
      "product_weight_g                2\n",
      "product_length_cm               2\n",
      "product_height_cm               2\n",
      "product_width_cm                2\n",
      "dtype: int64\n",
      "\n",
      "Processing geolocation.csv\n",
      "NaN values before replacement:\n",
      "geolocation_zip_code_prefix    0\n",
      "geolocation_lat                0\n",
      "geolocation_lng                0\n",
      "geolocation_city               0\n",
      "geolocation_state              0\n",
      "dtype: int64\n",
      "\n",
      "Processing payments.csv\n",
      "NaN values before replacement:\n",
      "order_id                0\n",
      "payment_sequential      0\n",
      "payment_type            0\n",
      "payment_installments    0\n",
      "payment_value           0\n",
      "dtype: int64\n",
      "\n",
      "Processing order_items.csv\n",
      "NaN values before replacement:\n",
      "order_id               0\n",
      "order_item_id          0\n",
      "product_id             0\n",
      "seller_id              0\n",
      "shipping_limit_date    0\n",
      "price                  0\n",
      "freight_value          0\n",
      "dtype: int64\n",
      "\n"
     ]
    }
   ],
   "source": [
    "import pandas as pd\n",
    "import mysql.connector\n",
    "import os\n",
    "\n",
    "# List of CSV files and their corresponding table names\n",
    "csv_files = [\n",
    "    ('customers.csv', 'customers'),\n",
    "    ('orders.csv', 'orders'),\n",
    "    ('sellers.csv', 'sellers'),\n",
    "    ('products.csv', 'products'),\n",
    "    ('geolocation.csv', 'geolocation'),\n",
    "    ('payments.csv', 'payments'),\n",
    "    ('order_items.csv' , 'order_items')\n",
    "]\n",
    "\n",
    "# Connect to the MySQL database\n",
    "conn = mysql.connector.connect(\n",
    "    host='localhost',\n",
    "    user='root',\n",
    "    password='Tanji123',\n",
    "    database='ecommerce'\n",
    ")\n",
    "cursor = conn.cursor()\n",
    "\n",
    "# Folder containing the CSV files\n",
    "folder_path = 'C:/Users/SPPL IT/Desktop/Study/Guided Projects/Youtube/e-Commerce Analysis'\n",
    "\n",
    "def get_sql_type(dtype):\n",
    "    if pd.api.types.is_integer_dtype(dtype):\n",
    "        return 'INT'\n",
    "    elif pd.api.types.is_float_dtype(dtype):\n",
    "        return 'FLOAT'\n",
    "    elif pd.api.types.is_bool_dtype(dtype):\n",
    "        return 'BOOLEAN'\n",
    "    elif pd.api.types.is_datetime64_any_dtype(dtype):\n",
    "        return 'DATETIME'\n",
    "    else:\n",
    "        return 'TEXT'\n",
    "\n",
    "for csv_file, table_name in csv_files:\n",
    "    file_path = os.path.join(folder_path, csv_file)\n",
    "    \n",
    "    # Read the CSV file into a pandas DataFrame\n",
    "    df = pd.read_csv(file_path)\n",
    "    \n",
    "    # Replace NaN with None to handle SQL NULL\n",
    "    df = df.where(pd.notnull(df), None)\n",
    "    \n",
    "    # Debugging: Check for NaN values\n",
    "    print(f\"Processing {csv_file}\")\n",
    "    print(f\"NaN values before replacement:\\n{df.isnull().sum()}\\n\")\n",
    "\n",
    "    # Clean column names\n",
    "    df.columns = [col.replace(' ', '_').replace('-', '_').replace('.', '_') for col in df.columns]\n",
    "\n",
    "    # Generate the CREATE TABLE statement with appropriate data types\n",
    "    columns = ', '.join([f'`{col}` {get_sql_type(df[col].dtype)}' for col in df.columns])\n",
    "    create_table_query = f'CREATE TABLE IF NOT EXISTS `{table_name}` ({columns})'\n",
    "    cursor.execute(create_table_query)\n",
    "\n",
    "    # Insert DataFrame data into the MySQL table\n",
    "    for _, row in df.iterrows():\n",
    "        # Convert row to tuple and handle NaN/None explicitly\n",
    "        values = tuple(None if pd.isna(x) else x for x in row)\n",
    "        sql = f\"INSERT INTO `{table_name}` ({', '.join(['`' + col + '`' for col in df.columns])}) VALUES ({', '.join(['%s'] * len(row))})\"\n",
    "        cursor.execute(sql, values)\n",
    "\n",
    "    # Commit the transaction for the current CSV file\n",
    "    conn.commit()\n",
    "\n",
    "# Close the connection\n",
    "conn.close()"
   ]
  },
  {
   "cell_type": "markdown",
   "metadata": {},
   "source": [
    "# Project Start"
   ]
  },
  {
   "cell_type": "code",
   "execution_count": 2,
   "metadata": {},
   "outputs": [],
   "source": [
    "import pandas as pd\n",
    "import numpy as np\n",
    "import seaborn as sns\n",
    "import matplotlib.pyplot as plt\n",
    "import plotly.express as px\n",
    "import mysql.connector\n",
    "\n",
    "db= mysql.connector.connect(host=\"localhost\",\n",
    "                            username=\"root\",\n",
    "                            password=\"Tanji123\",\n",
    "                            database=\"ecommerce\")\n",
    "\n",
    "cur= db.cursor()"
   ]
  },
  {
   "cell_type": "markdown",
   "metadata": {},
   "source": [
    "## Basic Queries"
   ]
  },
  {
   "cell_type": "markdown",
   "metadata": {},
   "source": [
    "### 1. List all unique cities where customers are located."
   ]
  },
  {
   "cell_type": "code",
   "execution_count": 3,
   "metadata": {},
   "outputs": [
    {
     "data": {
      "text/plain": [
       "[('franca',),\n",
       " ('sao bernardo do campo',),\n",
       " ('sao paulo',),\n",
       " ('mogi das cruzes',),\n",
       " ('campinas',),\n",
       " ('jaragua do sul',),\n",
       " ('timoteo',),\n",
       " ('curitiba',),\n",
       " ('belo horizonte',),\n",
       " ('montes claros',),\n",
       " ('rio de janeiro',),\n",
       " ('lencois paulista',),\n",
       " ('caxias do sul',),\n",
       " ('piracicaba',),\n",
       " ('guarulhos',),\n",
       " ('pacaja',),\n",
       " ('florianopolis',),\n",
       " ('aparecida de goiania',),\n",
       " ('santo andre',),\n",
       " ('goiania',),\n",
       " ('cachoeiro de itapemirim',),\n",
       " ('sao jose dos campos',),\n",
       " ('sao roque',),\n",
       " ('camacari',),\n",
       " ('resende',),\n",
       " ('sumare',),\n",
       " ('novo hamburgo',),\n",
       " ('sao luis',),\n",
       " ('sao jose',),\n",
       " ('santa barbara',),\n",
       " ('ribeirao preto',),\n",
       " ('ituiutaba',),\n",
       " ('taquarituba',),\n",
       " ('sao jose dos pinhais',),\n",
       " ('barrinha',),\n",
       " ('parati',),\n",
       " ('dourados',),\n",
       " ('trindade',),\n",
       " ('cascavel',),\n",
       " ('fortaleza',),\n",
       " ('brasilia',),\n",
       " ('pelotas',),\n",
       " ('porto alegre',),\n",
       " ('salto',),\n",
       " ('jundiai',),\n",
       " ('cacapava',),\n",
       " ('sao vicente',),\n",
       " ('uberlandia',),\n",
       " ('botelhos',),\n",
       " ('sao goncalo',),\n",
       " ('araucaria',),\n",
       " ('nova iguacu',),\n",
       " ('areia branca',),\n",
       " ('campos dos goytacazes',),\n",
       " ('sao carlos',),\n",
       " ('itajuba',),\n",
       " ('cruz das almas',),\n",
       " ('vassouras',),\n",
       " ('feira de santana',),\n",
       " ('niteroi',),\n",
       " ('sobral',),\n",
       " ('divinopolis',),\n",
       " ('paraiba do sul',),\n",
       " ('paulista',),\n",
       " ('carapicuiba',),\n",
       " ('bom principio',),\n",
       " ('astolfo dutra',),\n",
       " ('marialva',),\n",
       " ('sao jose do rio preto',),\n",
       " ('cabo frio',),\n",
       " ('contagem',),\n",
       " ('cafeara',),\n",
       " ('sao joaquim da barra',),\n",
       " ('foz do iguacu',),\n",
       " ('suzano',),\n",
       " ('timbo',),\n",
       " ('camboriu',),\n",
       " ('nova bassano',),\n",
       " ('rio grande',),\n",
       " ('braganca paulista',),\n",
       " ('barra do garcas',),\n",
       " ('embu',),\n",
       " ('urussanga',),\n",
       " ('silvianopolis',),\n",
       " ('gameleiras',),\n",
       " ('belem',),\n",
       " ('pocos de caldas',),\n",
       " ('santos',),\n",
       " ('piracaia',),\n",
       " ('sinop',),\n",
       " ('guaruja',),\n",
       " ('barueri',),\n",
       " ('feliz',),\n",
       " ('jambeiro',),\n",
       " ('ipatinga',),\n",
       " ('tupa',),\n",
       " ('blumenau',),\n",
       " ('moncoes',),\n",
       " ('balneario camboriu',),\n",
       " ('vargem grande',),\n",
       " ('rio brilhante',),\n",
       " ('eugenopolis',),\n",
       " ('paulinia',),\n",
       " ('apucarana',),\n",
       " ('recife',),\n",
       " ('osasco',),\n",
       " ('valinhos',),\n",
       " ('manaus',),\n",
       " ('cidreira',),\n",
       " ('santiago',),\n",
       " ('sao sepe',),\n",
       " ('alta floresta',),\n",
       " ('jaboatao dos guararapes',),\n",
       " ('ibatiba',),\n",
       " ('hortolandia',),\n",
       " ('cotia',),\n",
       " ('macae',),\n",
       " ('saudades',),\n",
       " ('macapa',),\n",
       " ('salto de pirapora',),\n",
       " ('taboao da serra',),\n",
       " ('bom jesus',),\n",
       " ('santa cruz do rio pardo',),\n",
       " ('diadema',),\n",
       " ('santa ines',),\n",
       " ('serrinha',),\n",
       " ('votorantim',),\n",
       " ('itatiaia',),\n",
       " ('duque de caxias',),\n",
       " ('varre-sai',),\n",
       " ('vila velha',),\n",
       " ('mangaratiba',),\n",
       " ('atibaia',),\n",
       " ('salvador',),\n",
       " ('maceio',),\n",
       " ('birigui',),\n",
       " ('petropolis',),\n",
       " ('sao pedro',),\n",
       " ('jaguariaiva',),\n",
       " ('franco da rocha',),\n",
       " ('pindamonhangaba',),\n",
       " ('irati',),\n",
       " ('ribeira',),\n",
       " ('barbacena',),\n",
       " ('limoeiro',),\n",
       " ('espigao do oeste',),\n",
       " ('belford roxo',),\n",
       " ('coronel fabriciano',),\n",
       " ('itanhaem',),\n",
       " ('bebedouro',),\n",
       " ('americana',),\n",
       " ('uba',),\n",
       " ('arapongas',),\n",
       " ('vinhedo',),\n",
       " ('itajai',),\n",
       " ('bauru',),\n",
       " ('pradopolis',),\n",
       " ('aripuana',),\n",
       " ('guaratinga',),\n",
       " ('ponta pora',),\n",
       " ('aracatuba',),\n",
       " ('volta redonda',),\n",
       " ('maringa',),\n",
       " ('araraquara',),\n",
       " ('matipo',),\n",
       " ('santo antonio da patrulha',),\n",
       " ('barra mansa',),\n",
       " ('diamantina',),\n",
       " ('mairinque',),\n",
       " ('capitao leonidas marques',),\n",
       " ('sao sebastiao do paraiso',),\n",
       " ('rosario do sul',),\n",
       " ('itaguai',),\n",
       " ('paraopeba',),\n",
       " ('guarapuava',),\n",
       " ('crisolita',),\n",
       " ('pirai',),\n",
       " ('linhares',),\n",
       " ('agudos',),\n",
       " ('sao joao de meriti',),\n",
       " ('navegantes',),\n",
       " ('pirassununga',),\n",
       " ('faxinal dos guedes',),\n",
       " ('criciuma',),\n",
       " ('nova venecia',),\n",
       " ('passo fundo',),\n",
       " ('ibia',),\n",
       " ('manhuacu',),\n",
       " ('altamira',),\n",
       " ('aperibe',),\n",
       " ('cuiaba',),\n",
       " ('canoas',),\n",
       " ('cubatao',),\n",
       " ('campo limpo paulista',),\n",
       " ('cambe',),\n",
       " ('itaquaquecetuba',),\n",
       " ('sao caetano do sul',),\n",
       " ('sao goncalo do rio abaixo',),\n",
       " ('rolandia',),\n",
       " ('tres coracoes',),\n",
       " ('cacapava do sul',),\n",
       " ('sao joao nepomuceno',),\n",
       " ('leme',),\n",
       " ('araras',),\n",
       " ('cortes',),\n",
       " ('brusque',),\n",
       " ('montenegro',),\n",
       " ('itaberai',),\n",
       " ('santa rosa de viterbo',),\n",
       " ('agua fria de goias',),\n",
       " ('marau',),\n",
       " ('curvelo',),\n",
       " ('juiz de fora',),\n",
       " ('mogi-guacu',),\n",
       " ('guaratingueta',),\n",
       " ('paranagua',),\n",
       " ('lins',),\n",
       " ('campo bom',),\n",
       " ('sertaozinho',),\n",
       " ('tres lagoas',),\n",
       " ('jau',),\n",
       " ('campos de julio',),\n",
       " ('saquarema',),\n",
       " ('artur nogueira',),\n",
       " ('uaua',),\n",
       " ('jandira',),\n",
       " ('concordia',),\n",
       " ('nova friburgo',),\n",
       " ('sorocaba',),\n",
       " ('ponte nova',),\n",
       " ('araquari',),\n",
       " ('muriae',),\n",
       " ('nova lima',),\n",
       " ('inhumas',),\n",
       " ('italva',),\n",
       " ('tres rios',),\n",
       " ('santa maria',),\n",
       " ('itagiba',),\n",
       " ('paracatu',),\n",
       " ('xaxim',),\n",
       " ('laranjeiras do sul',),\n",
       " ('itapiuna',),\n",
       " ('formosa',),\n",
       " ('ivoti',),\n",
       " ('juazeiro',),\n",
       " ('ponta grossa',),\n",
       " ('campina grande',),\n",
       " ('maua',),\n",
       " ('salgueiro',),\n",
       " ('lorena',),\n",
       " ('toledo',),\n",
       " ('sao pedro da aldeia',),\n",
       " ('vianopolis',),\n",
       " ('arapiraca',),\n",
       " ('porto seguro',),\n",
       " ('ariquemes',),\n",
       " ('presidente getulio',),\n",
       " ('rio negro',),\n",
       " ('ribeirao pires',),\n",
       " ('sao jose da coroa grande',),\n",
       " ('agua doce do norte',),\n",
       " ('anapolis',),\n",
       " ('guararapes',),\n",
       " ('farroupilha',),\n",
       " ('almenara',),\n",
       " ('rio das ostras',),\n",
       " ('gravatai',),\n",
       " ('brumado',),\n",
       " ('marilia',),\n",
       " ('itabira',),\n",
       " ('claudia',),\n",
       " ('para de minas',),\n",
       " ('miguelopolis',),\n",
       " ('terra roxa',),\n",
       " ('araguari',),\n",
       " ('lages',),\n",
       " ('embu das artes',),\n",
       " ('limeira',),\n",
       " ('taubate',),\n",
       " ('santa fe do sul',),\n",
       " ('caieiras',),\n",
       " ('carangola',),\n",
       " ('chapada do norte',),\n",
       " ('loanda',),\n",
       " ('passa tres',),\n",
       " ('aracoiaba da serra',),\n",
       " ('itaborai',),\n",
       " ('vitoria',),\n",
       " ('sao bento do sul',),\n",
       " ('indaiatuba',),\n",
       " ('boituva',),\n",
       " ('teresopolis',),\n",
       " ('pinhalzinho',),\n",
       " ('petrolina',),\n",
       " ('natal',),\n",
       " ('barreiras',),\n",
       " ('januaria',),\n",
       " ('ipiabas',),\n",
       " ('firminopolis',),\n",
       " ('joinville',),\n",
       " ('mococa',),\n",
       " ('valenca',),\n",
       " ('sao miguel do oeste',),\n",
       " ('jales',),\n",
       " ('rio formoso',),\n",
       " ('angra dos reis',),\n",
       " ('alfredo chaves',),\n",
       " ('itapetinga',),\n",
       " ('gurupi',),\n",
       " ('nucleo residencial pilar',),\n",
       " ('coromandel',),\n",
       " ('charqueada',),\n",
       " ('itau de minas',),\n",
       " ('ibiruba',),\n",
       " ('bertioga',),\n",
       " ('ipiau',),\n",
       " ('matozinhos',),\n",
       " ('teresina',),\n",
       " ('entre rios',),\n",
       " ('juina',),\n",
       " ('mairipora',),\n",
       " ('marechal candido rondon',),\n",
       " ('avare',),\n",
       " ('icem',),\n",
       " ('sao sebastiao',),\n",
       " ('serra',),\n",
       " ('mirassol',),\n",
       " ('taperuaba',),\n",
       " ('alfenas',),\n",
       " ('leopoldina',),\n",
       " ('sao joao da boa vista',),\n",
       " ('parnamirim',),\n",
       " ('teixeira de freitas',),\n",
       " ('joao pessoa',),\n",
       " ('chacara',),\n",
       " ('rio novo do sul',),\n",
       " ('guapore',),\n",
       " ('rio branco',),\n",
       " ('ferraz de vasconcelos',),\n",
       " ('petrolandia',),\n",
       " ('araruna',),\n",
       " ('gravata',),\n",
       " ('alegre',),\n",
       " ('londrina',),\n",
       " ('senhor do bonfim',),\n",
       " ('santana de parnaiba',),\n",
       " ('piratininga',),\n",
       " ('monte carmelo',),\n",
       " ('ipiranga',),\n",
       " ('jacarei',),\n",
       " ('picos',),\n",
       " ('una',),\n",
       " ('taguai',),\n",
       " ('peabiru',),\n",
       " ('conquista',),\n",
       " ('bicas',),\n",
       " ('forquilha',),\n",
       " ('guaicara',),\n",
       " ('santa vitoria',),\n",
       " ('adamantina',),\n",
       " ('rio claro',),\n",
       " ('sao jose de uba',),\n",
       " ('sorriso',),\n",
       " ('aracaju',),\n",
       " ('conselheiro lafaiete',),\n",
       " ('taguatinga',),\n",
       " ('tiangua',),\n",
       " ('paranaiba',),\n",
       " ('david canabarro',),\n",
       " ('itarare',),\n",
       " ('cajueiro',),\n",
       " ('cruzeiro',),\n",
       " ('santa cruz do sul',),\n",
       " ('presidente epitacio',),\n",
       " ('castanhal',),\n",
       " ('cariacica',),\n",
       " ('bom jesus dos perdoes',),\n",
       " ('urucurituba',),\n",
       " ('olinda',),\n",
       " ('sao jose do rio pardo',),\n",
       " ('guapimirim',),\n",
       " ('vargem grande paulista',),\n",
       " ('chapeco',),\n",
       " ('videira',),\n",
       " ('canapi',),\n",
       " ('pontal do parana',),\n",
       " ('bento goncalves',),\n",
       " ('caceres',),\n",
       " ('bituruna',),\n",
       " ('sao bento do sapucai',),\n",
       " ('mage',),\n",
       " ('forquilhinha',),\n",
       " ('itaberaba',),\n",
       " ('gramado',),\n",
       " ('guacui',),\n",
       " ('pato branco',),\n",
       " ('itanhem',),\n",
       " ('palmas',),\n",
       " ('bage',),\n",
       " ('francisco morato',),\n",
       " ('cosmopolis',),\n",
       " ('carmo',),\n",
       " ('armacao dos buzios',),\n",
       " ('santa maria da vitoria',),\n",
       " ('pedro leopoldo',),\n",
       " ('tres marias',),\n",
       " ('santo antonio de padua',),\n",
       " ('porto feliz',),\n",
       " ('gaspar',),\n",
       " ('palhoca',),\n",
       " ('pouso alegre',),\n",
       " ('guaiuba',),\n",
       " ('fraiburgo',),\n",
       " ('aurea',),\n",
       " ('botucatu',),\n",
       " ('corumba',),\n",
       " ('cajamar',),\n",
       " ('queimados',),\n",
       " ('sao jorge do ivai',),\n",
       " ('nova laranjeiras',),\n",
       " ('guaxupe',),\n",
       " ('osvaldo cruz',),\n",
       " ('ivora',),\n",
       " ('anaurilandia',),\n",
       " ('caraguatatuba',),\n",
       " ('regeneracao',),\n",
       " ('bilac',),\n",
       " ('faxinal',),\n",
       " ('pedro velho',),\n",
       " ('uberaba',),\n",
       " ('viamao',),\n",
       " ('cachoeira de minas',),\n",
       " ('coelho neto',),\n",
       " ('itajobi',),\n",
       " ('carmo do rio claro',),\n",
       " ('marica',),\n",
       " ('campo novo do parecis',),\n",
       " ('boa vista',),\n",
       " ('ipameri',),\n",
       " ('carlos barbosa',),\n",
       " ('anicuns',),\n",
       " ('rio bananal',),\n",
       " ('lavras da mangabeira',),\n",
       " ('balsamo',),\n",
       " ('guariba',),\n",
       " ('sao vendelino',),\n",
       " ('campo mourao',),\n",
       " ('aracati',),\n",
       " ('santo antonio do descoberto',),\n",
       " ('santo amaro da imperatriz',),\n",
       " ('betim',),\n",
       " ('vicosa',),\n",
       " ('dom eliseu',),\n",
       " ('campo largo',),\n",
       " ('santa rosa de lima',),\n",
       " ('quissama',),\n",
       " ('mirandopolis',),\n",
       " ('itapevi',),\n",
       " ('francisco beltrao',),\n",
       " (\"dias d'avila\",),\n",
       " ('novo horizonte',),\n",
       " ('poa',),\n",
       " ('querencia',),\n",
       " ('campo grande',),\n",
       " ('pedreira',),\n",
       " ('pariquera-acu',),\n",
       " ('itabaianinha',),\n",
       " ('pitangui',),\n",
       " ('araruama',),\n",
       " ('campo formoso',),\n",
       " ('guanambi',),\n",
       " ('itapolis',),\n",
       " ('pederneiras',),\n",
       " ('itabirito',),\n",
       " ('itaipava',),\n",
       " ('arroio do sal',),\n",
       " ('glaura',),\n",
       " ('lagoa vermelha',),\n",
       " ('mantena',),\n",
       " ('peruibe',),\n",
       " ('tubarao',),\n",
       " ('bonfim',),\n",
       " ('alvorada',),\n",
       " ('patrocinio',),\n",
       " ('mineiros',),\n",
       " ('itabuna',),\n",
       " ('tijucas',),\n",
       " ('santo antonio de jesus',),\n",
       " ('canarana',),\n",
       " ('itapecerica da serra',),\n",
       " ('nova prata do iguacu',),\n",
       " ('treze tilias',),\n",
       " ('anchieta',),\n",
       " ('quatigua',),\n",
       " ('iturama',),\n",
       " ('tres de maio',),\n",
       " ('santa rita do passa quatro',),\n",
       " ('porto esperidiao',),\n",
       " ('bonfim paulista',),\n",
       " ('cajuru',),\n",
       " ('cacador',),\n",
       " ('paragominas',),\n",
       " ('boa esperanca do sul',),\n",
       " ('tres pontas',),\n",
       " ('juazeiro do norte',),\n",
       " ('bambui',),\n",
       " ('comendador levy gasparian',),\n",
       " ('sao miguel do aleixo',),\n",
       " ('palmeira dos indios',),\n",
       " ('cerquilho',),\n",
       " ('saudade do iguacu',),\n",
       " ('ipaussu',),\n",
       " ('alto paraiso de goias',),\n",
       " ('santa isabel',),\n",
       " ('quirinopolis',),\n",
       " ('caruaru',),\n",
       " ('casimiro de abreu',),\n",
       " ('chavantes',),\n",
       " ('ecoporanga',),\n",
       " ('cachoeira paulista',),\n",
       " ('rio verde',),\n",
       " ('maracanau',),\n",
       " ('canoinhas',),\n",
       " ('ituverava',),\n",
       " ('buriti dos lopes',),\n",
       " ('rio do antonio',),\n",
       " ('guaranta',),\n",
       " ('santa luzia',),\n",
       " ('tucurui',),\n",
       " ('paranavai',),\n",
       " ('pinhais',),\n",
       " ('governador valadares',),\n",
       " ('trajano de moraes',),\n",
       " ('caete',),\n",
       " ('abaetetuba',),\n",
       " ('lavras',),\n",
       " ('coronel joao sa',),\n",
       " ('divino',),\n",
       " ('macaubas',),\n",
       " ('lucelia',),\n",
       " ('brejo da madre de deus',),\n",
       " ('carai',),\n",
       " ('corbelia',),\n",
       " ('varginha',),\n",
       " ('ouro preto',),\n",
       " ('prado',),\n",
       " ('colniza',),\n",
       " ('piuma',),\n",
       " ('rancharia',),\n",
       " ('barretos',),\n",
       " ('eunapolis',),\n",
       " ('floresta',),\n",
       " ('sao jose do norte',),\n",
       " ('rio bonito',),\n",
       " ('vargem bonita',),\n",
       " ('monte mor',),\n",
       " ('valente',),\n",
       " ('balsas',),\n",
       " ('nhandeara',),\n",
       " ('lauro de freitas',),\n",
       " ('osorio',),\n",
       " ('machado',),\n",
       " ('sao leopoldo',),\n",
       " ('soledade',),\n",
       " ('assis',),\n",
       " ('guarapari',),\n",
       " ('santo antonio do caiua',),\n",
       " ('esteio',),\n",
       " ('cambuci',),\n",
       " ('campina grande do sul',),\n",
       " ('baixo guandu',),\n",
       " ('fernao',),\n",
       " ('ibitinga',),\n",
       " ('santa cruz das palmeiras',),\n",
       " ('vila muriqui',),\n",
       " ('sao mateus',),\n",
       " ('piracuruca',),\n",
       " ('cordeiro',),\n",
       " ('cachoeira do sul',),\n",
       " ('barra do pirai',),\n",
       " ('castro',),\n",
       " ('ico',),\n",
       " ('sete lagoas',),\n",
       " ('itumbiara',),\n",
       " ('aluminio',),\n",
       " ('jatai',),\n",
       " ('frederico westphalen',),\n",
       " ('goioere',),\n",
       " ('sao jose da tapera',),\n",
       " ('porto uniao',),\n",
       " ('cocalinho',),\n",
       " ('curitibanos',),\n",
       " ('campos novos',),\n",
       " ('ubatuba',),\n",
       " ('monte santo de minas',),\n",
       " ('ribeirao das neves',),\n",
       " ('sao simao',),\n",
       " ('urutai',),\n",
       " ('itaobim',),\n",
       " ('liberdade',),\n",
       " ('arcos',),\n",
       " ('ribeirao',),\n",
       " ('patos de minas',),\n",
       " ('penapolis',),\n",
       " ('eusebio',),\n",
       " ('cordeiros',),\n",
       " ('victor graeff',),\n",
       " ('santa rita do araguaia',),\n",
       " ('poxoreu',),\n",
       " ('ananas',),\n",
       " ('conceicao dos ouros',),\n",
       " ('alagoinhas',),\n",
       " ('sao joao da barra',),\n",
       " ('lindoia',),\n",
       " ('bonfinopolis',),\n",
       " ('ibiam',),\n",
       " ('morungaba',),\n",
       " ('andradina',),\n",
       " ('tatui',),\n",
       " ('mata verde',),\n",
       " ('cornelio procopio',),\n",
       " ('itapipoca',),\n",
       " ('queluz',),\n",
       " ('godoy moreira',),\n",
       " ('iracemapolis',),\n",
       " ('buritizeiro',),\n",
       " ('xique-xique',),\n",
       " ('uruacu',),\n",
       " ('japi',),\n",
       " ('itauna',),\n",
       " ('sao francisco de assis',),\n",
       " ('pitangueiras',),\n",
       " ('ze doca',),\n",
       " ('dracena',),\n",
       " ('cachoeiras de macacu',),\n",
       " ('barauna',),\n",
       " ('formiga',),\n",
       " ('rodeio',),\n",
       " ('jequie',),\n",
       " ('juvenilia',),\n",
       " ('poco fundo',),\n",
       " ('amparo',),\n",
       " ('lauro muller',),\n",
       " ('japeri',),\n",
       " ('ourinhos',),\n",
       " ('lagoa dos gatos',),\n",
       " ('embu-guacu',),\n",
       " ('nossa senhora do remedio',),\n",
       " ('tambau',),\n",
       " ('orlandia',),\n",
       " ('bananeiras',),\n",
       " ('sao joao do manhuacu',),\n",
       " ('sarandi',),\n",
       " ('congonhas',),\n",
       " ('boa esperanca',),\n",
       " ('sandolandia',),\n",
       " ('garca',),\n",
       " ('descalvado',),\n",
       " ('guaracai',),\n",
       " ('aruana',),\n",
       " ('inga',),\n",
       " ('taio',),\n",
       " ('gaurama',),\n",
       " ('praia grande',),\n",
       " ('janauba',),\n",
       " ('nova monte verde',),\n",
       " ('mongagua',),\n",
       " ('monte alto',),\n",
       " ('sao joao do piaui',),\n",
       " ('primavera do leste',),\n",
       " ('seropedica',),\n",
       " ('indaial',),\n",
       " ('teofilo otoni',),\n",
       " ('santa terezinha',),\n",
       " ('planaltina',),\n",
       " ('caravelas',),\n",
       " ('muritiba',),\n",
       " ('itatiba',),\n",
       " ('piumhii',),\n",
       " ('pitanga',),\n",
       " ('capelinha',),\n",
       " ('ipero',),\n",
       " ('tarabai',),\n",
       " ('aparecida do taboado',),\n",
       " ('maioba',),\n",
       " ('monnerat',),\n",
       " ('sao lourenco do sul',),\n",
       " ('biguacu',),\n",
       " ('venda nova do imigrante',),\n",
       " ('arapoti',),\n",
       " ('fazenda rio grande',),\n",
       " ('senges',),\n",
       " ('aracruz',),\n",
       " ('canela',),\n",
       " ('porto franco',),\n",
       " ('veranopolis',),\n",
       " ('candiota',),\n",
       " ('carmo do paranaiba',),\n",
       " ('itacare',),\n",
       " ('desembargador otoni',),\n",
       " ('joanopolis',),\n",
       " ('registro',),\n",
       " ('ipiranga do norte',),\n",
       " ('felipe guerra',),\n",
       " ('dumont',),\n",
       " ('itapetininga',),\n",
       " ('bom despacho',),\n",
       " ('lagoa santa',),\n",
       " ('estacao',),\n",
       " ('panorama',),\n",
       " ('palmares',),\n",
       " ('prata',),\n",
       " ('santa adelia',),\n",
       " ('iguaba grande',),\n",
       " ('sarzedo',),\n",
       " ('dourado',),\n",
       " ('alcinopolis',),\n",
       " ('limoeiro do norte',),\n",
       " ('ibiraci',),\n",
       " ('ilhabela',),\n",
       " ('icara',),\n",
       " ('paiva',),\n",
       " ('batatais',),\n",
       " ('formoso do araguaia',),\n",
       " ('itapaci',),\n",
       " ('fernandopolis',),\n",
       " ('miguel pereira',),\n",
       " ('tocos',),\n",
       " ('campos do jordao',),\n",
       " ('catalao',),\n",
       " ('sao jose da lapa',),\n",
       " ('marituba',),\n",
       " ('arapora',),\n",
       " ('turvo',),\n",
       " ('rubiataba',),\n",
       " ('guaruja do sul',),\n",
       " ('pedra bela',),\n",
       " ('perdizes',),\n",
       " ('jesuania',),\n",
       " ('antonio carlos',),\n",
       " ('itapecerica',),\n",
       " ('monte belo',),\n",
       " ('mossoro',),\n",
       " ('piraju',),\n",
       " ('encruzilhada do sul',),\n",
       " ('igaratinga',),\n",
       " ('sao luis de montes belos',),\n",
       " ('santa rosa',),\n",
       " ('lagoinha',),\n",
       " ('redentora',),\n",
       " ('cuite',),\n",
       " ('coxim',),\n",
       " ('lucas do rio verde',),\n",
       " ('ibirataia',),\n",
       " ('olimpia',),\n",
       " ('cedro',),\n",
       " ('mario campos',),\n",
       " ('umuarama',),\n",
       " ('nova xavantina',),\n",
       " ('sao borja',),\n",
       " ('aguai',),\n",
       " ('itapira',),\n",
       " ('uniao da vitoria',),\n",
       " ('nova odessa',),\n",
       " ('itapuranga',),\n",
       " ('nova cruz',),\n",
       " ('apuiares',),\n",
       " ('almirante tamandare',),\n",
       " ('correia pinto',),\n",
       " ('itamarandiba',),\n",
       " ('juscimeira',),\n",
       " ('ipora',),\n",
       " ('cedro de sao joao',),\n",
       " (\"santa barbara d'oeste\",),\n",
       " ('sao joao da urtiga',),\n",
       " ('valparaiso de goias',),\n",
       " ('jussara',),\n",
       " ('capao da canoa',),\n",
       " ('araxa',),\n",
       " ('campo belo',),\n",
       " ('monte aprazivel',),\n",
       " ('bom jesus do querendo',),\n",
       " ('socorro',),\n",
       " ('catanduva',),\n",
       " ('monte castelo',),\n",
       " ('tabatinga',),\n",
       " ('bayeux',),\n",
       " ('ijui',),\n",
       " ('tangara da serra',),\n",
       " ('campos borges',),\n",
       " ('palma',),\n",
       " ('minacu',),\n",
       " ('miracema',),\n",
       " ('taruma',),\n",
       " ('sao francisco do sul',),\n",
       " ('cedral',),\n",
       " ('camaragibe',),\n",
       " ('lajeado',),\n",
       " ('cerqueira cesar',),\n",
       " ('frutal',),\n",
       " ('igarata',),\n",
       " ('novo gama',),\n",
       " ('sapucaia do sul',),\n",
       " ('juquitiba',),\n",
       " ('terra boa',),\n",
       " ('joao monlevade',),\n",
       " ('porangatu',),\n",
       " ('formosa da serra negra',),\n",
       " ('rafard',),\n",
       " ('rainha do mar',),\n",
       " ('pontal',),\n",
       " ('rio do sul',),\n",
       " ('nilopolis',),\n",
       " ('maracaju',),\n",
       " ('santo augusto',),\n",
       " ('banabuiu',),\n",
       " ('buenopolis',),\n",
       " ('barbalha',),\n",
       " ('quintana',),\n",
       " ('chorrocho',),\n",
       " ('votuporanga',),\n",
       " ('poco verde',),\n",
       " ('cipo-guacu',),\n",
       " ('santarem',),\n",
       " ('santa clara do sul',),\n",
       " ('ibiuna',),\n",
       " ('capivari',),\n",
       " ('arraias',),\n",
       " ('patos',),\n",
       " ('sao francisco do guapore',),\n",
       " ('vitoria da conquista',),\n",
       " ('urucuca',),\n",
       " ('vacaria',),\n",
       " ('campos altos',),\n",
       " ('nossa senhora do socorro',),\n",
       " ('cruzeiro do sul',),\n",
       " ('cataguases',),\n",
       " ('varzea grande',),\n",
       " ('santa rita do sapucai',),\n",
       " ('jaboticabal',),\n",
       " ('ilha comprida',),\n",
       " ('brasilia de minas',),\n",
       " ('moreno',),\n",
       " ('capanema',),\n",
       " ('tombos',),\n",
       " ('espumoso',),\n",
       " ('ouro branco',),\n",
       " ('valenca do piaui',),\n",
       " ('igrejinha',),\n",
       " ('engenheiro coelho',),\n",
       " ('parauapebas',),\n",
       " ('afonso claudio',),\n",
       " ('sao bernardo',),\n",
       " ('salto do jacui',),\n",
       " ('pires do rio',),\n",
       " ('astorga',),\n",
       " ('medina',),\n",
       " ('porto ferreira',),\n",
       " ('aracariguama',),\n",
       " ('hidrolandia',),\n",
       " ('virginopolis',),\n",
       " ('soledade de minas',),\n",
       " ('casca',),\n",
       " ('sapiranga',),\n",
       " ('angatuba',),\n",
       " ('ibirapua',),\n",
       " ('itupeva',),\n",
       " ('espera feliz',),\n",
       " ('penedo',),\n",
       " ('ibirite',),\n",
       " ('miracatu',),\n",
       " ('francisco santos',),\n",
       " ('paracambi',),\n",
       " ('cardoso',),\n",
       " ('floriano',),\n",
       " ('rondonopolis',),\n",
       " ('barra de sao francisco',),\n",
       " ('lavinia',),\n",
       " ('guajara-mirim',),\n",
       " ('guimaraes',),\n",
       " ('sao tome',),\n",
       " ('medianeira',),\n",
       " ('conceicao das pedras',),\n",
       " ('rinopolis',),\n",
       " ('capim grosso',),\n",
       " ('guaira',),\n",
       " ('euclides da cunha paulista',),\n",
       " ('lagoa da prata',),\n",
       " ('nanuque',),\n",
       " ('luis antonio',),\n",
       " ('senador firmino',),\n",
       " ('viradouro',),\n",
       " ('itabera',),\n",
       " ('cambara',),\n",
       " ('sananduva',),\n",
       " ('tapera',),\n",
       " ('tupaciguara',),\n",
       " ('colombo',),\n",
       " ('ananindeua',),\n",
       " ('coribe',),\n",
       " ('rio doce',),\n",
       " ('mogi mirim',),\n",
       " ('tocos do moji',),\n",
       " ('beberibe',),\n",
       " ('formosa do rio preto',),\n",
       " ('claudio',),\n",
       " ('rio paranaiba',),\n",
       " ('humberto de campos',),\n",
       " ('camocim de sao felix',),\n",
       " ('santo antonio de posse',),\n",
       " ('mesquita',),\n",
       " ('passa quatro',),\n",
       " ('belo oriente',),\n",
       " ('alto araguaia',),\n",
       " ('igarassu',),\n",
       " ('porto velho',),\n",
       " ('cajazeiras',),\n",
       " ('garopaba',),\n",
       " ('rio azul',),\n",
       " ('dois corregos',),\n",
       " ('sooretama',),\n",
       " ('cruzeiro do oeste',),\n",
       " ('nazare paulista',),\n",
       " ('riversul',),\n",
       " ('iguaracu',),\n",
       " ('maracas',),\n",
       " ('parana',),\n",
       " ('reboucas',),\n",
       " ('ametista do sul',),\n",
       " ('itu',),\n",
       " ('cacu',),\n",
       " ('vespasiano',),\n",
       " ('lindolfo collor',),\n",
       " ('sao lourenco',),\n",
       " ('santana do sobrado',),\n",
       " ('cafelandia',),\n",
       " ('ibiapina',),\n",
       " ('schroeder',),\n",
       " ('sao joao do oriente',),\n",
       " ('matao',),\n",
       " ('itanhandu',),\n",
       " ('santo angelo',),\n",
       " ('capinopolis',),\n",
       " ('colatina',),\n",
       " ('nova mutum',),\n",
       " ('munhoz de melo',),\n",
       " ('ibate',),\n",
       " ('unai',),\n",
       " ('medeiros neto',),\n",
       " ('anta',),\n",
       " ('ouroeste',),\n",
       " ('central',),\n",
       " ('nova independencia',),\n",
       " ('itapema',),\n",
       " ('sao jose do cedro',),\n",
       " ('camutanga',),\n",
       " ('ipumirim',),\n",
       " ('cristalia',),\n",
       " ('andira',),\n",
       " ('panelas',),\n",
       " ('comodoro',),\n",
       " ('domingos martins',),\n",
       " ('tangua',),\n",
       " ('sao gotardo',),\n",
       " ('araguaina',),\n",
       " ('ilheus',),\n",
       " ('louveira',),\n",
       " ('imbituba',),\n",
       " ('ouricuri',),\n",
       " ('itatinga',),\n",
       " ('santo cristo',),\n",
       " (\"arraial d'ajuda\",),\n",
       " ('piracanjuba',),\n",
       " ('russas',),\n",
       " ('lambari',),\n",
       " ('vargem alta',),\n",
       " ('sacra familia do tingua',),\n",
       " ('assis chateaubriand',),\n",
       " ('lago da pedra',),\n",
       " ('unistalda',),\n",
       " ('sao joao evangelista',),\n",
       " ('paramirim',),\n",
       " ('goias',),\n",
       " ('paracuru',),\n",
       " ('cruz alta',),\n",
       " ('presidente bernardes',),\n",
       " ('pains',),\n",
       " ('sao goncalo do rio preto',),\n",
       " ('jacinto machado',),\n",
       " ('sobralia',),\n",
       " ('maraba',),\n",
       " ('paraibuna',),\n",
       " ('toropi',),\n",
       " ('jauru',),\n",
       " ('cristalandia',),\n",
       " ('castelo do piaui',),\n",
       " ('ibipora',),\n",
       " ('presidente dutra',),\n",
       " ('vera cruz',),\n",
       " ('paulo frontin',),\n",
       " ...]"
      ]
     },
     "execution_count": 3,
     "metadata": {},
     "output_type": "execute_result"
    }
   ],
   "source": [
    "query = \"\"\" SELECT DISTINCT customer_city FROM customers  \"\"\"\n",
    "\n",
    "cur.execute(query)\n",
    "\n",
    "data=cur.fetchall()\n",
    "\n",
    "data"
   ]
  },
  {
   "cell_type": "markdown",
   "metadata": {},
   "source": [
    "### 2. Count the number of orders placed in 2017."
   ]
  },
  {
   "cell_type": "code",
   "execution_count": 9,
   "metadata": {},
   "outputs": [
    {
     "name": "stdout",
     "output_type": "stream",
     "text": [
      "Total Orders Placed in 2017 are :- 45101\n"
     ]
    }
   ],
   "source": [
    "query = \"\"\" SELECT \n",
    "    COUNT(*)\n",
    "FROM\n",
    "    orders\n",
    "WHERE\n",
    "    order_purchase_timestamp BETWEEN '2017-01-01' AND '2018-01-01';  \"\"\"\n",
    "\n",
    "cur.execute(query)\n",
    "\n",
    "data=cur.fetchall()\n",
    "\n",
    "print(\"Total Orders Placed in 2017 are :-\",data[0][0])"
   ]
  },
  {
   "cell_type": "markdown",
   "metadata": {},
   "source": [
    "### 3. Find the total sales per category."
   ]
  },
  {
   "cell_type": "code",
   "execution_count": 14,
   "metadata": {},
   "outputs": [
    {
     "data": {
      "text/plain": [
       "[('PERFUMERY', 506738.66),\n",
       " ('FURNITURE DECORATION', 1430176.39),\n",
       " ('TELEPHONY', 486882.05),\n",
       " ('BED TABLE BATH', 1712553.67),\n",
       " ('AUTOMOTIVE', 852294.33),\n",
       " ('COMPUTER ACCESSORIES', 1585330.45),\n",
       " ('HOUSEWARES', 1094758.13),\n",
       " ('BABIES', 539845.66),\n",
       " ('TOYS', 619037.69),\n",
       " ('FURNITURE OFFICE', 646826.49),\n",
       " ('COOL STUFF', 779698.0),\n",
       " ('HEALTH BEAUTY', 1657373.12),\n",
       " ('PET SHOP', 311268.97),\n",
       " ('GENERAL INTEREST BOOKS', 64694.76),\n",
       " ('STATIONARY STORE', 317440.07),\n",
       " ('WATCHES PRESENT', 1429216.68),\n",
       " ('PCS', 279121.55),\n",
       " ('CLIMATIZATION', 91170.66),\n",
       " ('CONSTRUCTION TOOLS CONSTRUCTION', 241475.63),\n",
       " ('SPORT LEISURE', 1392127.56),\n",
       " ('BAGS ACCESSORIES', 187151.29),\n",
       " ('ELECTRONICS', 259857.1),\n",
       " ('CASA CONSTRUCAO', 136645.29),\n",
       " ('GAMES CONSOLES', 195480.38),\n",
       " ('FASHION BAGS AND ACCESSORIES', 218158.28),\n",
       " ('HOME APPLIANCES', 95532.27),\n",
       " ('GARDEN TOOLS', 838280.75),\n",
       " ('AGRO INDUSTRIA E COMERCIO', 118730.61),\n",
       " (None, 252801.71),\n",
       " ('AUDIO', 60324.62),\n",
       " ('TECHNICAL BOOKS', 24915.44),\n",
       " ('CONSTRUCTION TOOLS GARDEN', 42394.41),\n",
       " ('MARKET PLACE', 45335.92),\n",
       " ('MUSICAL INSTRUMENTS', 233074.12),\n",
       " ('DRINK FOODS', 27289.73),\n",
       " ('SIGNALIZATION AND SAFETY', 68488.05),\n",
       " ('FURNITURE KITCHEN SERVICE AREA DINNER AND GARDEN', 74660.98),\n",
       " ('SONG', 6901.43),\n",
       " ('HOUSE PASTALS OVEN AND CAFE', 51229.32),\n",
       " ('FIXED TELEPHONY', 207010.26),\n",
       " ('ROOM FURNITURE', 136138.77),\n",
       " ('CONSTRUCTION TOOLS TOOLS', 21069.07),\n",
       " ('HOUSE COMFORT', 84329.06),\n",
       " ('INDUSTRY COMMERCE AND BUSINESS', 56745.76),\n",
       " ('CONSTRUCTION TOOLS ILLUMINATION', 72712.48),\n",
       " ('ELECTRICES 2', 124563.46),\n",
       " ('FASHION CALCADOS', 32422.74),\n",
       " ('FASHION UNDERWEAR AND BEACH FASHION', 12714.54),\n",
       " ('ELECTROSTILE', 225584.38),\n",
       " ('FOODS', 46428.67),\n",
       " ('IMAGE IMPORT TABLETS', 10042.93),\n",
       " ('ART', 30992.93),\n",
       " ('DRINKS', 71429.65),\n",
       " ('ARTS AND CRAFTS', 2326.17),\n",
       " (\"FASHION WOMEN'S CLOTHING\", 5109.62),\n",
       " ('FLOWERS', 2213.01),\n",
       " (\"FASHION MEN'S CLOTHING\", 17290.98),\n",
       " ('FASHION SPORT', 3645.92),\n",
       " ('CONSTRUCTION SECURITY TOOLS', 65691.03),\n",
       " ('CHRISTMAS ARTICLES', 18994.77),\n",
       " ('FURNITURE', 31598.94),\n",
       " ('IMPORTED BOOKS', 6701.89),\n",
       " ('CINE PHOTO', 9530.32),\n",
       " ('BLU RAY DVDS', 7935.28),\n",
       " ('PARTY ARTICLES', 5966.31),\n",
       " ('HYGIENE DIAPERS', 4221.25),\n",
       " ('HOUSE COMFORT 2', 1710.54),\n",
       " ('CITTE AND UPHACK FURNITURE', 5998.54),\n",
       " ('KITCHEN PORTABLE AND FOOD COACH', 4335.65),\n",
       " ('CDS MUSIC DVDS', 1199.43),\n",
       " ('LA CUISINE', 2913.53),\n",
       " (\"FASHION CHILDREN'S CLOTHING\", 785.67),\n",
       " ('PC GAMER', 2174.43),\n",
       " ('INSURANCE AND SERVICES', 324.51)]"
      ]
     },
     "execution_count": 14,
     "metadata": {},
     "output_type": "execute_result"
    }
   ],
   "source": [
    "query = \"\"\" SELECT UPPER(products.product_category) AS Category , \n",
    "round(sum(payments.payment_value),2) AS Sales\n",
    "FROM products\n",
    "JOIN order_items\n",
    "ON products.product_id=order_items.product_id\n",
    "JOIN payments\n",
    "ON payments.order_id=order_items.order_id\n",
    "GROUP BY product_category; \"\"\"\n",
    "\n",
    "cur.execute(query)\n",
    "\n",
    "data=cur.fetchall()\n",
    "\n",
    "data"
   ]
  },
  {
   "cell_type": "code",
   "execution_count": 18,
   "metadata": {},
   "outputs": [
    {
     "data": {
      "text/html": [
       "<div>\n",
       "<style scoped>\n",
       "    .dataframe tbody tr th:only-of-type {\n",
       "        vertical-align: middle;\n",
       "    }\n",
       "\n",
       "    .dataframe tbody tr th {\n",
       "        vertical-align: top;\n",
       "    }\n",
       "\n",
       "    .dataframe thead th {\n",
       "        text-align: right;\n",
       "    }\n",
       "</style>\n",
       "<table border=\"1\" class=\"dataframe\">\n",
       "  <thead>\n",
       "    <tr style=\"text-align: right;\">\n",
       "      <th></th>\n",
       "      <th>Category</th>\n",
       "      <th>Sales</th>\n",
       "    </tr>\n",
       "  </thead>\n",
       "  <tbody>\n",
       "    <tr>\n",
       "      <th>0</th>\n",
       "      <td>PERFUMERY</td>\n",
       "      <td>506738.66</td>\n",
       "    </tr>\n",
       "    <tr>\n",
       "      <th>1</th>\n",
       "      <td>FURNITURE DECORATION</td>\n",
       "      <td>1430176.39</td>\n",
       "    </tr>\n",
       "    <tr>\n",
       "      <th>2</th>\n",
       "      <td>TELEPHONY</td>\n",
       "      <td>486882.05</td>\n",
       "    </tr>\n",
       "    <tr>\n",
       "      <th>3</th>\n",
       "      <td>BED TABLE BATH</td>\n",
       "      <td>1712553.67</td>\n",
       "    </tr>\n",
       "    <tr>\n",
       "      <th>4</th>\n",
       "      <td>AUTOMOTIVE</td>\n",
       "      <td>852294.33</td>\n",
       "    </tr>\n",
       "    <tr>\n",
       "      <th>...</th>\n",
       "      <td>...</td>\n",
       "      <td>...</td>\n",
       "    </tr>\n",
       "    <tr>\n",
       "      <th>69</th>\n",
       "      <td>CDS MUSIC DVDS</td>\n",
       "      <td>1199.43</td>\n",
       "    </tr>\n",
       "    <tr>\n",
       "      <th>70</th>\n",
       "      <td>LA CUISINE</td>\n",
       "      <td>2913.53</td>\n",
       "    </tr>\n",
       "    <tr>\n",
       "      <th>71</th>\n",
       "      <td>FASHION CHILDREN'S CLOTHING</td>\n",
       "      <td>785.67</td>\n",
       "    </tr>\n",
       "    <tr>\n",
       "      <th>72</th>\n",
       "      <td>PC GAMER</td>\n",
       "      <td>2174.43</td>\n",
       "    </tr>\n",
       "    <tr>\n",
       "      <th>73</th>\n",
       "      <td>INSURANCE AND SERVICES</td>\n",
       "      <td>324.51</td>\n",
       "    </tr>\n",
       "  </tbody>\n",
       "</table>\n",
       "<p>74 rows × 2 columns</p>\n",
       "</div>"
      ],
      "text/plain": [
       "                       Category       Sales\n",
       "0                     PERFUMERY   506738.66\n",
       "1          FURNITURE DECORATION  1430176.39\n",
       "2                     TELEPHONY   486882.05\n",
       "3                BED TABLE BATH  1712553.67\n",
       "4                    AUTOMOTIVE   852294.33\n",
       "..                          ...         ...\n",
       "69               CDS MUSIC DVDS     1199.43\n",
       "70                   LA CUISINE     2913.53\n",
       "71  FASHION CHILDREN'S CLOTHING      785.67\n",
       "72                     PC GAMER     2174.43\n",
       "73       INSURANCE AND SERVICES      324.51\n",
       "\n",
       "[74 rows x 2 columns]"
      ]
     },
     "execution_count": 18,
     "metadata": {},
     "output_type": "execute_result"
    }
   ],
   "source": [
    "total_sales_per_category=pd.DataFrame(data, columns=[\"Category\",\"Sales\"])\n",
    "total_sales_per_category"
   ]
  },
  {
   "cell_type": "code",
   "execution_count": 21,
   "metadata": {},
   "outputs": [
    {
     "data": {
      "text/plain": [
       "73"
      ]
     },
     "execution_count": 21,
     "metadata": {},
     "output_type": "execute_result"
    }
   ],
   "source": [
    "total_sales_per_category[\"Category\"].nunique()"
   ]
  },
  {
   "cell_type": "code",
   "execution_count": 22,
   "metadata": {},
   "outputs": [
    {
     "data": {
      "application/vnd.plotly.v1+json": {
       "config": {
        "plotlyServerURL": "https://plot.ly"
       },
       "data": [
        {
         "alignmentgroup": "True",
         "hovertemplate": "Category=%{x}<br>Sales=%{y}<extra></extra>",
         "legendgroup": "",
         "marker": {
          "color": "#636efa",
          "pattern": {
           "shape": ""
          }
         },
         "name": "",
         "offsetgroup": "",
         "orientation": "v",
         "showlegend": false,
         "textposition": "auto",
         "type": "bar",
         "x": [
          "PERFUMERY",
          "FURNITURE DECORATION",
          "TELEPHONY",
          "BED TABLE BATH",
          "AUTOMOTIVE",
          "COMPUTER ACCESSORIES",
          "HOUSEWARES",
          "BABIES",
          "TOYS",
          "FURNITURE OFFICE",
          "COOL STUFF",
          "HEALTH BEAUTY",
          "PET SHOP",
          "GENERAL INTEREST BOOKS",
          "STATIONARY STORE",
          "WATCHES PRESENT",
          "PCS",
          "CLIMATIZATION",
          "CONSTRUCTION TOOLS CONSTRUCTION",
          "SPORT LEISURE",
          "BAGS ACCESSORIES",
          "ELECTRONICS",
          "CASA CONSTRUCAO",
          "GAMES CONSOLES",
          "FASHION BAGS AND ACCESSORIES",
          "HOME APPLIANCES",
          "GARDEN TOOLS",
          "AGRO INDUSTRIA E COMERCIO",
          null,
          "AUDIO",
          "TECHNICAL BOOKS",
          "CONSTRUCTION TOOLS GARDEN",
          "MARKET PLACE",
          "MUSICAL INSTRUMENTS",
          "DRINK FOODS",
          "SIGNALIZATION AND SAFETY",
          "FURNITURE KITCHEN SERVICE AREA DINNER AND GARDEN",
          "SONG",
          "HOUSE PASTALS OVEN AND CAFE",
          "FIXED TELEPHONY",
          "ROOM FURNITURE",
          "CONSTRUCTION TOOLS TOOLS",
          "HOUSE COMFORT",
          "INDUSTRY COMMERCE AND BUSINESS",
          "CONSTRUCTION TOOLS ILLUMINATION",
          "ELECTRICES 2",
          "FASHION CALCADOS",
          "FASHION UNDERWEAR AND BEACH FASHION",
          "ELECTROSTILE",
          "FOODS",
          "IMAGE IMPORT TABLETS",
          "ART",
          "DRINKS",
          "ARTS AND CRAFTS",
          "FASHION WOMEN'S CLOTHING",
          "FLOWERS",
          "FASHION MEN'S CLOTHING",
          "FASHION SPORT",
          "CONSTRUCTION SECURITY TOOLS",
          "CHRISTMAS ARTICLES",
          "FURNITURE",
          "IMPORTED BOOKS",
          "CINE PHOTO",
          "BLU RAY DVDS",
          "PARTY ARTICLES",
          "HYGIENE DIAPERS",
          "HOUSE COMFORT 2",
          "CITTE AND UPHACK FURNITURE",
          "KITCHEN PORTABLE AND FOOD COACH",
          "CDS MUSIC DVDS",
          "LA CUISINE",
          "FASHION CHILDREN'S CLOTHING",
          "PC GAMER",
          "INSURANCE AND SERVICES"
         ],
         "xaxis": "x",
         "y": [
          506738.66,
          1430176.39,
          486882.05,
          1712553.67,
          852294.33,
          1585330.45,
          1094758.13,
          539845.66,
          619037.69,
          646826.49,
          779698,
          1657373.12,
          311268.97,
          64694.76,
          317440.07,
          1429216.68,
          279121.55,
          91170.66,
          241475.63,
          1392127.56,
          187151.29,
          259857.1,
          136645.29,
          195480.38,
          218158.28,
          95532.27,
          838280.75,
          118730.61,
          252801.71,
          60324.62,
          24915.44,
          42394.41,
          45335.92,
          233074.12,
          27289.73,
          68488.05,
          74660.98,
          6901.43,
          51229.32,
          207010.26,
          136138.77,
          21069.07,
          84329.06,
          56745.76,
          72712.48,
          124563.46,
          32422.74,
          12714.54,
          225584.38,
          46428.67,
          10042.93,
          30992.93,
          71429.65,
          2326.17,
          5109.62,
          2213.01,
          17290.98,
          3645.92,
          65691.03,
          18994.77,
          31598.94,
          6701.89,
          9530.32,
          7935.28,
          5966.31,
          4221.25,
          1710.54,
          5998.54,
          4335.65,
          1199.43,
          2913.53,
          785.67,
          2174.43,
          324.51
         ],
         "yaxis": "y"
        }
       ],
       "layout": {
        "barmode": "relative",
        "legend": {
         "tracegroupgap": 0
        },
        "margin": {
         "t": 60
        },
        "template": {
         "data": {
          "bar": [
           {
            "error_x": {
             "color": "#2a3f5f"
            },
            "error_y": {
             "color": "#2a3f5f"
            },
            "marker": {
             "line": {
              "color": "#E5ECF6",
              "width": 0.5
             },
             "pattern": {
              "fillmode": "overlay",
              "size": 10,
              "solidity": 0.2
             }
            },
            "type": "bar"
           }
          ],
          "barpolar": [
           {
            "marker": {
             "line": {
              "color": "#E5ECF6",
              "width": 0.5
             },
             "pattern": {
              "fillmode": "overlay",
              "size": 10,
              "solidity": 0.2
             }
            },
            "type": "barpolar"
           }
          ],
          "carpet": [
           {
            "aaxis": {
             "endlinecolor": "#2a3f5f",
             "gridcolor": "white",
             "linecolor": "white",
             "minorgridcolor": "white",
             "startlinecolor": "#2a3f5f"
            },
            "baxis": {
             "endlinecolor": "#2a3f5f",
             "gridcolor": "white",
             "linecolor": "white",
             "minorgridcolor": "white",
             "startlinecolor": "#2a3f5f"
            },
            "type": "carpet"
           }
          ],
          "choropleth": [
           {
            "colorbar": {
             "outlinewidth": 0,
             "ticks": ""
            },
            "type": "choropleth"
           }
          ],
          "contour": [
           {
            "colorbar": {
             "outlinewidth": 0,
             "ticks": ""
            },
            "colorscale": [
             [
              0,
              "#0d0887"
             ],
             [
              0.1111111111111111,
              "#46039f"
             ],
             [
              0.2222222222222222,
              "#7201a8"
             ],
             [
              0.3333333333333333,
              "#9c179e"
             ],
             [
              0.4444444444444444,
              "#bd3786"
             ],
             [
              0.5555555555555556,
              "#d8576b"
             ],
             [
              0.6666666666666666,
              "#ed7953"
             ],
             [
              0.7777777777777778,
              "#fb9f3a"
             ],
             [
              0.8888888888888888,
              "#fdca26"
             ],
             [
              1,
              "#f0f921"
             ]
            ],
            "type": "contour"
           }
          ],
          "contourcarpet": [
           {
            "colorbar": {
             "outlinewidth": 0,
             "ticks": ""
            },
            "type": "contourcarpet"
           }
          ],
          "heatmap": [
           {
            "colorbar": {
             "outlinewidth": 0,
             "ticks": ""
            },
            "colorscale": [
             [
              0,
              "#0d0887"
             ],
             [
              0.1111111111111111,
              "#46039f"
             ],
             [
              0.2222222222222222,
              "#7201a8"
             ],
             [
              0.3333333333333333,
              "#9c179e"
             ],
             [
              0.4444444444444444,
              "#bd3786"
             ],
             [
              0.5555555555555556,
              "#d8576b"
             ],
             [
              0.6666666666666666,
              "#ed7953"
             ],
             [
              0.7777777777777778,
              "#fb9f3a"
             ],
             [
              0.8888888888888888,
              "#fdca26"
             ],
             [
              1,
              "#f0f921"
             ]
            ],
            "type": "heatmap"
           }
          ],
          "heatmapgl": [
           {
            "colorbar": {
             "outlinewidth": 0,
             "ticks": ""
            },
            "colorscale": [
             [
              0,
              "#0d0887"
             ],
             [
              0.1111111111111111,
              "#46039f"
             ],
             [
              0.2222222222222222,
              "#7201a8"
             ],
             [
              0.3333333333333333,
              "#9c179e"
             ],
             [
              0.4444444444444444,
              "#bd3786"
             ],
             [
              0.5555555555555556,
              "#d8576b"
             ],
             [
              0.6666666666666666,
              "#ed7953"
             ],
             [
              0.7777777777777778,
              "#fb9f3a"
             ],
             [
              0.8888888888888888,
              "#fdca26"
             ],
             [
              1,
              "#f0f921"
             ]
            ],
            "type": "heatmapgl"
           }
          ],
          "histogram": [
           {
            "marker": {
             "pattern": {
              "fillmode": "overlay",
              "size": 10,
              "solidity": 0.2
             }
            },
            "type": "histogram"
           }
          ],
          "histogram2d": [
           {
            "colorbar": {
             "outlinewidth": 0,
             "ticks": ""
            },
            "colorscale": [
             [
              0,
              "#0d0887"
             ],
             [
              0.1111111111111111,
              "#46039f"
             ],
             [
              0.2222222222222222,
              "#7201a8"
             ],
             [
              0.3333333333333333,
              "#9c179e"
             ],
             [
              0.4444444444444444,
              "#bd3786"
             ],
             [
              0.5555555555555556,
              "#d8576b"
             ],
             [
              0.6666666666666666,
              "#ed7953"
             ],
             [
              0.7777777777777778,
              "#fb9f3a"
             ],
             [
              0.8888888888888888,
              "#fdca26"
             ],
             [
              1,
              "#f0f921"
             ]
            ],
            "type": "histogram2d"
           }
          ],
          "histogram2dcontour": [
           {
            "colorbar": {
             "outlinewidth": 0,
             "ticks": ""
            },
            "colorscale": [
             [
              0,
              "#0d0887"
             ],
             [
              0.1111111111111111,
              "#46039f"
             ],
             [
              0.2222222222222222,
              "#7201a8"
             ],
             [
              0.3333333333333333,
              "#9c179e"
             ],
             [
              0.4444444444444444,
              "#bd3786"
             ],
             [
              0.5555555555555556,
              "#d8576b"
             ],
             [
              0.6666666666666666,
              "#ed7953"
             ],
             [
              0.7777777777777778,
              "#fb9f3a"
             ],
             [
              0.8888888888888888,
              "#fdca26"
             ],
             [
              1,
              "#f0f921"
             ]
            ],
            "type": "histogram2dcontour"
           }
          ],
          "mesh3d": [
           {
            "colorbar": {
             "outlinewidth": 0,
             "ticks": ""
            },
            "type": "mesh3d"
           }
          ],
          "parcoords": [
           {
            "line": {
             "colorbar": {
              "outlinewidth": 0,
              "ticks": ""
             }
            },
            "type": "parcoords"
           }
          ],
          "pie": [
           {
            "automargin": true,
            "type": "pie"
           }
          ],
          "scatter": [
           {
            "fillpattern": {
             "fillmode": "overlay",
             "size": 10,
             "solidity": 0.2
            },
            "type": "scatter"
           }
          ],
          "scatter3d": [
           {
            "line": {
             "colorbar": {
              "outlinewidth": 0,
              "ticks": ""
             }
            },
            "marker": {
             "colorbar": {
              "outlinewidth": 0,
              "ticks": ""
             }
            },
            "type": "scatter3d"
           }
          ],
          "scattercarpet": [
           {
            "marker": {
             "colorbar": {
              "outlinewidth": 0,
              "ticks": ""
             }
            },
            "type": "scattercarpet"
           }
          ],
          "scattergeo": [
           {
            "marker": {
             "colorbar": {
              "outlinewidth": 0,
              "ticks": ""
             }
            },
            "type": "scattergeo"
           }
          ],
          "scattergl": [
           {
            "marker": {
             "colorbar": {
              "outlinewidth": 0,
              "ticks": ""
             }
            },
            "type": "scattergl"
           }
          ],
          "scattermapbox": [
           {
            "marker": {
             "colorbar": {
              "outlinewidth": 0,
              "ticks": ""
             }
            },
            "type": "scattermapbox"
           }
          ],
          "scatterpolar": [
           {
            "marker": {
             "colorbar": {
              "outlinewidth": 0,
              "ticks": ""
             }
            },
            "type": "scatterpolar"
           }
          ],
          "scatterpolargl": [
           {
            "marker": {
             "colorbar": {
              "outlinewidth": 0,
              "ticks": ""
             }
            },
            "type": "scatterpolargl"
           }
          ],
          "scatterternary": [
           {
            "marker": {
             "colorbar": {
              "outlinewidth": 0,
              "ticks": ""
             }
            },
            "type": "scatterternary"
           }
          ],
          "surface": [
           {
            "colorbar": {
             "outlinewidth": 0,
             "ticks": ""
            },
            "colorscale": [
             [
              0,
              "#0d0887"
             ],
             [
              0.1111111111111111,
              "#46039f"
             ],
             [
              0.2222222222222222,
              "#7201a8"
             ],
             [
              0.3333333333333333,
              "#9c179e"
             ],
             [
              0.4444444444444444,
              "#bd3786"
             ],
             [
              0.5555555555555556,
              "#d8576b"
             ],
             [
              0.6666666666666666,
              "#ed7953"
             ],
             [
              0.7777777777777778,
              "#fb9f3a"
             ],
             [
              0.8888888888888888,
              "#fdca26"
             ],
             [
              1,
              "#f0f921"
             ]
            ],
            "type": "surface"
           }
          ],
          "table": [
           {
            "cells": {
             "fill": {
              "color": "#EBF0F8"
             },
             "line": {
              "color": "white"
             }
            },
            "header": {
             "fill": {
              "color": "#C8D4E3"
             },
             "line": {
              "color": "white"
             }
            },
            "type": "table"
           }
          ]
         },
         "layout": {
          "annotationdefaults": {
           "arrowcolor": "#2a3f5f",
           "arrowhead": 0,
           "arrowwidth": 1
          },
          "autotypenumbers": "strict",
          "coloraxis": {
           "colorbar": {
            "outlinewidth": 0,
            "ticks": ""
           }
          },
          "colorscale": {
           "diverging": [
            [
             0,
             "#8e0152"
            ],
            [
             0.1,
             "#c51b7d"
            ],
            [
             0.2,
             "#de77ae"
            ],
            [
             0.3,
             "#f1b6da"
            ],
            [
             0.4,
             "#fde0ef"
            ],
            [
             0.5,
             "#f7f7f7"
            ],
            [
             0.6,
             "#e6f5d0"
            ],
            [
             0.7,
             "#b8e186"
            ],
            [
             0.8,
             "#7fbc41"
            ],
            [
             0.9,
             "#4d9221"
            ],
            [
             1,
             "#276419"
            ]
           ],
           "sequential": [
            [
             0,
             "#0d0887"
            ],
            [
             0.1111111111111111,
             "#46039f"
            ],
            [
             0.2222222222222222,
             "#7201a8"
            ],
            [
             0.3333333333333333,
             "#9c179e"
            ],
            [
             0.4444444444444444,
             "#bd3786"
            ],
            [
             0.5555555555555556,
             "#d8576b"
            ],
            [
             0.6666666666666666,
             "#ed7953"
            ],
            [
             0.7777777777777778,
             "#fb9f3a"
            ],
            [
             0.8888888888888888,
             "#fdca26"
            ],
            [
             1,
             "#f0f921"
            ]
           ],
           "sequentialminus": [
            [
             0,
             "#0d0887"
            ],
            [
             0.1111111111111111,
             "#46039f"
            ],
            [
             0.2222222222222222,
             "#7201a8"
            ],
            [
             0.3333333333333333,
             "#9c179e"
            ],
            [
             0.4444444444444444,
             "#bd3786"
            ],
            [
             0.5555555555555556,
             "#d8576b"
            ],
            [
             0.6666666666666666,
             "#ed7953"
            ],
            [
             0.7777777777777778,
             "#fb9f3a"
            ],
            [
             0.8888888888888888,
             "#fdca26"
            ],
            [
             1,
             "#f0f921"
            ]
           ]
          },
          "colorway": [
           "#636efa",
           "#EF553B",
           "#00cc96",
           "#ab63fa",
           "#FFA15A",
           "#19d3f3",
           "#FF6692",
           "#B6E880",
           "#FF97FF",
           "#FECB52"
          ],
          "font": {
           "color": "#2a3f5f"
          },
          "geo": {
           "bgcolor": "white",
           "lakecolor": "white",
           "landcolor": "#E5ECF6",
           "showlakes": true,
           "showland": true,
           "subunitcolor": "white"
          },
          "hoverlabel": {
           "align": "left"
          },
          "hovermode": "closest",
          "mapbox": {
           "style": "light"
          },
          "paper_bgcolor": "white",
          "plot_bgcolor": "#E5ECF6",
          "polar": {
           "angularaxis": {
            "gridcolor": "white",
            "linecolor": "white",
            "ticks": ""
           },
           "bgcolor": "#E5ECF6",
           "radialaxis": {
            "gridcolor": "white",
            "linecolor": "white",
            "ticks": ""
           }
          },
          "scene": {
           "xaxis": {
            "backgroundcolor": "#E5ECF6",
            "gridcolor": "white",
            "gridwidth": 2,
            "linecolor": "white",
            "showbackground": true,
            "ticks": "",
            "zerolinecolor": "white"
           },
           "yaxis": {
            "backgroundcolor": "#E5ECF6",
            "gridcolor": "white",
            "gridwidth": 2,
            "linecolor": "white",
            "showbackground": true,
            "ticks": "",
            "zerolinecolor": "white"
           },
           "zaxis": {
            "backgroundcolor": "#E5ECF6",
            "gridcolor": "white",
            "gridwidth": 2,
            "linecolor": "white",
            "showbackground": true,
            "ticks": "",
            "zerolinecolor": "white"
           }
          },
          "shapedefaults": {
           "line": {
            "color": "#2a3f5f"
           }
          },
          "ternary": {
           "aaxis": {
            "gridcolor": "white",
            "linecolor": "white",
            "ticks": ""
           },
           "baxis": {
            "gridcolor": "white",
            "linecolor": "white",
            "ticks": ""
           },
           "bgcolor": "#E5ECF6",
           "caxis": {
            "gridcolor": "white",
            "linecolor": "white",
            "ticks": ""
           }
          },
          "title": {
           "x": 0.05
          },
          "xaxis": {
           "automargin": true,
           "gridcolor": "white",
           "linecolor": "white",
           "ticks": "",
           "title": {
            "standoff": 15
           },
           "zerolinecolor": "white",
           "zerolinewidth": 2
          },
          "yaxis": {
           "automargin": true,
           "gridcolor": "white",
           "linecolor": "white",
           "ticks": "",
           "title": {
            "standoff": 15
           },
           "zerolinecolor": "white",
           "zerolinewidth": 2
          }
         }
        },
        "xaxis": {
         "anchor": "y",
         "domain": [
          0,
          1
         ],
         "title": {
          "text": "Category"
         }
        },
        "yaxis": {
         "anchor": "x",
         "domain": [
          0,
          1
         ],
         "title": {
          "text": "Sales"
         }
        }
       }
      }
     },
     "metadata": {},
     "output_type": "display_data"
    }
   ],
   "source": [
    "px.bar(total_sales_per_category , x=\"Category\", y=\"Sales\")"
   ]
  },
  {
   "cell_type": "markdown",
   "metadata": {},
   "source": [
    "### 4. Calculate the percentage of orders that were paid in installments."
   ]
  },
  {
   "cell_type": "code",
   "execution_count": 27,
   "metadata": {},
   "outputs": [
    {
     "data": {
      "text/plain": [
       "Decimal('99.9981')"
      ]
     },
     "execution_count": 27,
     "metadata": {},
     "output_type": "execute_result"
    }
   ],
   "source": [
    "query = \"\"\"SELECT SUM(CASE WHEN payment_installments >=1 THEN 1 \n",
    "ELSE 0 END) /count(payment_installments)*100 AS Percentage FROM payments;\"\"\"\n",
    "\n",
    "cur.execute(query)\n",
    "\n",
    "data=cur.fetchall()\n",
    "\n",
    "data[0][0]"
   ]
  },
  {
   "cell_type": "markdown",
   "metadata": {},
   "source": [
    "### 5. Count the number of customers from each state. \n"
   ]
  },
  {
   "cell_type": "code",
   "execution_count": 29,
   "metadata": {},
   "outputs": [
    {
     "data": {
      "text/plain": [
       "[(41746, 'SP'),\n",
       " (3637, 'SC'),\n",
       " (11635, 'MG'),\n",
       " (5045, 'PR'),\n",
       " (12852, 'RJ'),\n",
       " (5466, 'RS'),\n",
       " (975, 'PA'),\n",
       " (2020, 'GO'),\n",
       " (2033, 'ES'),\n",
       " (3380, 'BA'),\n",
       " (747, 'MA'),\n",
       " (715, 'MS'),\n",
       " (1336, 'CE'),\n",
       " (2140, 'DF'),\n",
       " (485, 'RN'),\n",
       " (1652, 'PE'),\n",
       " (907, 'MT'),\n",
       " (148, 'AM'),\n",
       " (68, 'AP'),\n",
       " (413, 'AL'),\n",
       " (253, 'RO'),\n",
       " (536, 'PB'),\n",
       " (280, 'TO'),\n",
       " (495, 'PI'),\n",
       " (81, 'AC'),\n",
       " (350, 'SE'),\n",
       " (46, 'RR')]"
      ]
     },
     "execution_count": 29,
     "metadata": {},
     "output_type": "execute_result"
    }
   ],
   "source": [
    "query = \"\"\"SELECT COUNT(customers.customer_id) AS Customer_ID_Count , customer_state FROM customers\n",
    "GROUP BY customer_state;\"\"\"\n",
    "\n",
    "cur.execute(query)\n",
    "\n",
    "data=cur.fetchall()\n",
    "\n",
    "data"
   ]
  },
  {
   "cell_type": "code",
   "execution_count": 33,
   "metadata": {},
   "outputs": [
    {
     "data": {
      "text/html": [
       "<div>\n",
       "<style scoped>\n",
       "    .dataframe tbody tr th:only-of-type {\n",
       "        vertical-align: middle;\n",
       "    }\n",
       "\n",
       "    .dataframe tbody tr th {\n",
       "        vertical-align: top;\n",
       "    }\n",
       "\n",
       "    .dataframe thead th {\n",
       "        text-align: right;\n",
       "    }\n",
       "</style>\n",
       "<table border=\"1\" class=\"dataframe\">\n",
       "  <thead>\n",
       "    <tr style=\"text-align: right;\">\n",
       "      <th></th>\n",
       "      <th>Count</th>\n",
       "      <th>State</th>\n",
       "    </tr>\n",
       "  </thead>\n",
       "  <tbody>\n",
       "    <tr>\n",
       "      <th>0</th>\n",
       "      <td>41746</td>\n",
       "      <td>SP</td>\n",
       "    </tr>\n",
       "    <tr>\n",
       "      <th>1</th>\n",
       "      <td>3637</td>\n",
       "      <td>SC</td>\n",
       "    </tr>\n",
       "    <tr>\n",
       "      <th>2</th>\n",
       "      <td>11635</td>\n",
       "      <td>MG</td>\n",
       "    </tr>\n",
       "    <tr>\n",
       "      <th>3</th>\n",
       "      <td>5045</td>\n",
       "      <td>PR</td>\n",
       "    </tr>\n",
       "    <tr>\n",
       "      <th>4</th>\n",
       "      <td>12852</td>\n",
       "      <td>RJ</td>\n",
       "    </tr>\n",
       "    <tr>\n",
       "      <th>5</th>\n",
       "      <td>5466</td>\n",
       "      <td>RS</td>\n",
       "    </tr>\n",
       "    <tr>\n",
       "      <th>6</th>\n",
       "      <td>975</td>\n",
       "      <td>PA</td>\n",
       "    </tr>\n",
       "    <tr>\n",
       "      <th>7</th>\n",
       "      <td>2020</td>\n",
       "      <td>GO</td>\n",
       "    </tr>\n",
       "    <tr>\n",
       "      <th>8</th>\n",
       "      <td>2033</td>\n",
       "      <td>ES</td>\n",
       "    </tr>\n",
       "    <tr>\n",
       "      <th>9</th>\n",
       "      <td>3380</td>\n",
       "      <td>BA</td>\n",
       "    </tr>\n",
       "    <tr>\n",
       "      <th>10</th>\n",
       "      <td>747</td>\n",
       "      <td>MA</td>\n",
       "    </tr>\n",
       "    <tr>\n",
       "      <th>11</th>\n",
       "      <td>715</td>\n",
       "      <td>MS</td>\n",
       "    </tr>\n",
       "    <tr>\n",
       "      <th>12</th>\n",
       "      <td>1336</td>\n",
       "      <td>CE</td>\n",
       "    </tr>\n",
       "    <tr>\n",
       "      <th>13</th>\n",
       "      <td>2140</td>\n",
       "      <td>DF</td>\n",
       "    </tr>\n",
       "    <tr>\n",
       "      <th>14</th>\n",
       "      <td>485</td>\n",
       "      <td>RN</td>\n",
       "    </tr>\n",
       "    <tr>\n",
       "      <th>15</th>\n",
       "      <td>1652</td>\n",
       "      <td>PE</td>\n",
       "    </tr>\n",
       "    <tr>\n",
       "      <th>16</th>\n",
       "      <td>907</td>\n",
       "      <td>MT</td>\n",
       "    </tr>\n",
       "    <tr>\n",
       "      <th>17</th>\n",
       "      <td>148</td>\n",
       "      <td>AM</td>\n",
       "    </tr>\n",
       "    <tr>\n",
       "      <th>18</th>\n",
       "      <td>68</td>\n",
       "      <td>AP</td>\n",
       "    </tr>\n",
       "    <tr>\n",
       "      <th>19</th>\n",
       "      <td>413</td>\n",
       "      <td>AL</td>\n",
       "    </tr>\n",
       "    <tr>\n",
       "      <th>20</th>\n",
       "      <td>253</td>\n",
       "      <td>RO</td>\n",
       "    </tr>\n",
       "    <tr>\n",
       "      <th>21</th>\n",
       "      <td>536</td>\n",
       "      <td>PB</td>\n",
       "    </tr>\n",
       "    <tr>\n",
       "      <th>22</th>\n",
       "      <td>280</td>\n",
       "      <td>TO</td>\n",
       "    </tr>\n",
       "    <tr>\n",
       "      <th>23</th>\n",
       "      <td>495</td>\n",
       "      <td>PI</td>\n",
       "    </tr>\n",
       "    <tr>\n",
       "      <th>24</th>\n",
       "      <td>81</td>\n",
       "      <td>AC</td>\n",
       "    </tr>\n",
       "    <tr>\n",
       "      <th>25</th>\n",
       "      <td>350</td>\n",
       "      <td>SE</td>\n",
       "    </tr>\n",
       "    <tr>\n",
       "      <th>26</th>\n",
       "      <td>46</td>\n",
       "      <td>RR</td>\n",
       "    </tr>\n",
       "  </tbody>\n",
       "</table>\n",
       "</div>"
      ],
      "text/plain": [
       "    Count State\n",
       "0   41746    SP\n",
       "1    3637    SC\n",
       "2   11635    MG\n",
       "3    5045    PR\n",
       "4   12852    RJ\n",
       "5    5466    RS\n",
       "6     975    PA\n",
       "7    2020    GO\n",
       "8    2033    ES\n",
       "9    3380    BA\n",
       "10    747    MA\n",
       "11    715    MS\n",
       "12   1336    CE\n",
       "13   2140    DF\n",
       "14    485    RN\n",
       "15   1652    PE\n",
       "16    907    MT\n",
       "17    148    AM\n",
       "18     68    AP\n",
       "19    413    AL\n",
       "20    253    RO\n",
       "21    536    PB\n",
       "22    280    TO\n",
       "23    495    PI\n",
       "24     81    AC\n",
       "25    350    SE\n",
       "26     46    RR"
      ]
     },
     "execution_count": 33,
     "metadata": {},
     "output_type": "execute_result"
    }
   ],
   "source": [
    "Customer_Each_State= pd.DataFrame(data, columns=[\"Count\", \"State\"])\n",
    "Customer_Each_State"
   ]
  },
  {
   "cell_type": "code",
   "execution_count": 47,
   "metadata": {},
   "outputs": [],
   "source": [
    "sns.set_style(\"whitegrid\")"
   ]
  },
  {
   "cell_type": "code",
   "execution_count": 56,
   "metadata": {},
   "outputs": [
    {
     "data": {
      "image/png": "[encoded data removed]",
      "text/plain": [
       "<Figure size 1200x600 with 1 Axes>"
      ]
     },
     "metadata": {},
     "output_type": "display_data"
    }
   ],
   "source": [
    "plt.figure(figsize = (12, 6))\n",
    "sns.barplot(data=Customer_Each_State , x=\"State\", y=\"Count\",edgecolor=\"black\")\n",
    "plt.title(\"Number of customers from each state\",fontdict={\"size\":\"12\"})\n",
    "plt.xticks(rotation=90)\n",
    "plt.show()"
   ]
  }
 ],
 "metadata": {
  "kernelspec": {
   "display_name": "Python 3",
   "language": "python",
   "name": "python3"
  },
  "language_info": {
   "codemirror_mode": {
    "name": "ipython",
    "version": 3
   },
   "file_extension": ".py",
   "mimetype": "text/x-python",
   "name": "python",
   "nbconvert_exporter": "python",
   "pygments_lexer": "ipython3",
   "version": "3.12.3"
  }
 },
 "nbformat": 4,
 "nbformat_minor": 2
}
