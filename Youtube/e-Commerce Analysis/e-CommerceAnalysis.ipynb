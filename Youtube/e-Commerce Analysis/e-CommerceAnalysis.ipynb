{
 "cells": [
  {
   "cell_type": "markdown",
   "metadata": {},
   "source": [
    "## Connecting To SQL"
   ]
  },
  {
   "cell_type": "code",
   "execution_count": 3,
   "metadata": {},
   "outputs": [
    {
     "name": "stdout",
     "output_type": "stream",
     "text": [
      "Processing customers.csv\n",
      "NaN values before replacement:\n",
      "customer_id                 0\n",
      "customer_unique_id          0\n",
      "customer_zip_code_prefix    0\n",
      "customer_city               0\n",
      "customer_state              0\n",
      "dtype: int64\n",
      "\n",
      "Processing orders.csv\n",
      "NaN values before replacement:\n",
      "order_id                            0\n",
      "customer_id                         0\n",
      "order_status                        0\n",
      "order_purchase_timestamp            0\n",
      "order_approved_at                 160\n",
      "order_delivered_carrier_date     1783\n",
      "order_delivered_customer_date    2965\n",
      "order_estimated_delivery_date       0\n",
      "dtype: int64\n",
      "\n",
      "Processing sellers.csv\n",
      "NaN values before replacement:\n",
      "seller_id                 0\n",
      "seller_zip_code_prefix    0\n",
      "seller_city               0\n",
      "seller_state              0\n",
      "dtype: int64\n",
      "\n",
      "Processing products.csv\n",
      "NaN values before replacement:\n",
      "product_id                      0\n",
      "product category              610\n",
      "product_name_length           610\n",
      "product_description_length    610\n",
      "product_photos_qty            610\n",
      "product_weight_g                2\n",
      "product_length_cm               2\n",
      "product_height_cm               2\n",
      "product_width_cm                2\n",
      "dtype: int64\n",
      "\n",
      "Processing geolocation.csv\n",
      "NaN values before replacement:\n",
      "geolocation_zip_code_prefix    0\n",
      "geolocation_lat                0\n",
      "geolocation_lng                0\n",
      "geolocation_city               0\n",
      "geolocation_state              0\n",
      "dtype: int64\n",
      "\n",
      "Processing payments.csv\n",
      "NaN values before replacement:\n",
      "order_id                0\n",
      "payment_sequential      0\n",
      "payment_type            0\n",
      "payment_installments    0\n",
      "payment_value           0\n",
      "dtype: int64\n",
      "\n",
      "Processing order_items.csv\n",
      "NaN values before replacement:\n",
      "order_id               0\n",
      "order_item_id          0\n",
      "product_id             0\n",
      "seller_id              0\n",
      "shipping_limit_date    0\n",
      "price                  0\n",
      "freight_value          0\n",
      "dtype: int64\n",
      "\n"
     ]
    }
   ],
   "source": [
    "import pandas as pd\n",
    "import mysql.connector\n",
    "import os\n",
    "\n",
    "# List of CSV files and their corresponding table names\n",
    "csv_files = [\n",
    "    ('customers.csv', 'customers'),\n",
    "    ('orders.csv', 'orders'),\n",
    "    ('sellers.csv', 'sellers'),\n",
    "    ('products.csv', 'products'),\n",
    "    ('geolocation.csv', 'geolocation'),\n",
    "    ('payments.csv', 'payments'),\n",
    "    ('order_items.csv' , 'order_items')\n",
    "]\n",
    "\n",
    "# Connect to the MySQL database\n",
    "conn = mysql.connector.connect(\n",
    "    host='localhost',\n",
    "    user='root',\n",
    "    password='Tanji123',\n",
    "    database='ecommerce'\n",
    ")\n",
    "cursor = conn.cursor()\n",
    "\n",
    "# Folder containing the CSV files\n",
    "folder_path = 'C:/Users/SPPL IT/Desktop/Study/Guided Projects/Youtube/e-Commerce Analysis'\n",
    "\n",
    "def get_sql_type(dtype):\n",
    "    if pd.api.types.is_integer_dtype(dtype):\n",
    "        return 'INT'\n",
    "    elif pd.api.types.is_float_dtype(dtype):\n",
    "        return 'FLOAT'\n",
    "    elif pd.api.types.is_bool_dtype(dtype):\n",
    "        return 'BOOLEAN'\n",
    "    elif pd.api.types.is_datetime64_any_dtype(dtype):\n",
    "        return 'DATETIME'\n",
    "    else:\n",
    "        return 'TEXT'\n",
    "\n",
    "for csv_file, table_name in csv_files:\n",
    "    file_path = os.path.join(folder_path, csv_file)\n",
    "    \n",
    "    # Read the CSV file into a pandas DataFrame\n",
    "    df = pd.read_csv(file_path)\n",
    "    \n",
    "    # Replace NaN with None to handle SQL NULL\n",
    "    df = df.where(pd.notnull(df), None)\n",
    "    \n",
    "    # Debugging: Check for NaN values\n",
    "    print(f\"Processing {csv_file}\")\n",
    "    print(f\"NaN values before replacement:\\n{df.isnull().sum()}\\n\")\n",
    "\n",
    "    # Clean column names\n",
    "    df.columns = [col.replace(' ', '_').replace('-', '_').replace('.', '_') for col in df.columns]\n",
    "\n",
    "    # Generate the CREATE TABLE statement with appropriate data types\n",
    "    columns = ', '.join([f'`{col}` {get_sql_type(df[col].dtype)}' for col in df.columns])\n",
    "    create_table_query = f'CREATE TABLE IF NOT EXISTS `{table_name}` ({columns})'\n",
    "    cursor.execute(create_table_query)\n",
    "\n",
    "    # Insert DataFrame data into the MySQL table\n",
    "    for _, row in df.iterrows():\n",
    "        # Convert row to tuple and handle NaN/None explicitly\n",
    "        values = tuple(None if pd.isna(x) else x for x in row)\n",
    "        sql = f\"INSERT INTO `{table_name}` ({', '.join(['`' + col + '`' for col in df.columns])}) VALUES ({', '.join(['%s'] * len(row))})\"\n",
    "        cursor.execute(sql, values)\n",
    "\n",
    "    # Commit the transaction for the current CSV file\n",
    "    conn.commit()\n",
    "\n",
    "# Close the connection\n",
    "conn.close()"
   ]
  },
  {
   "cell_type": "markdown",
   "metadata": {},
   "source": [
    "# Project Start"
   ]
  },
  {
   "cell_type": "code",
   "execution_count": 1,
   "metadata": {},
   "outputs": [],
   "source": [
    "import pandas as pd\n",
    "import numpy as np\n",
    "import seaborn as sns\n",
    "import matplotlib.pyplot as plt\n",
    "import plotly.express as px\n",
    "import mysql.connector\n",
    "\n",
    "db= mysql.connector.connect(host=\"localhost\",\n",
    "                            username=\"root\",\n",
    "                            password=\"Tanji123\",\n",
    "                            database=\"ecommerce\")\n",
    "\n",
    "cur= db.cursor()"
   ]
  },
  {
   "cell_type": "markdown",
   "metadata": {},
   "source": [
    "## Basic Queries"
   ]
  },
  {
   "cell_type": "markdown",
   "metadata": {},
   "source": [
    "### 1. List all unique cities where customers are located."
   ]
  },
  {
   "cell_type": "code",
   "execution_count": 3,
   "metadata": {},
   "outputs": [
    {
     "data": {
      "text/plain": [
       "[('franca',),\n",
       " ('sao bernardo do campo',),\n",
       " ('sao paulo',),\n",
       " ('mogi das cruzes',),\n",
       " ('campinas',),\n",
       " ('jaragua do sul',),\n",
       " ('timoteo',),\n",
       " ('curitiba',),\n",
       " ('belo horizonte',),\n",
       " ('montes claros',),\n",
       " ('rio de janeiro',),\n",
       " ('lencois paulista',),\n",
       " ('caxias do sul',),\n",
       " ('piracicaba',),\n",
       " ('guarulhos',),\n",
       " ('pacaja',),\n",
       " ('florianopolis',),\n",
       " ('aparecida de goiania',),\n",
       " ('santo andre',),\n",
       " ('goiania',),\n",
       " ('cachoeiro de itapemirim',),\n",
       " ('sao jose dos campos',),\n",
       " ('sao roque',),\n",
       " ('camacari',),\n",
       " ('resende',),\n",
       " ('sumare',),\n",
       " ('novo hamburgo',),\n",
       " ('sao luis',),\n",
       " ('sao jose',),\n",
       " ('santa barbara',),\n",
       " ('ribeirao preto',),\n",
       " ('ituiutaba',),\n",
       " ('taquarituba',),\n",
       " ('sao jose dos pinhais',),\n",
       " ('barrinha',),\n",
       " ('parati',),\n",
       " ('dourados',),\n",
       " ('trindade',),\n",
       " ('cascavel',),\n",
       " ('fortaleza',),\n",
       " ('brasilia',),\n",
       " ('pelotas',),\n",
       " ('porto alegre',),\n",
       " ('salto',),\n",
       " ('jundiai',),\n",
       " ('cacapava',),\n",
       " ('sao vicente',),\n",
       " ('uberlandia',),\n",
       " ('botelhos',),\n",
       " ('sao goncalo',),\n",
       " ('araucaria',),\n",
       " ('nova iguacu',),\n",
       " ('areia branca',),\n",
       " ('campos dos goytacazes',),\n",
       " ('sao carlos',),\n",
       " ('itajuba',),\n",
       " ('cruz das almas',),\n",
       " ('vassouras',),\n",
       " ('feira de santana',),\n",
       " ('niteroi',),\n",
       " ('sobral',),\n",
       " ('divinopolis',),\n",
       " ('paraiba do sul',),\n",
       " ('paulista',),\n",
       " ('carapicuiba',),\n",
       " ('bom principio',),\n",
       " ('astolfo dutra',),\n",
       " ('marialva',),\n",
       " ('sao jose do rio preto',),\n",
       " ('cabo frio',),\n",
       " ('contagem',),\n",
       " ('cafeara',),\n",
       " ('sao joaquim da barra',),\n",
       " ('foz do iguacu',),\n",
       " ('suzano',),\n",
       " ('timbo',),\n",
       " ('camboriu',),\n",
       " ('nova bassano',),\n",
       " ('rio grande',),\n",
       " ('braganca paulista',),\n",
       " ('barra do garcas',),\n",
       " ('embu',),\n",
       " ('urussanga',),\n",
       " ('silvianopolis',),\n",
       " ('gameleiras',),\n",
       " ('belem',),\n",
       " ('pocos de caldas',),\n",
       " ('santos',),\n",
       " ('piracaia',),\n",
       " ('sinop',),\n",
       " ('guaruja',),\n",
       " ('barueri',),\n",
       " ('feliz',),\n",
       " ('jambeiro',),\n",
       " ('ipatinga',),\n",
       " ('tupa',),\n",
       " ('blumenau',),\n",
       " ('moncoes',),\n",
       " ('balneario camboriu',),\n",
       " ('vargem grande',),\n",
       " ('rio brilhante',),\n",
       " ('eugenopolis',),\n",
       " ('paulinia',),\n",
       " ('apucarana',),\n",
       " ('recife',),\n",
       " ('osasco',),\n",
       " ('valinhos',),\n",
       " ('manaus',),\n",
       " ('cidreira',),\n",
       " ('santiago',),\n",
       " ('sao sepe',),\n",
       " ('alta floresta',),\n",
       " ('jaboatao dos guararapes',),\n",
       " ('ibatiba',),\n",
       " ('hortolandia',),\n",
       " ('cotia',),\n",
       " ('macae',),\n",
       " ('saudades',),\n",
       " ('macapa',),\n",
       " ('salto de pirapora',),\n",
       " ('taboao da serra',),\n",
       " ('bom jesus',),\n",
       " ('santa cruz do rio pardo',),\n",
       " ('diadema',),\n",
       " ('santa ines',),\n",
       " ('serrinha',),\n",
       " ('votorantim',),\n",
       " ('itatiaia',),\n",
       " ('duque de caxias',),\n",
       " ('varre-sai',),\n",
       " ('vila velha',),\n",
       " ('mangaratiba',),\n",
       " ('atibaia',),\n",
       " ('salvador',),\n",
       " ('maceio',),\n",
       " ('birigui',),\n",
       " ('petropolis',),\n",
       " ('sao pedro',),\n",
       " ('jaguariaiva',),\n",
       " ('franco da rocha',),\n",
       " ('pindamonhangaba',),\n",
       " ('irati',),\n",
       " ('ribeira',),\n",
       " ('barbacena',),\n",
       " ('limoeiro',),\n",
       " ('espigao do oeste',),\n",
       " ('belford roxo',),\n",
       " ('coronel fabriciano',),\n",
       " ('itanhaem',),\n",
       " ('bebedouro',),\n",
       " ('americana',),\n",
       " ('uba',),\n",
       " ('arapongas',),\n",
       " ('vinhedo',),\n",
       " ('itajai',),\n",
       " ('bauru',),\n",
       " ('pradopolis',),\n",
       " ('aripuana',),\n",
       " ('guaratinga',),\n",
       " ('ponta pora',),\n",
       " ('aracatuba',),\n",
       " ('volta redonda',),\n",
       " ('maringa',),\n",
       " ('araraquara',),\n",
       " ('matipo',),\n",
       " ('santo antonio da patrulha',),\n",
       " ('barra mansa',),\n",
       " ('diamantina',),\n",
       " ('mairinque',),\n",
       " ('capitao leonidas marques',),\n",
       " ('sao sebastiao do paraiso',),\n",
       " ('rosario do sul',),\n",
       " ('itaguai',),\n",
       " ('paraopeba',),\n",
       " ('guarapuava',),\n",
       " ('crisolita',),\n",
       " ('pirai',),\n",
       " ('linhares',),\n",
       " ('agudos',),\n",
       " ('sao joao de meriti',),\n",
       " ('navegantes',),\n",
       " ('pirassununga',),\n",
       " ('faxinal dos guedes',),\n",
       " ('criciuma',),\n",
       " ('nova venecia',),\n",
       " ('passo fundo',),\n",
       " ('ibia',),\n",
       " ('manhuacu',),\n",
       " ('altamira',),\n",
       " ('aperibe',),\n",
       " ('cuiaba',),\n",
       " ('canoas',),\n",
       " ('cubatao',),\n",
       " ('campo limpo paulista',),\n",
       " ('cambe',),\n",
       " ('itaquaquecetuba',),\n",
       " ('sao caetano do sul',),\n",
       " ('sao goncalo do rio abaixo',),\n",
       " ('rolandia',),\n",
       " ('tres coracoes',),\n",
       " ('cacapava do sul',),\n",
       " ('sao joao nepomuceno',),\n",
       " ('leme',),\n",
       " ('araras',),\n",
       " ('cortes',),\n",
       " ('brusque',),\n",
       " ('montenegro',),\n",
       " ('itaberai',),\n",
       " ('santa rosa de viterbo',),\n",
       " ('agua fria de goias',),\n",
       " ('marau',),\n",
       " ('curvelo',),\n",
       " ('juiz de fora',),\n",
       " ('mogi-guacu',),\n",
       " ('guaratingueta',),\n",
       " ('paranagua',),\n",
       " ('lins',),\n",
       " ('campo bom',),\n",
       " ('sertaozinho',),\n",
       " ('tres lagoas',),\n",
       " ('jau',),\n",
       " ('campos de julio',),\n",
       " ('saquarema',),\n",
       " ('artur nogueira',),\n",
       " ('uaua',),\n",
       " ('jandira',),\n",
       " ('concordia',),\n",
       " ('nova friburgo',),\n",
       " ('sorocaba',),\n",
       " ('ponte nova',),\n",
       " ('araquari',),\n",
       " ('muriae',),\n",
       " ('nova lima',),\n",
       " ('inhumas',),\n",
       " ('italva',),\n",
       " ('tres rios',),\n",
       " ('santa maria',),\n",
       " ('itagiba',),\n",
       " ('paracatu',),\n",
       " ('xaxim',),\n",
       " ('laranjeiras do sul',),\n",
       " ('itapiuna',),\n",
       " ('formosa',),\n",
       " ('ivoti',),\n",
       " ('juazeiro',),\n",
       " ('ponta grossa',),\n",
       " ('campina grande',),\n",
       " ('maua',),\n",
       " ('salgueiro',),\n",
       " ('lorena',),\n",
       " ('toledo',),\n",
       " ('sao pedro da aldeia',),\n",
       " ('vianopolis',),\n",
       " ('arapiraca',),\n",
       " ('porto seguro',),\n",
       " ('ariquemes',),\n",
       " ('presidente getulio',),\n",
       " ('rio negro',),\n",
       " ('ribeirao pires',),\n",
       " ('sao jose da coroa grande',),\n",
       " ('agua doce do norte',),\n",
       " ('anapolis',),\n",
       " ('guararapes',),\n",
       " ('farroupilha',),\n",
       " ('almenara',),\n",
       " ('rio das ostras',),\n",
       " ('gravatai',),\n",
       " ('brumado',),\n",
       " ('marilia',),\n",
       " ('itabira',),\n",
       " ('claudia',),\n",
       " ('para de minas',),\n",
       " ('miguelopolis',),\n",
       " ('terra roxa',),\n",
       " ('araguari',),\n",
       " ('lages',),\n",
       " ('embu das artes',),\n",
       " ('limeira',),\n",
       " ('taubate',),\n",
       " ('santa fe do sul',),\n",
       " ('caieiras',),\n",
       " ('carangola',),\n",
       " ('chapada do norte',),\n",
       " ('loanda',),\n",
       " ('passa tres',),\n",
       " ('aracoiaba da serra',),\n",
       " ('itaborai',),\n",
       " ('vitoria',),\n",
       " ('sao bento do sul',),\n",
       " ('indaiatuba',),\n",
       " ('boituva',),\n",
       " ('teresopolis',),\n",
       " ('pinhalzinho',),\n",
       " ('petrolina',),\n",
       " ('natal',),\n",
       " ('barreiras',),\n",
       " ('januaria',),\n",
       " ('ipiabas',),\n",
       " ('firminopolis',),\n",
       " ('joinville',),\n",
       " ('mococa',),\n",
       " ('valenca',),\n",
       " ('sao miguel do oeste',),\n",
       " ('jales',),\n",
       " ('rio formoso',),\n",
       " ('angra dos reis',),\n",
       " ('alfredo chaves',),\n",
       " ('itapetinga',),\n",
       " ('gurupi',),\n",
       " ('nucleo residencial pilar',),\n",
       " ('coromandel',),\n",
       " ('charqueada',),\n",
       " ('itau de minas',),\n",
       " ('ibiruba',),\n",
       " ('bertioga',),\n",
       " ('ipiau',),\n",
       " ('matozinhos',),\n",
       " ('teresina',),\n",
       " ('entre rios',),\n",
       " ('juina',),\n",
       " ('mairipora',),\n",
       " ('marechal candido rondon',),\n",
       " ('avare',),\n",
       " ('icem',),\n",
       " ('sao sebastiao',),\n",
       " ('serra',),\n",
       " ('mirassol',),\n",
       " ('taperuaba',),\n",
       " ('alfenas',),\n",
       " ('leopoldina',),\n",
       " ('sao joao da boa vista',),\n",
       " ('parnamirim',),\n",
       " ('teixeira de freitas',),\n",
       " ('joao pessoa',),\n",
       " ('chacara',),\n",
       " ('rio novo do sul',),\n",
       " ('guapore',),\n",
       " ('rio branco',),\n",
       " ('ferraz de vasconcelos',),\n",
       " ('petrolandia',),\n",
       " ('araruna',),\n",
       " ('gravata',),\n",
       " ('alegre',),\n",
       " ('londrina',),\n",
       " ('senhor do bonfim',),\n",
       " ('santana de parnaiba',),\n",
       " ('piratininga',),\n",
       " ('monte carmelo',),\n",
       " ('ipiranga',),\n",
       " ('jacarei',),\n",
       " ('picos',),\n",
       " ('una',),\n",
       " ('taguai',),\n",
       " ('peabiru',),\n",
       " ('conquista',),\n",
       " ('bicas',),\n",
       " ('forquilha',),\n",
       " ('guaicara',),\n",
       " ('santa vitoria',),\n",
       " ('adamantina',),\n",
       " ('rio claro',),\n",
       " ('sao jose de uba',),\n",
       " ('sorriso',),\n",
       " ('aracaju',),\n",
       " ('conselheiro lafaiete',),\n",
       " ('taguatinga',),\n",
       " ('tiangua',),\n",
       " ('paranaiba',),\n",
       " ('david canabarro',),\n",
       " ('itarare',),\n",
       " ('cajueiro',),\n",
       " ('cruzeiro',),\n",
       " ('santa cruz do sul',),\n",
       " ('presidente epitacio',),\n",
       " ('castanhal',),\n",
       " ('cariacica',),\n",
       " ('bom jesus dos perdoes',),\n",
       " ('urucurituba',),\n",
       " ('olinda',),\n",
       " ('sao jose do rio pardo',),\n",
       " ('guapimirim',),\n",
       " ('vargem grande paulista',),\n",
       " ('chapeco',),\n",
       " ('videira',),\n",
       " ('canapi',),\n",
       " ('pontal do parana',),\n",
       " ('bento goncalves',),\n",
       " ('caceres',),\n",
       " ('bituruna',),\n",
       " ('sao bento do sapucai',),\n",
       " ('mage',),\n",
       " ('forquilhinha',),\n",
       " ('itaberaba',),\n",
       " ('gramado',),\n",
       " ('guacui',),\n",
       " ('pato branco',),\n",
       " ('itanhem',),\n",
       " ('palmas',),\n",
       " ('bage',),\n",
       " ('francisco morato',),\n",
       " ('cosmopolis',),\n",
       " ('carmo',),\n",
       " ('armacao dos buzios',),\n",
       " ('santa maria da vitoria',),\n",
       " ('pedro leopoldo',),\n",
       " ('tres marias',),\n",
       " ('santo antonio de padua',),\n",
       " ('porto feliz',),\n",
       " ('gaspar',),\n",
       " ('palhoca',),\n",
       " ('pouso alegre',),\n",
       " ('guaiuba',),\n",
       " ('fraiburgo',),\n",
       " ('aurea',),\n",
       " ('botucatu',),\n",
       " ('corumba',),\n",
       " ('cajamar',),\n",
       " ('queimados',),\n",
       " ('sao jorge do ivai',),\n",
       " ('nova laranjeiras',),\n",
       " ('guaxupe',),\n",
       " ('osvaldo cruz',),\n",
       " ('ivora',),\n",
       " ('anaurilandia',),\n",
       " ('caraguatatuba',),\n",
       " ('regeneracao',),\n",
       " ('bilac',),\n",
       " ('faxinal',),\n",
       " ('pedro velho',),\n",
       " ('uberaba',),\n",
       " ('viamao',),\n",
       " ('cachoeira de minas',),\n",
       " ('coelho neto',),\n",
       " ('itajobi',),\n",
       " ('carmo do rio claro',),\n",
       " ('marica',),\n",
       " ('campo novo do parecis',),\n",
       " ('boa vista',),\n",
       " ('ipameri',),\n",
       " ('carlos barbosa',),\n",
       " ('anicuns',),\n",
       " ('rio bananal',),\n",
       " ('lavras da mangabeira',),\n",
       " ('balsamo',),\n",
       " ('guariba',),\n",
       " ('sao vendelino',),\n",
       " ('campo mourao',),\n",
       " ('aracati',),\n",
       " ('santo antonio do descoberto',),\n",
       " ('santo amaro da imperatriz',),\n",
       " ('betim',),\n",
       " ('vicosa',),\n",
       " ('dom eliseu',),\n",
       " ('campo largo',),\n",
       " ('santa rosa de lima',),\n",
       " ('quissama',),\n",
       " ('mirandopolis',),\n",
       " ('itapevi',),\n",
       " ('francisco beltrao',),\n",
       " (\"dias d'avila\",),\n",
       " ('novo horizonte',),\n",
       " ('poa',),\n",
       " ('querencia',),\n",
       " ('campo grande',),\n",
       " ('pedreira',),\n",
       " ('pariquera-acu',),\n",
       " ('itabaianinha',),\n",
       " ('pitangui',),\n",
       " ('araruama',),\n",
       " ('campo formoso',),\n",
       " ('guanambi',),\n",
       " ('itapolis',),\n",
       " ('pederneiras',),\n",
       " ('itabirito',),\n",
       " ('itaipava',),\n",
       " ('arroio do sal',),\n",
       " ('glaura',),\n",
       " ('lagoa vermelha',),\n",
       " ('mantena',),\n",
       " ('peruibe',),\n",
       " ('tubarao',),\n",
       " ('bonfim',),\n",
       " ('alvorada',),\n",
       " ('patrocinio',),\n",
       " ('mineiros',),\n",
       " ('itabuna',),\n",
       " ('tijucas',),\n",
       " ('santo antonio de jesus',),\n",
       " ('canarana',),\n",
       " ('itapecerica da serra',),\n",
       " ('nova prata do iguacu',),\n",
       " ('treze tilias',),\n",
       " ('anchieta',),\n",
       " ('quatigua',),\n",
       " ('iturama',),\n",
       " ('tres de maio',),\n",
       " ('santa rita do passa quatro',),\n",
       " ('porto esperidiao',),\n",
       " ('bonfim paulista',),\n",
       " ('cajuru',),\n",
       " ('cacador',),\n",
       " ('paragominas',),\n",
       " ('boa esperanca do sul',),\n",
       " ('tres pontas',),\n",
       " ('juazeiro do norte',),\n",
       " ('bambui',),\n",
       " ('comendador levy gasparian',),\n",
       " ('sao miguel do aleixo',),\n",
       " ('palmeira dos indios',),\n",
       " ('cerquilho',),\n",
       " ('saudade do iguacu',),\n",
       " ('ipaussu',),\n",
       " ('alto paraiso de goias',),\n",
       " ('santa isabel',),\n",
       " ('quirinopolis',),\n",
       " ('caruaru',),\n",
       " ('casimiro de abreu',),\n",
       " ('chavantes',),\n",
       " ('ecoporanga',),\n",
       " ('cachoeira paulista',),\n",
       " ('rio verde',),\n",
       " ('maracanau',),\n",
       " ('canoinhas',),\n",
       " ('ituverava',),\n",
       " ('buriti dos lopes',),\n",
       " ('rio do antonio',),\n",
       " ('guaranta',),\n",
       " ('santa luzia',),\n",
       " ('tucurui',),\n",
       " ('paranavai',),\n",
       " ('pinhais',),\n",
       " ('governador valadares',),\n",
       " ('trajano de moraes',),\n",
       " ('caete',),\n",
       " ('abaetetuba',),\n",
       " ('lavras',),\n",
       " ('coronel joao sa',),\n",
       " ('divino',),\n",
       " ('macaubas',),\n",
       " ('lucelia',),\n",
       " ('brejo da madre de deus',),\n",
       " ('carai',),\n",
       " ('corbelia',),\n",
       " ('varginha',),\n",
       " ('ouro preto',),\n",
       " ('prado',),\n",
       " ('colniza',),\n",
       " ('piuma',),\n",
       " ('rancharia',),\n",
       " ('barretos',),\n",
       " ('eunapolis',),\n",
       " ('floresta',),\n",
       " ('sao jose do norte',),\n",
       " ('rio bonito',),\n",
       " ('vargem bonita',),\n",
       " ('monte mor',),\n",
       " ('valente',),\n",
       " ('balsas',),\n",
       " ('nhandeara',),\n",
       " ('lauro de freitas',),\n",
       " ('osorio',),\n",
       " ('machado',),\n",
       " ('sao leopoldo',),\n",
       " ('soledade',),\n",
       " ('assis',),\n",
       " ('guarapari',),\n",
       " ('santo antonio do caiua',),\n",
       " ('esteio',),\n",
       " ('cambuci',),\n",
       " ('campina grande do sul',),\n",
       " ('baixo guandu',),\n",
       " ('fernao',),\n",
       " ('ibitinga',),\n",
       " ('santa cruz das palmeiras',),\n",
       " ('vila muriqui',),\n",
       " ('sao mateus',),\n",
       " ('piracuruca',),\n",
       " ('cordeiro',),\n",
       " ('cachoeira do sul',),\n",
       " ('barra do pirai',),\n",
       " ('castro',),\n",
       " ('ico',),\n",
       " ('sete lagoas',),\n",
       " ('itumbiara',),\n",
       " ('aluminio',),\n",
       " ('jatai',),\n",
       " ('frederico westphalen',),\n",
       " ('goioere',),\n",
       " ('sao jose da tapera',),\n",
       " ('porto uniao',),\n",
       " ('cocalinho',),\n",
       " ('curitibanos',),\n",
       " ('campos novos',),\n",
       " ('ubatuba',),\n",
       " ('monte santo de minas',),\n",
       " ('ribeirao das neves',),\n",
       " ('sao simao',),\n",
       " ('urutai',),\n",
       " ('itaobim',),\n",
       " ('liberdade',),\n",
       " ('arcos',),\n",
       " ('ribeirao',),\n",
       " ('patos de minas',),\n",
       " ('penapolis',),\n",
       " ('eusebio',),\n",
       " ('cordeiros',),\n",
       " ('victor graeff',),\n",
       " ('santa rita do araguaia',),\n",
       " ('poxoreu',),\n",
       " ('ananas',),\n",
       " ('conceicao dos ouros',),\n",
       " ('alagoinhas',),\n",
       " ('sao joao da barra',),\n",
       " ('lindoia',),\n",
       " ('bonfinopolis',),\n",
       " ('ibiam',),\n",
       " ('morungaba',),\n",
       " ('andradina',),\n",
       " ('tatui',),\n",
       " ('mata verde',),\n",
       " ('cornelio procopio',),\n",
       " ('itapipoca',),\n",
       " ('queluz',),\n",
       " ('godoy moreira',),\n",
       " ('iracemapolis',),\n",
       " ('buritizeiro',),\n",
       " ('xique-xique',),\n",
       " ('uruacu',),\n",
       " ('japi',),\n",
       " ('itauna',),\n",
       " ('sao francisco de assis',),\n",
       " ('pitangueiras',),\n",
       " ('ze doca',),\n",
       " ('dracena',),\n",
       " ('cachoeiras de macacu',),\n",
       " ('barauna',),\n",
       " ('formiga',),\n",
       " ('rodeio',),\n",
       " ('jequie',),\n",
       " ('juvenilia',),\n",
       " ('poco fundo',),\n",
       " ('amparo',),\n",
       " ('lauro muller',),\n",
       " ('japeri',),\n",
       " ('ourinhos',),\n",
       " ('lagoa dos gatos',),\n",
       " ('embu-guacu',),\n",
       " ('nossa senhora do remedio',),\n",
       " ('tambau',),\n",
       " ('orlandia',),\n",
       " ('bananeiras',),\n",
       " ('sao joao do manhuacu',),\n",
       " ('sarandi',),\n",
       " ('congonhas',),\n",
       " ('boa esperanca',),\n",
       " ('sandolandia',),\n",
       " ('garca',),\n",
       " ('descalvado',),\n",
       " ('guaracai',),\n",
       " ('aruana',),\n",
       " ('inga',),\n",
       " ('taio',),\n",
       " ('gaurama',),\n",
       " ('praia grande',),\n",
       " ('janauba',),\n",
       " ('nova monte verde',),\n",
       " ('mongagua',),\n",
       " ('monte alto',),\n",
       " ('sao joao do piaui',),\n",
       " ('primavera do leste',),\n",
       " ('seropedica',),\n",
       " ('indaial',),\n",
       " ('teofilo otoni',),\n",
       " ('santa terezinha',),\n",
       " ('planaltina',),\n",
       " ('caravelas',),\n",
       " ('muritiba',),\n",
       " ('itatiba',),\n",
       " ('piumhii',),\n",
       " ('pitanga',),\n",
       " ('capelinha',),\n",
       " ('ipero',),\n",
       " ('tarabai',),\n",
       " ('aparecida do taboado',),\n",
       " ('maioba',),\n",
       " ('monnerat',),\n",
       " ('sao lourenco do sul',),\n",
       " ('biguacu',),\n",
       " ('venda nova do imigrante',),\n",
       " ('arapoti',),\n",
       " ('fazenda rio grande',),\n",
       " ('senges',),\n",
       " ('aracruz',),\n",
       " ('canela',),\n",
       " ('porto franco',),\n",
       " ('veranopolis',),\n",
       " ('candiota',),\n",
       " ('carmo do paranaiba',),\n",
       " ('itacare',),\n",
       " ('desembargador otoni',),\n",
       " ('joanopolis',),\n",
       " ('registro',),\n",
       " ('ipiranga do norte',),\n",
       " ('felipe guerra',),\n",
       " ('dumont',),\n",
       " ('itapetininga',),\n",
       " ('bom despacho',),\n",
       " ('lagoa santa',),\n",
       " ('estacao',),\n",
       " ('panorama',),\n",
       " ('palmares',),\n",
       " ('prata',),\n",
       " ('santa adelia',),\n",
       " ('iguaba grande',),\n",
       " ('sarzedo',),\n",
       " ('dourado',),\n",
       " ('alcinopolis',),\n",
       " ('limoeiro do norte',),\n",
       " ('ibiraci',),\n",
       " ('ilhabela',),\n",
       " ('icara',),\n",
       " ('paiva',),\n",
       " ('batatais',),\n",
       " ('formoso do araguaia',),\n",
       " ('itapaci',),\n",
       " ('fernandopolis',),\n",
       " ('miguel pereira',),\n",
       " ('tocos',),\n",
       " ('campos do jordao',),\n",
       " ('catalao',),\n",
       " ('sao jose da lapa',),\n",
       " ('marituba',),\n",
       " ('arapora',),\n",
       " ('turvo',),\n",
       " ('rubiataba',),\n",
       " ('guaruja do sul',),\n",
       " ('pedra bela',),\n",
       " ('perdizes',),\n",
       " ('jesuania',),\n",
       " ('antonio carlos',),\n",
       " ('itapecerica',),\n",
       " ('monte belo',),\n",
       " ('mossoro',),\n",
       " ('piraju',),\n",
       " ('encruzilhada do sul',),\n",
       " ('igaratinga',),\n",
       " ('sao luis de montes belos',),\n",
       " ('santa rosa',),\n",
       " ('lagoinha',),\n",
       " ('redentora',),\n",
       " ('cuite',),\n",
       " ('coxim',),\n",
       " ('lucas do rio verde',),\n",
       " ('ibirataia',),\n",
       " ('olimpia',),\n",
       " ('cedro',),\n",
       " ('mario campos',),\n",
       " ('umuarama',),\n",
       " ('nova xavantina',),\n",
       " ('sao borja',),\n",
       " ('aguai',),\n",
       " ('itapira',),\n",
       " ('uniao da vitoria',),\n",
       " ('nova odessa',),\n",
       " ('itapuranga',),\n",
       " ('nova cruz',),\n",
       " ('apuiares',),\n",
       " ('almirante tamandare',),\n",
       " ('correia pinto',),\n",
       " ('itamarandiba',),\n",
       " ('juscimeira',),\n",
       " ('ipora',),\n",
       " ('cedro de sao joao',),\n",
       " (\"santa barbara d'oeste\",),\n",
       " ('sao joao da urtiga',),\n",
       " ('valparaiso de goias',),\n",
       " ('jussara',),\n",
       " ('capao da canoa',),\n",
       " ('araxa',),\n",
       " ('campo belo',),\n",
       " ('monte aprazivel',),\n",
       " ('bom jesus do querendo',),\n",
       " ('socorro',),\n",
       " ('catanduva',),\n",
       " ('monte castelo',),\n",
       " ('tabatinga',),\n",
       " ('bayeux',),\n",
       " ('ijui',),\n",
       " ('tangara da serra',),\n",
       " ('campos borges',),\n",
       " ('palma',),\n",
       " ('minacu',),\n",
       " ('miracema',),\n",
       " ('taruma',),\n",
       " ('sao francisco do sul',),\n",
       " ('cedral',),\n",
       " ('camaragibe',),\n",
       " ('lajeado',),\n",
       " ('cerqueira cesar',),\n",
       " ('frutal',),\n",
       " ('igarata',),\n",
       " ('novo gama',),\n",
       " ('sapucaia do sul',),\n",
       " ('juquitiba',),\n",
       " ('terra boa',),\n",
       " ('joao monlevade',),\n",
       " ('porangatu',),\n",
       " ('formosa da serra negra',),\n",
       " ('rafard',),\n",
       " ('rainha do mar',),\n",
       " ('pontal',),\n",
       " ('rio do sul',),\n",
       " ('nilopolis',),\n",
       " ('maracaju',),\n",
       " ('santo augusto',),\n",
       " ('banabuiu',),\n",
       " ('buenopolis',),\n",
       " ('barbalha',),\n",
       " ('quintana',),\n",
       " ('chorrocho',),\n",
       " ('votuporanga',),\n",
       " ('poco verde',),\n",
       " ('cipo-guacu',),\n",
       " ('santarem',),\n",
       " ('santa clara do sul',),\n",
       " ('ibiuna',),\n",
       " ('capivari',),\n",
       " ('arraias',),\n",
       " ('patos',),\n",
       " ('sao francisco do guapore',),\n",
       " ('vitoria da conquista',),\n",
       " ('urucuca',),\n",
       " ('vacaria',),\n",
       " ('campos altos',),\n",
       " ('nossa senhora do socorro',),\n",
       " ('cruzeiro do sul',),\n",
       " ('cataguases',),\n",
       " ('varzea grande',),\n",
       " ('santa rita do sapucai',),\n",
       " ('jaboticabal',),\n",
       " ('ilha comprida',),\n",
       " ('brasilia de minas',),\n",
       " ('moreno',),\n",
       " ('capanema',),\n",
       " ('tombos',),\n",
       " ('espumoso',),\n",
       " ('ouro branco',),\n",
       " ('valenca do piaui',),\n",
       " ('igrejinha',),\n",
       " ('engenheiro coelho',),\n",
       " ('parauapebas',),\n",
       " ('afonso claudio',),\n",
       " ('sao bernardo',),\n",
       " ('salto do jacui',),\n",
       " ('pires do rio',),\n",
       " ('astorga',),\n",
       " ('medina',),\n",
       " ('porto ferreira',),\n",
       " ('aracariguama',),\n",
       " ('hidrolandia',),\n",
       " ('virginopolis',),\n",
       " ('soledade de minas',),\n",
       " ('casca',),\n",
       " ('sapiranga',),\n",
       " ('angatuba',),\n",
       " ('ibirapua',),\n",
       " ('itupeva',),\n",
       " ('espera feliz',),\n",
       " ('penedo',),\n",
       " ('ibirite',),\n",
       " ('miracatu',),\n",
       " ('francisco santos',),\n",
       " ('paracambi',),\n",
       " ('cardoso',),\n",
       " ('floriano',),\n",
       " ('rondonopolis',),\n",
       " ('barra de sao francisco',),\n",
       " ('lavinia',),\n",
       " ('guajara-mirim',),\n",
       " ('guimaraes',),\n",
       " ('sao tome',),\n",
       " ('medianeira',),\n",
       " ('conceicao das pedras',),\n",
       " ('rinopolis',),\n",
       " ('capim grosso',),\n",
       " ('guaira',),\n",
       " ('euclides da cunha paulista',),\n",
       " ('lagoa da prata',),\n",
       " ('nanuque',),\n",
       " ('luis antonio',),\n",
       " ('senador firmino',),\n",
       " ('viradouro',),\n",
       " ('itabera',),\n",
       " ('cambara',),\n",
       " ('sananduva',),\n",
       " ('tapera',),\n",
       " ('tupaciguara',),\n",
       " ('colombo',),\n",
       " ('ananindeua',),\n",
       " ('coribe',),\n",
       " ('rio doce',),\n",
       " ('mogi mirim',),\n",
       " ('tocos do moji',),\n",
       " ('beberibe',),\n",
       " ('formosa do rio preto',),\n",
       " ('claudio',),\n",
       " ('rio paranaiba',),\n",
       " ('humberto de campos',),\n",
       " ('camocim de sao felix',),\n",
       " ('santo antonio de posse',),\n",
       " ('mesquita',),\n",
       " ('passa quatro',),\n",
       " ('belo oriente',),\n",
       " ('alto araguaia',),\n",
       " ('igarassu',),\n",
       " ('porto velho',),\n",
       " ('cajazeiras',),\n",
       " ('garopaba',),\n",
       " ('rio azul',),\n",
       " ('dois corregos',),\n",
       " ('sooretama',),\n",
       " ('cruzeiro do oeste',),\n",
       " ('nazare paulista',),\n",
       " ('riversul',),\n",
       " ('iguaracu',),\n",
       " ('maracas',),\n",
       " ('parana',),\n",
       " ('reboucas',),\n",
       " ('ametista do sul',),\n",
       " ('itu',),\n",
       " ('cacu',),\n",
       " ('vespasiano',),\n",
       " ('lindolfo collor',),\n",
       " ('sao lourenco',),\n",
       " ('santana do sobrado',),\n",
       " ('cafelandia',),\n",
       " ('ibiapina',),\n",
       " ('schroeder',),\n",
       " ('sao joao do oriente',),\n",
       " ('matao',),\n",
       " ('itanhandu',),\n",
       " ('santo angelo',),\n",
       " ('capinopolis',),\n",
       " ('colatina',),\n",
       " ('nova mutum',),\n",
       " ('munhoz de melo',),\n",
       " ('ibate',),\n",
       " ('unai',),\n",
       " ('medeiros neto',),\n",
       " ('anta',),\n",
       " ('ouroeste',),\n",
       " ('central',),\n",
       " ('nova independencia',),\n",
       " ('itapema',),\n",
       " ('sao jose do cedro',),\n",
       " ('camutanga',),\n",
       " ('ipumirim',),\n",
       " ('cristalia',),\n",
       " ('andira',),\n",
       " ('panelas',),\n",
       " ('comodoro',),\n",
       " ('domingos martins',),\n",
       " ('tangua',),\n",
       " ('sao gotardo',),\n",
       " ('araguaina',),\n",
       " ('ilheus',),\n",
       " ('louveira',),\n",
       " ('imbituba',),\n",
       " ('ouricuri',),\n",
       " ('itatinga',),\n",
       " ('santo cristo',),\n",
       " (\"arraial d'ajuda\",),\n",
       " ('piracanjuba',),\n",
       " ('russas',),\n",
       " ('lambari',),\n",
       " ('vargem alta',),\n",
       " ('sacra familia do tingua',),\n",
       " ('assis chateaubriand',),\n",
       " ('lago da pedra',),\n",
       " ('unistalda',),\n",
       " ('sao joao evangelista',),\n",
       " ('paramirim',),\n",
       " ('goias',),\n",
       " ('paracuru',),\n",
       " ('cruz alta',),\n",
       " ('presidente bernardes',),\n",
       " ('pains',),\n",
       " ('sao goncalo do rio preto',),\n",
       " ('jacinto machado',),\n",
       " ('sobralia',),\n",
       " ('maraba',),\n",
       " ('paraibuna',),\n",
       " ('toropi',),\n",
       " ('jauru',),\n",
       " ('cristalandia',),\n",
       " ('castelo do piaui',),\n",
       " ('ibipora',),\n",
       " ('presidente dutra',),\n",
       " ('vera cruz',),\n",
       " ('paulo frontin',),\n",
       " ...]"
      ]
     },
     "execution_count": 3,
     "metadata": {},
     "output_type": "execute_result"
    }
   ],
   "source": [
    "query = \"\"\" SELECT DISTINCT customer_city FROM customers  \"\"\"\n",
    "\n",
    "cur.execute(query)\n",
    "\n",
    "data=cur.fetchall()\n",
    "\n",
    "data"
   ]
  },
  {
   "cell_type": "markdown",
   "metadata": {},
   "source": [
    "### 2. Count the number of orders placed in 2017."
   ]
  },
  {
   "cell_type": "code",
   "execution_count": 9,
   "metadata": {},
   "outputs": [
    {
     "name": "stdout",
     "output_type": "stream",
     "text": [
      "Total Orders Placed in 2017 are :- 45101\n"
     ]
    }
   ],
   "source": [
    "query = \"\"\" SELECT \n",
    "    COUNT(*)\n",
    "FROM\n",
    "    orders\n",
    "WHERE\n",
    "    order_purchase_timestamp BETWEEN '2017-01-01' AND '2018-01-01';  \"\"\"\n",
    "\n",
    "cur.execute(query)\n",
    "\n",
    "data=cur.fetchall()\n",
    "\n",
    "print(\"Total Orders Placed in 2017 are :-\",data[0][0])"
   ]
  },
  {
   "cell_type": "markdown",
   "metadata": {},
   "source": [
    "### 3. Find the total sales per category."
   ]
  },
  {
   "cell_type": "code",
   "execution_count": 14,
   "metadata": {},
   "outputs": [
    {
     "data": {
      "text/plain": [
       "[('PERFUMERY', 506738.66),\n",
       " ('FURNITURE DECORATION', 1430176.39),\n",
       " ('TELEPHONY', 486882.05),\n",
       " ('BED TABLE BATH', 1712553.67),\n",
       " ('AUTOMOTIVE', 852294.33),\n",
       " ('COMPUTER ACCESSORIES', 1585330.45),\n",
       " ('HOUSEWARES', 1094758.13),\n",
       " ('BABIES', 539845.66),\n",
       " ('TOYS', 619037.69),\n",
       " ('FURNITURE OFFICE', 646826.49),\n",
       " ('COOL STUFF', 779698.0),\n",
       " ('HEALTH BEAUTY', 1657373.12),\n",
       " ('PET SHOP', 311268.97),\n",
       " ('GENERAL INTEREST BOOKS', 64694.76),\n",
       " ('STATIONARY STORE', 317440.07),\n",
       " ('WATCHES PRESENT', 1429216.68),\n",
       " ('PCS', 279121.55),\n",
       " ('CLIMATIZATION', 91170.66),\n",
       " ('CONSTRUCTION TOOLS CONSTRUCTION', 241475.63),\n",
       " ('SPORT LEISURE', 1392127.56),\n",
       " ('BAGS ACCESSORIES', 187151.29),\n",
       " ('ELECTRONICS', 259857.1),\n",
       " ('CASA CONSTRUCAO', 136645.29),\n",
       " ('GAMES CONSOLES', 195480.38),\n",
       " ('FASHION BAGS AND ACCESSORIES', 218158.28),\n",
       " ('HOME APPLIANCES', 95532.27),\n",
       " ('GARDEN TOOLS', 838280.75),\n",
       " ('AGRO INDUSTRIA E COMERCIO', 118730.61),\n",
       " (None, 252801.71),\n",
       " ('AUDIO', 60324.62),\n",
       " ('TECHNICAL BOOKS', 24915.44),\n",
       " ('CONSTRUCTION TOOLS GARDEN', 42394.41),\n",
       " ('MARKET PLACE', 45335.92),\n",
       " ('MUSICAL INSTRUMENTS', 233074.12),\n",
       " ('DRINK FOODS', 27289.73),\n",
       " ('SIGNALIZATION AND SAFETY', 68488.05),\n",
       " ('FURNITURE KITCHEN SERVICE AREA DINNER AND GARDEN', 74660.98),\n",
       " ('SONG', 6901.43),\n",
       " ('HOUSE PASTALS OVEN AND CAFE', 51229.32),\n",
       " ('FIXED TELEPHONY', 207010.26),\n",
       " ('ROOM FURNITURE', 136138.77),\n",
       " ('CONSTRUCTION TOOLS TOOLS', 21069.07),\n",
       " ('HOUSE COMFORT', 84329.06),\n",
       " ('INDUSTRY COMMERCE AND BUSINESS', 56745.76),\n",
       " ('CONSTRUCTION TOOLS ILLUMINATION', 72712.48),\n",
       " ('ELECTRICES 2', 124563.46),\n",
       " ('FASHION CALCADOS', 32422.74),\n",
       " ('FASHION UNDERWEAR AND BEACH FASHION', 12714.54),\n",
       " ('ELECTROSTILE', 225584.38),\n",
       " ('FOODS', 46428.67),\n",
       " ('IMAGE IMPORT TABLETS', 10042.93),\n",
       " ('ART', 30992.93),\n",
       " ('DRINKS', 71429.65),\n",
       " ('ARTS AND CRAFTS', 2326.17),\n",
       " (\"FASHION WOMEN'S CLOTHING\", 5109.62),\n",
       " ('FLOWERS', 2213.01),\n",
       " (\"FASHION MEN'S CLOTHING\", 17290.98),\n",
       " ('FASHION SPORT', 3645.92),\n",
       " ('CONSTRUCTION SECURITY TOOLS', 65691.03),\n",
       " ('CHRISTMAS ARTICLES', 18994.77),\n",
       " ('FURNITURE', 31598.94),\n",
       " ('IMPORTED BOOKS', 6701.89),\n",
       " ('CINE PHOTO', 9530.32),\n",
       " ('BLU RAY DVDS', 7935.28),\n",
       " ('PARTY ARTICLES', 5966.31),\n",
       " ('HYGIENE DIAPERS', 4221.25),\n",
       " ('HOUSE COMFORT 2', 1710.54),\n",
       " ('CITTE AND UPHACK FURNITURE', 5998.54),\n",
       " ('KITCHEN PORTABLE AND FOOD COACH', 4335.65),\n",
       " ('CDS MUSIC DVDS', 1199.43),\n",
       " ('LA CUISINE', 2913.53),\n",
       " (\"FASHION CHILDREN'S CLOTHING\", 785.67),\n",
       " ('PC GAMER', 2174.43),\n",
       " ('INSURANCE AND SERVICES', 324.51)]"
      ]
     },
     "execution_count": 14,
     "metadata": {},
     "output_type": "execute_result"
    }
   ],
   "source": [
    "query = \"\"\" SELECT UPPER(products.product_category) AS Category , \n",
    "round(sum(payments.payment_value),2) AS Sales\n",
    "FROM products\n",
    "JOIN order_items\n",
    "ON products.product_id=order_items.product_id\n",
    "JOIN payments\n",
    "ON payments.order_id=order_items.order_id\n",
    "GROUP BY product_category; \"\"\"\n",
    "\n",
    "cur.execute(query)\n",
    "\n",
    "data=cur.fetchall()\n",
    "\n",
    "data"
   ]
  },
  {
   "cell_type": "code",
   "execution_count": 18,
   "metadata": {},
   "outputs": [
    {
     "data": {
      "text/html": [
       "<div>\n",
       "<style scoped>\n",
       "    .dataframe tbody tr th:only-of-type {\n",
       "        vertical-align: middle;\n",
       "    }\n",
       "\n",
       "    .dataframe tbody tr th {\n",
       "        vertical-align: top;\n",
       "    }\n",
       "\n",
       "    .dataframe thead th {\n",
       "        text-align: right;\n",
       "    }\n",
       "</style>\n",
       "<table border=\"1\" class=\"dataframe\">\n",
       "  <thead>\n",
       "    <tr style=\"text-align: right;\">\n",
       "      <th></th>\n",
       "      <th>Category</th>\n",
       "      <th>Sales</th>\n",
       "    </tr>\n",
       "  </thead>\n",
       "  <tbody>\n",
       "    <tr>\n",
       "      <th>0</th>\n",
       "      <td>PERFUMERY</td>\n",
       "      <td>506738.66</td>\n",
       "    </tr>\n",
       "    <tr>\n",
       "      <th>1</th>\n",
       "      <td>FURNITURE DECORATION</td>\n",
       "      <td>1430176.39</td>\n",
       "    </tr>\n",
       "    <tr>\n",
       "      <th>2</th>\n",
       "      <td>TELEPHONY</td>\n",
       "      <td>486882.05</td>\n",
       "    </tr>\n",
       "    <tr>\n",
       "      <th>3</th>\n",
       "      <td>BED TABLE BATH</td>\n",
       "      <td>1712553.67</td>\n",
       "    </tr>\n",
       "    <tr>\n",
       "      <th>4</th>\n",
       "      <td>AUTOMOTIVE</td>\n",
       "      <td>852294.33</td>\n",
       "    </tr>\n",
       "    <tr>\n",
       "      <th>...</th>\n",
       "      <td>...</td>\n",
       "      <td>...</td>\n",
       "    </tr>\n",
       "    <tr>\n",
       "      <th>69</th>\n",
       "      <td>CDS MUSIC DVDS</td>\n",
       "      <td>1199.43</td>\n",
       "    </tr>\n",
       "    <tr>\n",
       "      <th>70</th>\n",
       "      <td>LA CUISINE</td>\n",
       "      <td>2913.53</td>\n",
       "    </tr>\n",
       "    <tr>\n",
       "      <th>71</th>\n",
       "      <td>FASHION CHILDREN'S CLOTHING</td>\n",
       "      <td>785.67</td>\n",
       "    </tr>\n",
       "    <tr>\n",
       "      <th>72</th>\n",
       "      <td>PC GAMER</td>\n",
       "      <td>2174.43</td>\n",
       "    </tr>\n",
       "    <tr>\n",
       "      <th>73</th>\n",
       "      <td>INSURANCE AND SERVICES</td>\n",
       "      <td>324.51</td>\n",
       "    </tr>\n",
       "  </tbody>\n",
       "</table>\n",
       "<p>74 rows × 2 columns</p>\n",
       "</div>"
      ],
      "text/plain": [
       "                       Category       Sales\n",
       "0                     PERFUMERY   506738.66\n",
       "1          FURNITURE DECORATION  1430176.39\n",
       "2                     TELEPHONY   486882.05\n",
       "3                BED TABLE BATH  1712553.67\n",
       "4                    AUTOMOTIVE   852294.33\n",
       "..                          ...         ...\n",
       "69               CDS MUSIC DVDS     1199.43\n",
       "70                   LA CUISINE     2913.53\n",
       "71  FASHION CHILDREN'S CLOTHING      785.67\n",
       "72                     PC GAMER     2174.43\n",
       "73       INSURANCE AND SERVICES      324.51\n",
       "\n",
       "[74 rows x 2 columns]"
      ]
     },
     "execution_count": 18,
     "metadata": {},
     "output_type": "execute_result"
    }
   ],
   "source": [
    "total_sales_per_category=pd.DataFrame(data, columns=[\"Category\",\"Sales\"])\n",
    "total_sales_per_category"
   ]
  },
  {
   "cell_type": "code",
   "execution_count": 21,
   "metadata": {},
   "outputs": [
    {
     "data": {
      "text/plain": [
       "73"
      ]
     },
     "execution_count": 21,
     "metadata": {},
     "output_type": "execute_result"
    }
   ],
   "source": [
    "total_sales_per_category[\"Category\"].nunique()"
   ]
  },
  {
   "cell_type": "code",
   "execution_count": 22,
   "metadata": {},
   "outputs": [
    {
     "data": {
      "application/vnd.plotly.v1+json": {
       "config": {
        "plotlyServerURL": "https://plot.ly"
       },
       "data": [
        {
         "alignmentgroup": "True",
         "hovertemplate": "Category=%{x}<br>Sales=%{y}<extra></extra>",
         "legendgroup": "",
         "marker": {
          "color": "#636efa",
          "pattern": {
           "shape": ""
          }
         },
         "name": "",
         "offsetgroup": "",
         "orientation": "v",
         "showlegend": false,
         "textposition": "auto",
         "type": "bar",
         "x": [
          "PERFUMERY",
          "FURNITURE DECORATION",
          "TELEPHONY",
          "BED TABLE BATH",
          "AUTOMOTIVE",
          "COMPUTER ACCESSORIES",
          "HOUSEWARES",
          "BABIES",
          "TOYS",
          "FURNITURE OFFICE",
          "COOL STUFF",
          "HEALTH BEAUTY",
          "PET SHOP",
          "GENERAL INTEREST BOOKS",
          "STATIONARY STORE",
          "WATCHES PRESENT",
          "PCS",
          "CLIMATIZATION",
          "CONSTRUCTION TOOLS CONSTRUCTION",
          "SPORT LEISURE",
          "BAGS ACCESSORIES",
          "ELECTRONICS",
          "CASA CONSTRUCAO",
          "GAMES CONSOLES",
          "FASHION BAGS AND ACCESSORIES",
          "HOME APPLIANCES",
          "GARDEN TOOLS",
          "AGRO INDUSTRIA E COMERCIO",
          null,
          "AUDIO",
          "TECHNICAL BOOKS",
          "CONSTRUCTION TOOLS GARDEN",
          "MARKET PLACE",
          "MUSICAL INSTRUMENTS",
          "DRINK FOODS",
          "SIGNALIZATION AND SAFETY",
          "FURNITURE KITCHEN SERVICE AREA DINNER AND GARDEN",
          "SONG",
          "HOUSE PASTALS OVEN AND CAFE",
          "FIXED TELEPHONY",
          "ROOM FURNITURE",
          "CONSTRUCTION TOOLS TOOLS",
          "HOUSE COMFORT",
          "INDUSTRY COMMERCE AND BUSINESS",
          "CONSTRUCTION TOOLS ILLUMINATION",
          "ELECTRICES 2",
          "FASHION CALCADOS",
          "FASHION UNDERWEAR AND BEACH FASHION",
          "ELECTROSTILE",
          "FOODS",
          "IMAGE IMPORT TABLETS",
          "ART",
          "DRINKS",
          "ARTS AND CRAFTS",
          "FASHION WOMEN'S CLOTHING",
          "FLOWERS",
          "FASHION MEN'S CLOTHING",
          "FASHION SPORT",
          "CONSTRUCTION SECURITY TOOLS",
          "CHRISTMAS ARTICLES",
          "FURNITURE",
          "IMPORTED BOOKS",
          "CINE PHOTO",
          "BLU RAY DVDS",
          "PARTY ARTICLES",
          "HYGIENE DIAPERS",
          "HOUSE COMFORT 2",
          "CITTE AND UPHACK FURNITURE",
          "KITCHEN PORTABLE AND FOOD COACH",
          "CDS MUSIC DVDS",
          "LA CUISINE",
          "FASHION CHILDREN'S CLOTHING",
          "PC GAMER",
          "INSURANCE AND SERVICES"
         ],
         "xaxis": "x",
         "y": [
          506738.66,
          1430176.39,
          486882.05,
          1712553.67,
          852294.33,
          1585330.45,
          1094758.13,
          539845.66,
          619037.69,
          646826.49,
          779698,
          1657373.12,
          311268.97,
          64694.76,
          317440.07,
          1429216.68,
          279121.55,
          91170.66,
          241475.63,
          1392127.56,
          187151.29,
          259857.1,
          136645.29,
          195480.38,
          218158.28,
          95532.27,
          838280.75,
          118730.61,
          252801.71,
          60324.62,
          24915.44,
          42394.41,
          45335.92,
          233074.12,
          27289.73,
          68488.05,
          74660.98,
          6901.43,
          51229.32,
          207010.26,
          136138.77,
          21069.07,
          84329.06,
          56745.76,
          72712.48,
          124563.46,
          32422.74,
          12714.54,
          225584.38,
          46428.67,
          10042.93,
          30992.93,
          71429.65,
          2326.17,
          5109.62,
          2213.01,
          17290.98,
          3645.92,
          65691.03,
          18994.77,
          31598.94,
          6701.89,
          9530.32,
          7935.28,
          5966.31,
          4221.25,
          1710.54,
          5998.54,
          4335.65,
          1199.43,
          2913.53,
          785.67,
          2174.43,
          324.51
         ],
         "yaxis": "y"
        }
       ],
       "layout": {
        "barmode": "relative",
        "legend": {
         "tracegroupgap": 0
        },
        "margin": {
         "t": 60
        },
        "template": {
         "data": {
          "bar": [
           {
            "error_x": {
             "color": "#2a3f5f"
            },
            "error_y": {
             "color": "#2a3f5f"
            },
            "marker": {
             "line": {
              "color": "#E5ECF6",
              "width": 0.5
             },
             "pattern": {
              "fillmode": "overlay",
              "size": 10,
              "solidity": 0.2
             }
            },
            "type": "bar"
           }
          ],
          "barpolar": [
           {
            "marker": {
             "line": {
              "color": "#E5ECF6",
              "width": 0.5
             },
             "pattern": {
              "fillmode": "overlay",
              "size": 10,
              "solidity": 0.2
             }
            },
            "type": "barpolar"
           }
          ],
          "carpet": [
           {
            "aaxis": {
             "endlinecolor": "#2a3f5f",
             "gridcolor": "white",
             "linecolor": "white",
             "minorgridcolor": "white",
             "startlinecolor": "#2a3f5f"
            },
            "baxis": {
             "endlinecolor": "#2a3f5f",
             "gridcolor": "white",
             "linecolor": "white",
             "minorgridcolor": "white",
             "startlinecolor": "#2a3f5f"
            },
            "type": "carpet"
           }
          ],
          "choropleth": [
           {
            "colorbar": {
             "outlinewidth": 0,
             "ticks": ""
            },
            "type": "choropleth"
           }
          ],
          "contour": [
           {
            "colorbar": {
             "outlinewidth": 0,
             "ticks": ""
            },
            "colorscale": [
             [
              0,
              "#0d0887"
             ],
             [
              0.1111111111111111,
              "#46039f"
             ],
             [
              0.2222222222222222,
              "#7201a8"
             ],
             [
              0.3333333333333333,
              "#9c179e"
             ],
             [
              0.4444444444444444,
              "#bd3786"
             ],
             [
              0.5555555555555556,
              "#d8576b"
             ],
             [
              0.6666666666666666,
              "#ed7953"
             ],
             [
              0.7777777777777778,
              "#fb9f3a"
             ],
             [
              0.8888888888888888,
              "#fdca26"
             ],
             [
              1,
              "#f0f921"
             ]
            ],
            "type": "contour"
           }
          ],
          "contourcarpet": [
           {
            "colorbar": {
             "outlinewidth": 0,
             "ticks": ""
            },
            "type": "contourcarpet"
           }
          ],
          "heatmap": [
           {
            "colorbar": {
             "outlinewidth": 0,
             "ticks": ""
            },
            "colorscale": [
             [
              0,
              "#0d0887"
             ],
             [
              0.1111111111111111,
              "#46039f"
             ],
             [
              0.2222222222222222,
              "#7201a8"
             ],
             [
              0.3333333333333333,
              "#9c179e"
             ],
             [
              0.4444444444444444,
              "#bd3786"
             ],
             [
              0.5555555555555556,
              "#d8576b"
             ],
             [
              0.6666666666666666,
              "#ed7953"
             ],
             [
              0.7777777777777778,
              "#fb9f3a"
             ],
             [
              0.8888888888888888,
              "#fdca26"
             ],
             [
              1,
              "#f0f921"
             ]
            ],
            "type": "heatmap"
           }
          ],
          "heatmapgl": [
           {
            "colorbar": {
             "outlinewidth": 0,
             "ticks": ""
            },
            "colorscale": [
             [
              0,
              "#0d0887"
             ],
             [
              0.1111111111111111,
              "#46039f"
             ],
             [
              0.2222222222222222,
              "#7201a8"
             ],
             [
              0.3333333333333333,
              "#9c179e"
             ],
             [
              0.4444444444444444,
              "#bd3786"
             ],
             [
              0.5555555555555556,
              "#d8576b"
             ],
             [
              0.6666666666666666,
              "#ed7953"
             ],
             [
              0.7777777777777778,
              "#fb9f3a"
             ],
             [
              0.8888888888888888,
              "#fdca26"
             ],
             [
              1,
              "#f0f921"
             ]
            ],
            "type": "heatmapgl"
           }
          ],
          "histogram": [
           {
            "marker": {
             "pattern": {
              "fillmode": "overlay",
              "size": 10,
              "solidity": 0.2
             }
            },
            "type": "histogram"
           }
          ],
          "histogram2d": [
           {
            "colorbar": {
             "outlinewidth": 0,
             "ticks": ""
            },
            "colorscale": [
             [
              0,
              "#0d0887"
             ],
             [
              0.1111111111111111,
              "#46039f"
             ],
             [
              0.2222222222222222,
              "#7201a8"
             ],
             [
              0.3333333333333333,
              "#9c179e"
             ],
             [
              0.4444444444444444,
              "#bd3786"
             ],
             [
              0.5555555555555556,
              "#d8576b"
             ],
             [
              0.6666666666666666,
              "#ed7953"
             ],
             [
              0.7777777777777778,
              "#fb9f3a"
             ],
             [
              0.8888888888888888,
              "#fdca26"
             ],
             [
              1,
              "#f0f921"
             ]
            ],
            "type": "histogram2d"
           }
          ],
          "histogram2dcontour": [
           {
            "colorbar": {
             "outlinewidth": 0,
             "ticks": ""
            },
            "colorscale": [
             [
              0,
              "#0d0887"
             ],
             [
              0.1111111111111111,
              "#46039f"
             ],
             [
              0.2222222222222222,
              "#7201a8"
             ],
             [
              0.3333333333333333,
              "#9c179e"
             ],
             [
              0.4444444444444444,
              "#bd3786"
             ],
             [
              0.5555555555555556,
              "#d8576b"
             ],
             [
              0.6666666666666666,
              "#ed7953"
             ],
             [
              0.7777777777777778,
              "#fb9f3a"
             ],
             [
              0.8888888888888888,
              "#fdca26"
             ],
             [
              1,
              "#f0f921"
             ]
            ],
            "type": "histogram2dcontour"
           }
          ],
          "mesh3d": [
           {
            "colorbar": {
             "outlinewidth": 0,
             "ticks": ""
            },
            "type": "mesh3d"
           }
          ],
          "parcoords": [
           {
            "line": {
             "colorbar": {
              "outlinewidth": 0,
              "ticks": ""
             }
            },
            "type": "parcoords"
           }
          ],
          "pie": [
           {
            "automargin": true,
            "type": "pie"
           }
          ],
          "scatter": [
           {
            "fillpattern": {
             "fillmode": "overlay",
             "size": 10,
             "solidity": 0.2
            },
            "type": "scatter"
           }
          ],
          "scatter3d": [
           {
            "line": {
             "colorbar": {
              "outlinewidth": 0,
              "ticks": ""
             }
            },
            "marker": {
             "colorbar": {
              "outlinewidth": 0,
              "ticks": ""
             }
            },
            "type": "scatter3d"
           }
          ],
          "scattercarpet": [
           {
            "marker": {
             "colorbar": {
              "outlinewidth": 0,
              "ticks": ""
             }
            },
            "type": "scattercarpet"
           }
          ],
          "scattergeo": [
           {
            "marker": {
             "colorbar": {
              "outlinewidth": 0,
              "ticks": ""
             }
            },
            "type": "scattergeo"
           }
          ],
          "scattergl": [
           {
            "marker": {
             "colorbar": {
              "outlinewidth": 0,
              "ticks": ""
             }
            },
            "type": "scattergl"
           }
          ],
          "scattermapbox": [
           {
            "marker": {
             "colorbar": {
              "outlinewidth": 0,
              "ticks": ""
             }
            },
            "type": "scattermapbox"
           }
          ],
          "scatterpolar": [
           {
            "marker": {
             "colorbar": {
              "outlinewidth": 0,
              "ticks": ""
             }
            },
            "type": "scatterpolar"
           }
          ],
          "scatterpolargl": [
           {
            "marker": {
             "colorbar": {
              "outlinewidth": 0,
              "ticks": ""
             }
            },
            "type": "scatterpolargl"
           }
          ],
          "scatterternary": [
           {
            "marker": {
             "colorbar": {
              "outlinewidth": 0,
              "ticks": ""
             }
            },
            "type": "scatterternary"
           }
          ],
          "surface": [
           {
            "colorbar": {
             "outlinewidth": 0,
             "ticks": ""
            },
            "colorscale": [
             [
              0,
              "#0d0887"
             ],
             [
              0.1111111111111111,
              "#46039f"
             ],
             [
              0.2222222222222222,
              "#7201a8"
             ],
             [
              0.3333333333333333,
              "#9c179e"
             ],
             [
              0.4444444444444444,
              "#bd3786"
             ],
             [
              0.5555555555555556,
              "#d8576b"
             ],
             [
              0.6666666666666666,
              "#ed7953"
             ],
             [
              0.7777777777777778,
              "#fb9f3a"
             ],
             [
              0.8888888888888888,
              "#fdca26"
             ],
             [
              1,
              "#f0f921"
             ]
            ],
            "type": "surface"
           }
          ],
          "table": [
           {
            "cells": {
             "fill": {
              "color": "#EBF0F8"
             },
             "line": {
              "color": "white"
             }
            },
            "header": {
             "fill": {
              "color": "#C8D4E3"
             },
             "line": {
              "color": "white"
             }
            },
            "type": "table"
           }
          ]
         },
         "layout": {
          "annotationdefaults": {
           "arrowcolor": "#2a3f5f",
           "arrowhead": 0,
           "arrowwidth": 1
          },
          "autotypenumbers": "strict",
          "coloraxis": {
           "colorbar": {
            "outlinewidth": 0,
            "ticks": ""
           }
          },
          "colorscale": {
           "diverging": [
            [
             0,
             "#8e0152"
            ],
            [
             0.1,
             "#c51b7d"
            ],
            [
             0.2,
             "#de77ae"
            ],
            [
             0.3,
             "#f1b6da"
            ],
            [
             0.4,
             "#fde0ef"
            ],
            [
             0.5,
             "#f7f7f7"
            ],
            [
             0.6,
             "#e6f5d0"
            ],
            [
             0.7,
             "#b8e186"
            ],
            [
             0.8,
             "#7fbc41"
            ],
            [
             0.9,
             "#4d9221"
            ],
            [
             1,
             "#276419"
            ]
           ],
           "sequential": [
            [
             0,
             "#0d0887"
            ],
            [
             0.1111111111111111,
             "#46039f"
            ],
            [
             0.2222222222222222,
             "#7201a8"
            ],
            [
             0.3333333333333333,
             "#9c179e"
            ],
            [
             0.4444444444444444,
             "#bd3786"
            ],
            [
             0.5555555555555556,
             "#d8576b"
            ],
            [
             0.6666666666666666,
             "#ed7953"
            ],
            [
             0.7777777777777778,
             "#fb9f3a"
            ],
            [
             0.8888888888888888,
             "#fdca26"
            ],
            [
             1,
             "#f0f921"
            ]
           ],
           "sequentialminus": [
            [
             0,
             "#0d0887"
            ],
            [
             0.1111111111111111,
             "#46039f"
            ],
            [
             0.2222222222222222,
             "#7201a8"
            ],
            [
             0.3333333333333333,
             "#9c179e"
            ],
            [
             0.4444444444444444,
             "#bd3786"
            ],
            [
             0.5555555555555556,
             "#d8576b"
            ],
            [
             0.6666666666666666,
             "#ed7953"
            ],
            [
             0.7777777777777778,
             "#fb9f3a"
            ],
            [
             0.8888888888888888,
             "#fdca26"
            ],
            [
             1,
             "#f0f921"
            ]
           ]
          },
          "colorway": [
           "#636efa",
           "#EF553B",
           "#00cc96",
           "#ab63fa",
           "#FFA15A",
           "#19d3f3",
           "#FF6692",
           "#B6E880",
           "#FF97FF",
           "#FECB52"
          ],
          "font": {
           "color": "#2a3f5f"
          },
          "geo": {
           "bgcolor": "white",
           "lakecolor": "white",
           "landcolor": "#E5ECF6",
           "showlakes": true,
           "showland": true,
           "subunitcolor": "white"
          },
          "hoverlabel": {
           "align": "left"
          },
          "hovermode": "closest",
          "mapbox": {
           "style": "light"
          },
          "paper_bgcolor": "white",
          "plot_bgcolor": "#E5ECF6",
          "polar": {
           "angularaxis": {
            "gridcolor": "white",
            "linecolor": "white",
            "ticks": ""
           },
           "bgcolor": "#E5ECF6",
           "radialaxis": {
            "gridcolor": "white",
            "linecolor": "white",
            "ticks": ""
           }
          },
          "scene": {
           "xaxis": {
            "backgroundcolor": "#E5ECF6",
            "gridcolor": "white",
            "gridwidth": 2,
            "linecolor": "white",
            "showbackground": true,
            "ticks": "",
            "zerolinecolor": "white"
           },
           "yaxis": {
            "backgroundcolor": "#E5ECF6",
            "gridcolor": "white",
            "gridwidth": 2,
            "linecolor": "white",
            "showbackground": true,
            "ticks": "",
            "zerolinecolor": "white"
           },
           "zaxis": {
            "backgroundcolor": "#E5ECF6",
            "gridcolor": "white",
            "gridwidth": 2,
            "linecolor": "white",
            "showbackground": true,
            "ticks": "",
            "zerolinecolor": "white"
           }
          },
          "shapedefaults": {
           "line": {
            "color": "#2a3f5f"
           }
          },
          "ternary": {
           "aaxis": {
            "gridcolor": "white",
            "linecolor": "white",
            "ticks": ""
           },
           "baxis": {
            "gridcolor": "white",
            "linecolor": "white",
            "ticks": ""
           },
           "bgcolor": "#E5ECF6",
           "caxis": {
            "gridcolor": "white",
            "linecolor": "white",
            "ticks": ""
           }
          },
          "title": {
           "x": 0.05
          },
          "xaxis": {
           "automargin": true,
           "gridcolor": "white",
           "linecolor": "white",
           "ticks": "",
           "title": {
            "standoff": 15
           },
           "zerolinecolor": "white",
           "zerolinewidth": 2
          },
          "yaxis": {
           "automargin": true,
           "gridcolor": "white",
           "linecolor": "white",
           "ticks": "",
           "title": {
            "standoff": 15
           },
           "zerolinecolor": "white",
           "zerolinewidth": 2
          }
         }
        },
        "xaxis": {
         "anchor": "y",
         "domain": [
          0,
          1
         ],
         "title": {
          "text": "Category"
         }
        },
        "yaxis": {
         "anchor": "x",
         "domain": [
          0,
          1
         ],
         "title": {
          "text": "Sales"
         }
        }
       }
      }
     },
     "metadata": {},
     "output_type": "display_data"
    }
   ],
   "source": [
    "px.bar(total_sales_per_category , x=\"Category\", y=\"Sales\")"
   ]
  },
  {
   "cell_type": "markdown",
   "metadata": {},
   "source": [
    "### 4. Calculate the percentage of orders that were paid in installments."
   ]
  },
  {
   "cell_type": "code",
   "execution_count": 27,
   "metadata": {},
   "outputs": [
    {
     "data": {
      "text/plain": [
       "Decimal('99.9981')"
      ]
     },
     "execution_count": 27,
     "metadata": {},
     "output_type": "execute_result"
    }
   ],
   "source": [
    "query = \"\"\"SELECT SUM(CASE WHEN payment_installments >=1 THEN 1 \n",
    "ELSE 0 END) /count(payment_installments)*100 AS Percentage FROM payments;\"\"\"\n",
    "\n",
    "cur.execute(query)\n",
    "\n",
    "data=cur.fetchall()\n",
    "\n",
    "data[0][0]"
   ]
  },
  {
   "cell_type": "markdown",
   "metadata": {},
   "source": [
    "### 5. Count the number of customers from each state. \n"
   ]
  },
  {
   "cell_type": "code",
   "execution_count": 29,
   "metadata": {},
   "outputs": [
    {
     "data": {
      "text/plain": [
       "[(41746, 'SP'),\n",
       " (3637, 'SC'),\n",
       " (11635, 'MG'),\n",
       " (5045, 'PR'),\n",
       " (12852, 'RJ'),\n",
       " (5466, 'RS'),\n",
       " (975, 'PA'),\n",
       " (2020, 'GO'),\n",
       " (2033, 'ES'),\n",
       " (3380, 'BA'),\n",
       " (747, 'MA'),\n",
       " (715, 'MS'),\n",
       " (1336, 'CE'),\n",
       " (2140, 'DF'),\n",
       " (485, 'RN'),\n",
       " (1652, 'PE'),\n",
       " (907, 'MT'),\n",
       " (148, 'AM'),\n",
       " (68, 'AP'),\n",
       " (413, 'AL'),\n",
       " (253, 'RO'),\n",
       " (536, 'PB'),\n",
       " (280, 'TO'),\n",
       " (495, 'PI'),\n",
       " (81, 'AC'),\n",
       " (350, 'SE'),\n",
       " (46, 'RR')]"
      ]
     },
     "execution_count": 29,
     "metadata": {},
     "output_type": "execute_result"
    }
   ],
   "source": [
    "query = \"\"\"SELECT COUNT(customers.customer_id) AS Customer_ID_Count , customer_state FROM customers\n",
    "GROUP BY customer_state;\"\"\"\n",
    "\n",
    "cur.execute(query)\n",
    "\n",
    "data=cur.fetchall()\n",
    "\n",
    "data"
   ]
  },
  {
   "cell_type": "code",
   "execution_count": 33,
   "metadata": {},
   "outputs": [
    {
     "data": {
      "text/html": [
       "<div>\n",
       "<style scoped>\n",
       "    .dataframe tbody tr th:only-of-type {\n",
       "        vertical-align: middle;\n",
       "    }\n",
       "\n",
       "    .dataframe tbody tr th {\n",
       "        vertical-align: top;\n",
       "    }\n",
       "\n",
       "    .dataframe thead th {\n",
       "        text-align: right;\n",
       "    }\n",
       "</style>\n",
       "<table border=\"1\" class=\"dataframe\">\n",
       "  <thead>\n",
       "    <tr style=\"text-align: right;\">\n",
       "      <th></th>\n",
       "      <th>Count</th>\n",
       "      <th>State</th>\n",
       "    </tr>\n",
       "  </thead>\n",
       "  <tbody>\n",
       "    <tr>\n",
       "      <th>0</th>\n",
       "      <td>41746</td>\n",
       "      <td>SP</td>\n",
       "    </tr>\n",
       "    <tr>\n",
       "      <th>1</th>\n",
       "      <td>3637</td>\n",
       "      <td>SC</td>\n",
       "    </tr>\n",
       "    <tr>\n",
       "      <th>2</th>\n",
       "      <td>11635</td>\n",
       "      <td>MG</td>\n",
       "    </tr>\n",
       "    <tr>\n",
       "      <th>3</th>\n",
       "      <td>5045</td>\n",
       "      <td>PR</td>\n",
       "    </tr>\n",
       "    <tr>\n",
       "      <th>4</th>\n",
       "      <td>12852</td>\n",
       "      <td>RJ</td>\n",
       "    </tr>\n",
       "    <tr>\n",
       "      <th>5</th>\n",
       "      <td>5466</td>\n",
       "      <td>RS</td>\n",
       "    </tr>\n",
       "    <tr>\n",
       "      <th>6</th>\n",
       "      <td>975</td>\n",
       "      <td>PA</td>\n",
       "    </tr>\n",
       "    <tr>\n",
       "      <th>7</th>\n",
       "      <td>2020</td>\n",
       "      <td>GO</td>\n",
       "    </tr>\n",
       "    <tr>\n",
       "      <th>8</th>\n",
       "      <td>2033</td>\n",
       "      <td>ES</td>\n",
       "    </tr>\n",
       "    <tr>\n",
       "      <th>9</th>\n",
       "      <td>3380</td>\n",
       "      <td>BA</td>\n",
       "    </tr>\n",
       "    <tr>\n",
       "      <th>10</th>\n",
       "      <td>747</td>\n",
       "      <td>MA</td>\n",
       "    </tr>\n",
       "    <tr>\n",
       "      <th>11</th>\n",
       "      <td>715</td>\n",
       "      <td>MS</td>\n",
       "    </tr>\n",
       "    <tr>\n",
       "      <th>12</th>\n",
       "      <td>1336</td>\n",
       "      <td>CE</td>\n",
       "    </tr>\n",
       "    <tr>\n",
       "      <th>13</th>\n",
       "      <td>2140</td>\n",
       "      <td>DF</td>\n",
       "    </tr>\n",
       "    <tr>\n",
       "      <th>14</th>\n",
       "      <td>485</td>\n",
       "      <td>RN</td>\n",
       "    </tr>\n",
       "    <tr>\n",
       "      <th>15</th>\n",
       "      <td>1652</td>\n",
       "      <td>PE</td>\n",
       "    </tr>\n",
       "    <tr>\n",
       "      <th>16</th>\n",
       "      <td>907</td>\n",
       "      <td>MT</td>\n",
       "    </tr>\n",
       "    <tr>\n",
       "      <th>17</th>\n",
       "      <td>148</td>\n",
       "      <td>AM</td>\n",
       "    </tr>\n",
       "    <tr>\n",
       "      <th>18</th>\n",
       "      <td>68</td>\n",
       "      <td>AP</td>\n",
       "    </tr>\n",
       "    <tr>\n",
       "      <th>19</th>\n",
       "      <td>413</td>\n",
       "      <td>AL</td>\n",
       "    </tr>\n",
       "    <tr>\n",
       "      <th>20</th>\n",
       "      <td>253</td>\n",
       "      <td>RO</td>\n",
       "    </tr>\n",
       "    <tr>\n",
       "      <th>21</th>\n",
       "      <td>536</td>\n",
       "      <td>PB</td>\n",
       "    </tr>\n",
       "    <tr>\n",
       "      <th>22</th>\n",
       "      <td>280</td>\n",
       "      <td>TO</td>\n",
       "    </tr>\n",
       "    <tr>\n",
       "      <th>23</th>\n",
       "      <td>495</td>\n",
       "      <td>PI</td>\n",
       "    </tr>\n",
       "    <tr>\n",
       "      <th>24</th>\n",
       "      <td>81</td>\n",
       "      <td>AC</td>\n",
       "    </tr>\n",
       "    <tr>\n",
       "      <th>25</th>\n",
       "      <td>350</td>\n",
       "      <td>SE</td>\n",
       "    </tr>\n",
       "    <tr>\n",
       "      <th>26</th>\n",
       "      <td>46</td>\n",
       "      <td>RR</td>\n",
       "    </tr>\n",
       "  </tbody>\n",
       "</table>\n",
       "</div>"
      ],
      "text/plain": [
       "    Count State\n",
       "0   41746    SP\n",
       "1    3637    SC\n",
       "2   11635    MG\n",
       "3    5045    PR\n",
       "4   12852    RJ\n",
       "5    5466    RS\n",
       "6     975    PA\n",
       "7    2020    GO\n",
       "8    2033    ES\n",
       "9    3380    BA\n",
       "10    747    MA\n",
       "11    715    MS\n",
       "12   1336    CE\n",
       "13   2140    DF\n",
       "14    485    RN\n",
       "15   1652    PE\n",
       "16    907    MT\n",
       "17    148    AM\n",
       "18     68    AP\n",
       "19    413    AL\n",
       "20    253    RO\n",
       "21    536    PB\n",
       "22    280    TO\n",
       "23    495    PI\n",
       "24     81    AC\n",
       "25    350    SE\n",
       "26     46    RR"
      ]
     },
     "execution_count": 33,
     "metadata": {},
     "output_type": "execute_result"
    }
   ],
   "source": [
    "Customer_Each_State= pd.DataFrame(data, columns=[\"Count\", \"State\"])\n",
    "Customer_Each_State"
   ]
  },
  {
   "cell_type": "code",
   "execution_count": 25,
   "metadata": {},
   "outputs": [],
   "source": [
    "sns.set_style(\"whitegrid\")"
   ]
  },
  {
   "cell_type": "code",
   "execution_count": 56,
   "metadata": {},
   "outputs": [
    {
     "data": {
      "image/png": "[encoded data removed]",
      "text/plain": [
       "<Figure size 1200x600 with 1 Axes>"
      ]
     },
     "metadata": {},
     "output_type": "display_data"
    }
   ],
   "source": [
    "plt.figure(figsize = (12, 6))\n",
    "sns.barplot(data=Customer_Each_State , x=\"State\", y=\"Count\",edgecolor=\"black\")\n",
    "plt.title(\"Number of customers from each state\",fontdict={\"size\":\"12\"})\n",
    "plt.xticks(rotation=90)\n",
    "plt.show()"
   ]
  },
  {
   "cell_type": "markdown",
   "metadata": {},
   "source": [
    "## Intermediate Queries"
   ]
  },
  {
   "cell_type": "markdown",
   "metadata": {},
   "source": [
    "### 1. Calculate the number of orders per month in 2018."
   ]
  },
  {
   "cell_type": "code",
   "execution_count": 6,
   "metadata": {},
   "outputs": [
    {
     "data": {
      "text/plain": [
       "[('e481f51cbdc54678b7cc49136f2d6af7', '2017-10-02 10:56:33'),\n",
       " ('53cdb2fc8bc7dce0b6741e2150273451', '2018-07-24 20:41:37'),\n",
       " ('47770eb9100c2d0c44946d9cf07ec65d', '2018-08-08 08:38:49'),\n",
       " ('949d5b44dbf5de918fe9c16f97b45f8a', '2017-11-18 19:28:06'),\n",
       " ('ad21c59c0840e6cb83a9ceb5573f8159', '2018-02-13 21:18:39'),\n",
       " ('a4591c265e18cb1dcee52889e2d8acc3', '2017-07-09 21:57:05'),\n",
       " ('136cce7faa42fdb2cefd53fdc79a6098', '2017-04-11 12:22:08'),\n",
       " ('6514b8ad8028c9f2cc2374ded245783f', '2017-05-16 13:10:30'),\n",
       " ('76c6e866289321a7c93b82b54852dc33', '2017-01-23 18:29:09'),\n",
       " ('e69bfb5eb88e0ed6a785585b27e16dbf', '2017-07-29 11:55:02'),\n",
       " ('e6ce16cb79ec1d90b1da9085a6118aeb', '2017-05-16 19:41:10'),\n",
       " ('34513ce0c4fab462a55830c0989c7edb', '2017-07-13 19:58:11'),\n",
       " ('82566a660a982b15fb86e904c8d32918', '2018-06-07 10:06:19'),\n",
       " ('5ff96c15d0b717ac6ad1f3d77225a350', '2018-07-25 17:44:10'),\n",
       " ('432aaf21d85167c2c86ec9448c4e42cc', '2018-03-01 14:14:28'),\n",
       " ('dcb36b511fcac050b97cd5c05de84dc3', '2018-06-07 19:03:12'),\n",
       " ('403b97836b0c04a622354cf531062e5f', '2018-01-02 19:00:43'),\n",
       " ('116f0b09343b49556bbad5f35bee0cdf', '2017-12-26 23:41:31'),\n",
       " ('85ce859fd6dc634de8d2f1e290444043', '2017-11-21 00:03:41'),\n",
       " ('83018ec114eee8641c97e08f7b4e926f', '2017-10-26 15:54:26'),\n",
       " ('203096f03d82e0dffbc41ebc2e2bcfb7', '2017-09-18 14:31:30'),\n",
       " ('f848643eec1d69395095eb3840d2051e', '2018-03-15 08:52:40'),\n",
       " ('2807d0e504d6d4894d41672727bc139f', '2018-02-03 20:37:35'),\n",
       " ('95266dbfb7e20354baba07964dac78d5', '2018-01-08 07:55:29'),\n",
       " ('f3e7c359154d965827355f39d6b1fdac', '2018-08-09 11:44:40'),\n",
       " ('fbf9ac61453ac646ce8ad9783d7d0af6', '2018-02-20 23:46:53'),\n",
       " ('acce194856392f074dbf9dada14d8d82', '2018-06-04 00:00:13'),\n",
       " ('dd78f560c270f1909639c11b925620ea', '2018-03-12 01:50:26'),\n",
       " ('91b2a010e1e45e6ba3d133fa997597be', '2018-05-02 11:45:38'),\n",
       " ('ecab90c9933c58908d3d6add7c6f5ae3', '2018-02-25 13:50:30'),\n",
       " ('f70a0aff17df5a6cdd9a7196128bd354', '2017-08-10 11:58:33'),\n",
       " ('1790eea0b567cf50911c057cf20f90f9', '2018-04-16 21:15:39'),\n",
       " ('989225ba6d0ebd5873335f7e01de2ae7', '2017-12-12 13:56:04'),\n",
       " ('d887b52c6516beb39e8cd44a5f8b60f7', '2018-02-03 12:38:58'),\n",
       " ('b276e4f8c0fb86bd82fce576f21713e0', '2018-07-29 23:34:51'),\n",
       " ('8563039e855156e48fccee4d611a3196', '2018-02-17 15:59:46'),\n",
       " ('60550084e6b4c0cb89a87df1f3e5ebd9', '2018-02-21 18:15:12'),\n",
       " ('5acce57f8d9dfd55fa48e212a641a69d', '2017-07-31 21:37:10'),\n",
       " ('434d158e96bdd6972ad6e6d73ddcfd22', '2018-06-01 12:23:13'),\n",
       " ('7206b86ea789983f7a273ea7fa0bc2a8', '2018-03-26 17:12:18'),\n",
       " ('1e7aff52cdbb2451ace09d0f848c3699', '2017-05-19 18:53:40'),\n",
       " ('6ea2f835b4556291ffdc53fa0b3b95e8', '2017-11-24 21:27:48'),\n",
       " ('948097deef559c742e7ce321e5e58919', '2017-08-04 17:10:39'),\n",
       " ('d22e9fa5731b9e30e8b27afcdc2f8563', '2018-08-04 23:25:30'),\n",
       " ('ee64d42b8cf066f35eac1cf57de1aa85', '2018-06-04 16:44:48'),\n",
       " ('6ebaec694d7025e2ad4a05dba887c032', '2017-05-18 13:55:47'),\n",
       " ('d17dc4a904426827ca80f2ccb3a6be56', '2017-05-14 20:28:25'),\n",
       " ('25f4376934e13d3508486352e11a5db0', '2018-05-17 16:59:11'),\n",
       " ('5820a1100976432c7968a52da59e9364', '2018-07-29 11:24:17'),\n",
       " ('2ce1ad82022c1ba30c2079502ac725aa', '2017-08-09 20:19:05'),\n",
       " ('138849fd84dff2fb4ca70a0a34c4aa1c', '2018-02-01 14:02:19'),\n",
       " ('47aa4816b27ba60ec948cd019cc1afc1', '2018-06-26 13:42:52'),\n",
       " ('9faeb9b2746b9d7526aef5acb08e2aa0', '2018-07-26 14:39:59'),\n",
       " ('641fb0752bf5b5940c376b3a8bb9dc52', '2017-12-15 00:06:10'),\n",
       " ('e425680f760cbc130be3e53a9773c584', '2017-08-31 08:15:24'),\n",
       " ('40c5e18f7d112b59b3e5113a59a905b3', '2018-06-11 10:25:52'),\n",
       " ('734e7d1bbaeb2ff82521ca0fe6fb6f79', '2018-06-11 08:18:19'),\n",
       " ('66e4624ae69e7dc89bd50222b59f581f', '2018-03-09 14:50:15'),\n",
       " ('a685d016c8a26f71a0bb67821070e398', '2017-03-13 18:14:36'),\n",
       " ('2edfd6d1f0b4cd0db4bf37b1b224d855', '2017-06-13 21:11:26'),\n",
       " ('68873cf91053cd11e6b49a766db5af1a', '2017-11-30 22:02:15'),\n",
       " ('f346ad4ee8f630e5e4ddaf862a34e6dd', '2018-08-05 13:09:48'),\n",
       " ('8f06cc6465925031568537b815f1198d', '2017-11-15 11:31:41'),\n",
       " ('ccbabeb0b02433bd0fcbac46e70339f2', '2018-02-19 20:31:09'),\n",
       " ('688052146432ef8253587b930b01a06d', '2018-04-22 08:48:13'),\n",
       " ('f271576bed568e896f99eb710cd3a6f8', '2018-01-07 21:44:54'),\n",
       " ('686541986ecfb7d9296eb67719973bf0', '2018-02-10 13:26:59'),\n",
       " ('68e48e68da1f50f7c5838ea75e3a20dd', '2018-06-18 16:02:23'),\n",
       " ('b52cc4919de82b4d696a4380d10804a3', '2018-06-13 13:47:39'),\n",
       " ('fdf128b3630c21adc9ca4fb8a51b68ec', '2018-07-15 08:33:19'),\n",
       " ('a6aeb116d2cb5013eb8a94585b71ffef', '2017-09-13 14:27:11'),\n",
       " ('fa516182d28f96f5f5c651026b0749ee', '2018-04-13 08:44:17'),\n",
       " ('6abaad69b8b349c3a529b4b91ce18e46', '2018-02-15 10:33:30'),\n",
       " ('974c1993ab8024d3ed16229183c2308d', '2017-02-20 11:45:39'),\n",
       " ('82bce245b1c9148f8d19a55b9ff70644', '2017-04-20 17:15:46'),\n",
       " ('a910f58086d58b3ae6f37aa712d377b9', '2017-09-15 09:19:48'),\n",
       " ('bd4bd0194d6d29f83b8557d4b89b572a', '2018-07-28 16:52:55'),\n",
       " ('634e8f4c0f6744a626f77f39770ac6aa', '2017-08-09 18:32:47'),\n",
       " ('6d25592267349b322799e2beb687871e', '2018-08-26 22:04:34'),\n",
       " ('b8801cccd8068de30112e4f49903d74a', '2017-07-30 03:06:35'),\n",
       " ('2711a938db643b3f0b62ee2c8a2784aa', '2017-12-22 00:17:37'),\n",
       " ('3bc77ce8be27211bac313c2daa402d1a', '2017-04-06 22:39:29'),\n",
       " ('10c320f977c6a18f91b2d14be13128c6', '2017-05-09 20:48:59'),\n",
       " ('0a4a2fccb27bd83a892fa503987a595b', '2017-04-20 20:42:44'),\n",
       " ('e4de6d53ecff736bc68804b0b6e9f635', '2017-10-16 14:56:50'),\n",
       " ('6b860b35691d486e45dc98e3514ec5f6', '2017-12-08 09:42:43'),\n",
       " ('ec341c54a5ebf8ee0a67a8632aa7579b', '2017-08-26 16:53:30'),\n",
       " ('cadbb3657dac2dbbd5b84b12e7b78aad', '2018-02-27 12:55:42'),\n",
       " ('9defaf92cff22420e4e8ef7784815a55', '2018-05-11 13:10:51'),\n",
       " ('20e0101b20700188cadb288126949685', '2018-01-22 19:22:22'),\n",
       " ('0e782c3705510e717d28907746cbda82', '2018-05-01 08:12:37'),\n",
       " ('d3d6788577c9592da441752e8a1dd5e3', '2017-09-19 22:17:15'),\n",
       " ('86f21bf63784876b9fd6d35f46581d72', '2018-04-11 22:32:31'),\n",
       " ('8447ff843b2616c50c0ced28ab1dae03', '2017-12-20 23:45:07'),\n",
       " ('f169bd689fb8b32ccd62df9050aebc0b', '2018-04-22 23:23:18'),\n",
       " ('77e9941864fc840be8e4b1ba5347c0f7', '2018-08-03 08:59:39'),\n",
       " ('41bb5cee06dbf170878a9ef93ac7e7f5', '2018-05-14 08:35:33'),\n",
       " ('6a0a8bfbbe700284feb0845d95e0867f', '2017-11-22 11:32:22'),\n",
       " ('f7959f8385f34c4f645327465a1c9fc4', '2017-03-30 07:50:33'),\n",
       " ('23f553848a03aaab35bb3f9f87725125', '2018-06-05 09:10:34'),\n",
       " ('e3447938231fb6ba2fee0231b51eca59', '2018-08-26 11:04:26'),\n",
       " ('e346cd9299371b18c0b28e8e29a5e376', '2017-05-17 08:36:11'),\n",
       " ('a5474c0071dd5d1074e12d417078bbd0', '2018-07-30 22:41:44'),\n",
       " ('0760a852e4e9d89eb77bf631eaaf1c84', '2018-08-03 17:44:42'),\n",
       " ('bb7c5cf4dff9994daeab7c8ee9d287aa', '2018-03-01 22:14:26'),\n",
       " ('66d03fb3c4b0f80b5db04ef9c260336d', '2018-02-06 21:09:10'),\n",
       " ('a6cd683d4bd3b9b1f0aa37b27f8116d3', '2017-01-28 23:45:53'),\n",
       " ('bfe42c22ecbf90bc9f35cf591270b6a7', '2018-01-27 22:04:34'),\n",
       " ('e1da8361c76cab67aa3588a1fbf1af54', '2017-07-01 15:42:32'),\n",
       " ('af5b0604e113e1526593d505a26ef39d', '2017-09-27 12:07:22'),\n",
       " ('9d531c565e28c3e0d756192f84d8731f', '2017-11-28 21:00:44'),\n",
       " ('4da3bd761ca73d692ae0f5c252495546', '2018-02-01 12:31:21'),\n",
       " ('80d817467dc3d0a4bb5ab8986c962b1f', '2018-08-22 16:10:29'),\n",
       " ('c75acba615d2db29345327974641467d', '2018-07-06 23:36:15'),\n",
       " ('210e60465099814a1d2c7635e4065153', '2018-05-09 18:27:00'),\n",
       " ('8fc207e94fa91a7649c5a5dab690272a', '2017-11-26 17:49:46'),\n",
       " ('4b3a605942f29d490cb74bd6ace6b9f0', '2017-09-29 09:32:17'),\n",
       " ('1c35ac660d7ef6691b25d20df3d6eccb', '2017-06-27 23:11:57'),\n",
       " ('01a75ac3dd000b7628a684be97c29234', '2018-01-23 10:32:39'),\n",
       " ('0c6b011f8a4f87010c23995f5807d152', '2018-08-20 18:24:30'),\n",
       " ('ee0c5c649e17808bc4a363d3a80ebf85', '2018-01-30 07:51:17'),\n",
       " ('f2fa3795760c35b8c05fa8e2f09d5143', '2018-03-31 14:20:46'),\n",
       " ('3923e3ade70348985bd2ca389905cf19', '2018-03-07 23:00:33'),\n",
       " ('e37797aedc7cd4ef82278fbc169eecaf', '2018-05-08 22:12:34'),\n",
       " ('35660aec0cc42b6257e24281ee0e6255', '2017-03-30 14:46:00'),\n",
       " ('b01875821b8dcb6abc61776f0f971bce', '2017-11-24 21:55:22'),\n",
       " ('5164933efe0cd14f31424b9badf81f19', '2018-04-25 22:18:10'),\n",
       " ('06a6627d9cc91a04e9d146bf65fee0a2', '2017-07-16 10:27:45'),\n",
       " ('15bed8e2fec7fdbadb186b57c46c92f2', '2017-09-03 14:22:03'),\n",
       " ('5447160f15621601fa9ba2b94f4906b3', '2017-11-21 12:08:32'),\n",
       " ('01855f880aae9a984c7c33b26fcf2e02', '2017-10-19 15:08:48'),\n",
       " ('65312c6e4ce03c0fb633a4ac541949d8', '2018-07-22 15:19:05'),\n",
       " ('741fd1b80f015f170a7f458cf86769b8', '2017-12-02 14:28:03'),\n",
       " ('b16cec67cb3f5a4bb31abe8988b43d19', '2018-03-26 09:14:26'),\n",
       " ('e6190dea235662449d160357e46eaec8', '2018-01-09 06:37:43'),\n",
       " ('8eeda294fab8a5ed70259afb59a10ff8', '2018-02-06 18:25:39'),\n",
       " ('89165e6d4c28047da0adf13ac8b3e1b3', '2018-07-18 13:39:54'),\n",
       " ('f376081d7c5f1767fbc7fae2d19ca32e', '2017-03-28 16:03:34'),\n",
       " ('4b87488fb6269f8321508923b95da4d6', '2018-06-08 12:19:58'),\n",
       " ('e9ce52cd563d0124dced659e69eab10a', '2017-07-10 12:23:05'),\n",
       " ('9344ccd01ff5fa7ec2aef0ee7e1c49c3', '2018-05-16 16:10:21'),\n",
       " ('f4471dae8c482f51aa1826cd9f5d4433', '2018-07-05 18:40:47'),\n",
       " ('aeb4c9d05ab11d7c6c9ca24f8c43bd70', '2017-09-20 17:12:34'),\n",
       " ('33a3edb84b9df4cb49546859b990ac6d', '2018-02-21 17:15:49'),\n",
       " ('9885fff91f7c807525f8320e5292a3db', '2018-01-10 14:18:40'),\n",
       " ('e7a65190baa4e6fd192246157c0b81fb', '2017-04-26 16:14:11'),\n",
       " ('62a12e4d2a742b2491d7c00d2d79bf52', '2017-11-27 19:24:52'),\n",
       " ('90349f264a3d6a2525a34598d09dda6b', '2018-05-11 16:35:19'),\n",
       " ('95cf9f239f724799131f7ca949209bd9', '2018-05-25 08:54:21'),\n",
       " ('04a59fe46fc5aa341da5378c195ed53c', '2017-11-26 09:32:06'),\n",
       " ('86b37610c0e86e94afe3d5ba4b73fa14', '2017-11-17 21:14:42'),\n",
       " ('5c2d1d55c31db1cbe069dc9b6454b897', '2018-07-23 18:27:07'),\n",
       " ('1d067305b599c1e0dceb3864056ea527', '2018-02-14 13:05:17'),\n",
       " ('abc5ec9ecaec740b498a37f19c29a8c0', '2017-04-30 22:43:56'),\n",
       " ('6942b8da583c2f9957e990d028607019', '2018-01-10 11:33:07'),\n",
       " ('c3cb4c7c4b963ab08b07a5dca5baf05d', '2017-05-15 16:29:03'),\n",
       " ('af66c46c49bdb3bf2f862efb1eb67d81', '2017-07-22 19:16:47'),\n",
       " ('14e6e050a57912543937e93051cc7b2c', '2018-06-24 19:01:52'),\n",
       " ('cefa8ee1540139ac77fa0c1b4ff1f04b', '2018-07-02 12:54:20'),\n",
       " ('265f4e28ef8cf69f8445e2951bbe7343', '2017-03-06 00:14:28'),\n",
       " ('34276839abbc2d596eb36540d36c624c', '2017-10-04 23:02:21'),\n",
       " ('556bbf53c2c22fbb9ef31a414dd444a6', '2017-12-21 17:43:41'),\n",
       " ('36530871a5e80138db53bcfd8a104d90', '2017-05-09 11:48:37'),\n",
       " ('b2bd1f09c1b8a4a36940f6f6e49d5dec', '2018-02-02 16:15:41'),\n",
       " ('e69e2290db6b2d3b7593a40112e1a82a', '2018-06-01 11:26:06'),\n",
       " ('c8627adf430caff83161acbeb344d8f5', '2018-08-09 16:23:03'),\n",
       " ('1370fae9b19ee5e01a2d609eb18b7c8a', '2017-11-15 13:47:34'),\n",
       " ('a7cd6af6e0519313887b3c3a120f20ca', '2018-04-26 11:59:05'),\n",
       " ('663830a477534735bbdec9de01113fa2', '2018-07-15 12:37:12'),\n",
       " ('b2f3763408103bc7173bb36ed02dbeea', '2018-05-30 22:33:08'),\n",
       " ('0dad6beca7ed0e352668498c29089900', '2017-12-02 14:08:33'),\n",
       " ('93ec3e2c9a4beee38c28973d307093e1', '2018-03-29 14:27:41'),\n",
       " ('5561adcb0fd46da4cad3048fa4e7fc00', '2018-06-25 15:36:18'),\n",
       " ('6245ae0abd9de1ae647b5da78c0ea69b', '2017-09-11 07:54:38'),\n",
       " ('ce9feeba53c652dd6569cca62e2bb287', '2018-04-15 19:42:06'),\n",
       " ('565923f847aad52e7638eb189cce3b51', '2018-01-13 08:19:23'),\n",
       " ('36ebb4199031e72a1fa964549b88c377', '2018-04-04 08:39:50'),\n",
       " ('232b75e8b6faa6ca2063184414e634a7', '2017-09-26 12:32:39'),\n",
       " ('ee990334acb0ff9333b01afa465f3006', '2018-02-28 17:00:28'),\n",
       " ('780fe22baa36991bdbb1559f5b549596', '2017-04-22 19:26:47'),\n",
       " ('58ac1947c1a9067b9f416cba6d844a3f', '2017-09-13 09:18:50'),\n",
       " ('ba4ddff2b9082f079de9a84d7a5605fd', '2018-01-18 09:30:54'),\n",
       " ('75351e48296ef42211a0b80c427aae57', '2017-03-14 16:25:43'),\n",
       " ('64a2b20e6611bf80d933549f4c45ad84', '2017-12-20 12:30:40'),\n",
       " ('775130c792f4c6460c63162e994a1114', '2017-12-04 17:24:57'),\n",
       " ('b0928556a10706af462ca2ab2c91903b', '2018-08-03 22:23:06'),\n",
       " ('5487a8ac1699754d975f853ce8bb9321', '2018-03-29 14:29:44'),\n",
       " ('00571ded73b3c061925584feab0db425', '2017-05-18 20:59:24'),\n",
       " ('74ebfa44a323c96a7760bd693d690a3d', '2017-06-16 00:22:49'),\n",
       " ('37104fd8b73d0691fda9491fe8906808', '2017-07-05 09:16:49'),\n",
       " ('b6b3633f97c686d8e188ac6fa29ff20d', '2018-07-27 12:45:51'),\n",
       " ('37e32b54f25d2472acbc642f7e539a36', '2017-07-08 14:12:08'),\n",
       " ('43d88b0e949865904334dd5b3ca63f50', '2018-03-15 16:59:11'),\n",
       " ('5e99f3c445038a0709b2aea8e34ed593', '2017-06-25 19:30:09'),\n",
       " ('f61b61c2cbb4192ccaf9c2c76a4cc971', '2018-02-28 21:27:43'),\n",
       " ('6d7de866a140b19d09e825b2a4e944c7', '2018-04-16 21:07:16'),\n",
       " ('3f849648ffbabb0562c7668f212e3e88', '2018-05-15 19:55:51'),\n",
       " ('7c18eddfcd24680d80a502346221614e', '2018-07-13 15:45:51'),\n",
       " ('6fa204b6cf6dcfe6c9adca7dc53aa32a', '2017-08-01 18:52:12'),\n",
       " ('58d4c4747ee059eeeb865b349b41f53a', '2018-07-21 12:49:32'),\n",
       " ('a840a7a89e3d9137358eb7b9408681fe', '2017-03-09 22:17:49'),\n",
       " ('40001f4b6e1a35f0b99fc4f44078ab27', '2017-12-09 17:27:58'),\n",
       " ('287c56aa824d8d1ea40246ad12013f62', '2018-08-01 10:48:19'),\n",
       " ('694630e7a7713c116a9b7f0ba3377382', '2018-04-09 13:56:45'),\n",
       " ('f26f92a3da58e9c771820a7b4d9a6800', '2018-02-10 19:27:28'),\n",
       " ('d1f54c6a2a7015c5687439d6d4e971ba', '2017-04-27 11:08:59'),\n",
       " ('37d6c8f1b209eab8d1b6522a1a3e4d88', '2017-12-06 15:26:09'),\n",
       " ('f9f76d0f8ab416a42a2a3dad0d710162', '2017-11-30 22:37:50'),\n",
       " ('a03ad7057fae696dd18f8967826c209f', '2017-06-05 13:24:46'),\n",
       " ('c93e4c73cba512f76817291e0de8bec4', '2017-09-12 16:32:09'),\n",
       " ('412fccb2b44a99b36714bca3fef8ad7b', '2018-07-22 22:30:05'),\n",
       " ('67b47f35ec923e39f1203f3cfa80f5e3', '2018-06-03 18:24:33'),\n",
       " ('b616f638cd86d92c7cbd06cf7484ee34', '2018-05-23 16:37:35'),\n",
       " ('258f2e5dd769d9314b349f5650005dcc', '2018-02-03 10:51:17'),\n",
       " ('f90202d14e468090464aeb4b1f0372ab', '2018-05-17 08:33:19'),\n",
       " ('615ae1b88a25a4ac47fbf55c9c847b6e', '2018-08-10 13:42:06'),\n",
       " ('52f166ce5fa053bbb27d317e4fd231b7', '2018-04-18 20:13:31'),\n",
       " ('22d17396ac4c177e0ea83929cd4f845d', '2017-09-27 14:43:47'),\n",
       " ('9ceb8ab5165cefecdddb546cb5a6362b', '2018-02-05 17:27:54'),\n",
       " ('95a74a28d622001aafb5dd088ea0d88c', '2017-11-16 14:32:06'),\n",
       " ('d493148aa5f8d08914d29ec0524e1196', '2018-01-31 13:21:44'),\n",
       " ('a0d5b8474423ddf55228373b81a46272', '2018-01-11 16:51:17'),\n",
       " ('cbec453ddd874ca620b8afc6393e3218', '2017-06-04 10:05:59'),\n",
       " ('61988b318aaf57d18336c629bc42cf1b', '2018-03-29 16:17:53'),\n",
       " ('b88d7ae9bd78eac18e8b6ceb04695fb8', '2017-07-17 21:55:56'),\n",
       " ('908e767e28908dc5ec61fe0ef8ef03f9', '2018-05-09 14:32:09'),\n",
       " ('c82a457d646f77c8f151e12a3e517ed2', '2018-08-08 21:11:25'),\n",
       " ('edc531c3153d23614049077e7e1e6405', '2018-04-17 11:25:39'),\n",
       " ('e22b71f6e4a481445ec4527cb4c405f7', '2017-04-22 13:48:18'),\n",
       " ('6efcd938092fe73904610b4bd39b2e7f', '2017-12-11 21:43:24'),\n",
       " ('1e8c81805b92ff169971231458670460', '2018-05-04 10:29:14'),\n",
       " ('4d630f57194f5aba1a3d12ce23e71cd9', '2017-11-17 19:53:21'),\n",
       " ('1da00355018ed3e0fdd548cf3ddada99', '2017-12-17 19:40:26'),\n",
       " ('21c71f62d2554e1ad6c8ba9dc7af2c62', '2017-12-21 04:59:55'),\n",
       " ('93a21c10557cc1b1ecfe2c3a808c648a', '2018-02-27 10:05:56'),\n",
       " ('38c4ae942b818085578157aabd4abf9e', '2018-03-18 20:59:28'),\n",
       " ('f175d67589e059cbbda956f10f0702e6', '2017-01-05 13:34:35'),\n",
       " ('c263211bd219538f7c031591e87ef0d7', '2017-11-24 16:56:46'),\n",
       " ('7835af1856de332f2f3c9204b740a3a2', '2017-12-24 17:34:12'),\n",
       " ('507240e305d631056d7ced5d5ab0eb9a', '2018-03-29 15:08:14'),\n",
       " ('17c2ee64306efa76f1389315a974eeba', '2017-11-29 17:43:34'),\n",
       " ('5ec8f4e8fe5ee3fd5460b244d0804f9e', '2018-04-03 13:47:14'),\n",
       " ('7156f3e0b94405abcbad1a8c94557338', '2017-04-20 16:18:26'),\n",
       " ('def622b4b003c4749c889dd9a0b43eca', '2018-01-25 23:13:41'),\n",
       " ('434d3eec8dd031c322077fb2452e53a0', '2018-05-08 14:38:14'),\n",
       " ('3ef7c7b43ae449415675a6c34720b78e', '2018-06-16 19:05:54'),\n",
       " ('7e3e92dc3eaf5389f32da97228f7dd0e', '2017-07-02 20:47:24'),\n",
       " ('4d95703047b8a80cf5796b7478900ec7', '2018-01-23 23:59:03'),\n",
       " ('955e2b622db1a1f4031ef035ce9a861f', '2018-01-16 22:34:16'),\n",
       " ('cf8f7b73e35cb19ff895c2f45c1ded72', '2018-02-22 15:04:08'),\n",
       " ('fd9b8ed51e5ffedf7a56bea36cc5b6f9', '2018-03-30 23:11:40'),\n",
       " ('bb4f0c21ae6014e40ef007ff6fbcbeb9', '2017-02-12 18:48:56'),\n",
       " ('f31535f21d145b2345e2bf7f09d62322', '2018-02-01 07:47:34'),\n",
       " ('d86359a45e3f6c6d8b35f7b13e41abf5', '2018-06-06 14:21:47'),\n",
       " ('248ff7b41bfa395f5ee828720889e664', '2017-11-17 13:12:47'),\n",
       " ('2d5cdc856665603f1580e3586bde89a5', '2018-01-30 17:36:43'),\n",
       " ('b06112f703115e6d92f3baf4e2458a5a', '2018-03-07 12:08:37'),\n",
       " ('45ac1d4b219993bf334080eac1585166', '2018-01-10 09:04:09'),\n",
       " ('51fc12a7908ea200b269a6ecfb3e7740', '2017-02-08 18:00:36'),\n",
       " ('c228d309379c3ae545cc6ca2d5aae1b2', '2018-06-30 21:57:55'),\n",
       " ('f419e615bbdeb34741d4bdd661ff8599', '2018-08-08 10:49:59'),\n",
       " ('c10ff28c81d0b9bd2a265bb0836c8b0c', '2017-10-05 05:23:47'),\n",
       " ('638f79643fd5681c6e6c6ef1f1ab700d', '2018-04-10 14:58:16'),\n",
       " ('a094215e786240fcfefb83d18036a1cd', '2018-02-08 18:56:45'),\n",
       " ('86e574a0701d15590bf31783bc7de5dc', '2018-07-12 20:24:07'),\n",
       " ('fb9b2930f4a30f96c7cc98eaaa85e5f0', '2017-11-24 14:15:53'),\n",
       " ('8e24261a7e58791d10cb1bf9da94df5c', '2017-11-16 15:09:28'),\n",
       " ('02aec12849744e266394182861265286', '2017-08-31 17:46:40'),\n",
       " ('f11b36b3bc7bacf06deef862ed611f02', '2018-05-15 09:10:20'),\n",
       " ('2c3a5e5f5bc3ae78ed5748461e62d47d', '2018-01-22 19:22:26'),\n",
       " ('4eeecb9e657525024b9b538730c5f974', '2018-06-16 00:01:56'),\n",
       " ('6f954a919130aa1e8def4ed1b9fca432', '2018-07-28 18:21:00'),\n",
       " ('56bd45163229b35ca0ab490c1e3d3233', '2017-11-28 21:07:26'),\n",
       " ('6bb1e842418aac0c9c820afd3bb63a2d', '2018-02-11 14:13:54'),\n",
       " ('28fa410eec232354726af94904c6fa9b', '2018-03-17 15:21:11'),\n",
       " ('f93af565de05d2427790ad8d0368a80e', '2018-06-03 11:52:11'),\n",
       " ('3f3913e8c7fd221ac82a34ffa20b93ee', '2018-05-07 21:49:08'),\n",
       " ('ed91235fc08276eed0470b26a6dbd4a3', '2018-03-09 14:58:05'),\n",
       " ('7107c5823a581db0314f8f0fa95f61e7', '2018-02-27 15:53:44'),\n",
       " ('3a830ecb5338f0ff69822d388b64822e', '2018-01-24 11:40:28'),\n",
       " ('955ea2e3177592d909296220d7fcdebd', '2018-06-09 11:02:51'),\n",
       " ('6d231a099f98f5a590ad78db56ae82f1', '2017-11-11 22:16:49'),\n",
       " ('4bb6e6f5af26e1f5951d934386615406', '2018-06-28 11:08:58'),\n",
       " ('c4d2f075fc3bf3a06d1e68e113c35cbd', '2018-08-01 14:58:41'),\n",
       " ('52e5445828db681d83dccb33a15ecac4', '2017-11-24 17:37:41'),\n",
       " ('879195f2460f97ab2f3bf119f2e8638b', '2018-02-03 14:56:55'),\n",
       " ('22ff7c206b68858435452298296c2fcb', '2017-04-27 10:24:22'),\n",
       " ('ebc8d4b1397747291b758772e9d87984', '2018-04-10 16:22:27'),\n",
       " ('9f882c1f904b7dd156572ada58d7a7ae', '2017-11-13 10:07:36'),\n",
       " ('5691d72069359cd293ac9a14f1bd5e9b', '2018-07-23 10:21:28'),\n",
       " ('884cb4ce4a06390d35206de06f785d13', '2018-04-03 20:44:15'),\n",
       " ('8e9e2a5d159d5718b34b926a34a0498f', '2018-01-12 19:27:08'),\n",
       " ('c0aa0e99afe6f6dac845326a854690fd', '2017-07-24 17:19:00'),\n",
       " ('1d251ab94983c4adb11e4b168abb1439', '2018-03-07 23:46:19'),\n",
       " ('d9cfa4b0f995deb2fa9758d5534e1d13', '2018-06-05 11:36:11'),\n",
       " ('8a49984afb76dae66f3810e1b7093ec4', '2018-02-15 23:27:21'),\n",
       " ('c26b94aa87e95d1c1eb1b592f43eb223', '2017-06-29 00:10:49'),\n",
       " ('06ae7271902bbb087fc093137fee6e81', '2018-01-19 21:07:32'),\n",
       " ('8373f5d7df6d9249999fd38f8513e6d7', '2018-03-29 12:00:11'),\n",
       " ('3b4ad687e7e5190db827e1ae5a8989dd', '2018-06-28 12:52:15'),\n",
       " ('4570fa83dbb31a563e06db0a554b951e', '2018-03-15 20:23:45'),\n",
       " ('04040ee654b248cdc512a68ecc83e4cc', '2018-03-27 22:14:59'),\n",
       " ('0b584b729bdfec204ec2aa5d21d6ca56', '2018-08-03 13:32:54'),\n",
       " ('bd2623f3663c5daa3f89e6b527fd49da', '2017-01-21 17:08:01'),\n",
       " ('343076b69aa1f03ee4beb49cf6baee58', '2017-09-26 11:08:38'),\n",
       " ('b68d69564a79dea4776afa33d1d2fcab', '2018-02-28 08:57:03'),\n",
       " ('f04bfdbef5359607d39e66fccc9cc0de', '2017-09-13 15:07:45'),\n",
       " ('d74d2985a4c187334dc59722076a2e5f', '2018-08-09 20:36:13'),\n",
       " ('bd3e89bd89fac4760b244047d795e2fe', '2017-12-07 09:40:04'),\n",
       " ('fb6ba131bbeb30fd6db9c8900b5c5b92', '2018-05-30 02:41:28'),\n",
       " ('82daed31f80350ce51f518369a8d181c', '2017-06-27 10:45:08'),\n",
       " ('4906eeadde5f70b308c20c4a8f20be02', '2017-12-08 04:45:26'),\n",
       " ('ae17bb94dfb3eaf396cd393eace1de80', '2018-03-09 15:09:28'),\n",
       " ('6379750dac6a8a1e11378e34278ae8df', '2017-09-11 11:50:32'),\n",
       " ('7ac1f3de2cdc809de6aa1e6719451f53', '2018-06-12 09:52:46'),\n",
       " ('aa466a92af916f9f68e56fce7d3a21b1', '2018-07-03 01:17:32'),\n",
       " ('c619ac0f9cdcfcebdfb9490451166da4', '2017-05-23 15:28:58'),\n",
       " ('31ef15cb5a3faa4df17e96b09cd8c1a1', '2017-11-29 18:27:30'),\n",
       " ('dc400373e624e9b0435847a79813c658', '2018-01-14 18:49:14'),\n",
       " ('09d3f9f1be63c067456cc619076685a1', '2017-08-23 15:40:22'),\n",
       " ('e3a83a19707a6f27e4fde8d6b13d43f4', '2017-09-10 22:32:14'),\n",
       " ('7d2286ec219f58023352077d938dee48', '2018-08-21 16:45:44'),\n",
       " ('ec1fc57b72a7bbe5b32f9c606510db76', '2018-05-27 17:59:00'),\n",
       " ('16c24987724018f73b746aacfbb5f8e8', '2017-05-20 02:48:00'),\n",
       " ('d3c8851a6651eeff2f73b0e011ac45d0', '2016-10-05 22:44:13'),\n",
       " ('75f433fd5ff62807235cb08b520c3c49', '2017-07-28 11:25:16'),\n",
       " ('bca3dc20a3ec02261c5b17dc270e9e65', '2017-12-05 10:34:52'),\n",
       " ('bbd64b019b5ea3ed83a114cc665328ff', '2018-03-07 15:37:22'),\n",
       " ('74c951ce0835b2741d3014321ae9c480', '2018-08-20 17:38:55'),\n",
       " ('4e2160ff7a61b2bf4fbd2e527ea924d3', '2018-02-09 13:48:17'),\n",
       " ('b75b4f6e7c5fe3fa05707992a88d9d38', '2018-08-02 14:41:02'),\n",
       " ('6f841dde94727854eaff3f66432c80ea', '2018-01-02 19:20:35'),\n",
       " ('2b72a32a2c3e93fa260ca7655073886f', '2018-04-18 15:40:36'),\n",
       " ('f373335aac9a659de916f7170b8bc07a', '2018-03-17 15:32:31'),\n",
       " ('3d087f98b006ae162b5e3b56e7bfdb4a', '2018-01-05 11:04:11'),\n",
       " ('a7076e7aba13de8b66d95a55811290ed', '2018-05-14 11:04:55'),\n",
       " ('d7f4e2f755cf2f40aa7c39804cfe01c4', '2017-11-26 12:50:56'),\n",
       " ('6f5a2dbe5ccce73a9d053a542baabd1c', '2018-06-26 10:58:48'),\n",
       " ('66f6b3a33b0339acbf55dd71977c4293', '2017-12-01 20:39:26'),\n",
       " ('2f246ee329fce6932458bc7a10625d2a', '2017-05-26 18:35:51'),\n",
       " ('d65c179a817be22977e263fbc1a4fef4', '2017-08-09 21:43:53'),\n",
       " ('2babe10ce6bcb68b1e3bd35e24424466', '2018-08-09 22:52:27'),\n",
       " ('ac64f79a33bfa575fc5a17e7926df3d5', '2018-04-01 18:27:01'),\n",
       " ('727412faf7aef5ef3c7e0f03350d80c7', '2017-04-19 13:45:55'),\n",
       " ('cedd898e1a953e9a8f3d763a364f6717', '2017-08-17 17:03:31'),\n",
       " ('858505c5992f35429d07aae37bad60a8', '2018-08-16 10:39:48'),\n",
       " ('6cb134bb285a64b0425d1fdaa00d4214', '2018-07-01 20:54:21'),\n",
       " ('f11e9516ca2b6091b64f2e2ea0ebebb3', '2018-02-22 20:53:14'),\n",
       " ('4d4ef6cd8147028ffd8c18dc0f6e3050', '2018-08-24 19:01:02'),\n",
       " ('0438fc3e115633e11a93c878a1591016', '2018-08-11 20:58:44'),\n",
       " ('3faf126d8a3b0684272791cd3c6cf3fe', '2018-02-25 14:13:44'),\n",
       " ('0b0f3c7a9bcb6ad1fccab28f9240da6f', '2018-07-11 17:22:56'),\n",
       " ('65f78a0e1f8b80c4f6d8d5c6073b8601', '2018-07-31 16:16:19'),\n",
       " ('b7e4aca3e798d20643faacb681272a9c', '2017-10-11 17:31:49'),\n",
       " ('b52d29abb97a3978df1d8922bfe36fbe', '2018-05-09 17:11:41'),\n",
       " ('3f596c69e8e78788530d898331118c7c', '2017-11-25 16:23:49'),\n",
       " ('0c228d925a49aa5e3b35febb948f4f72', '2018-07-24 12:45:26'),\n",
       " ('6cc4eb51469dec50a6130fe1cd07b7f9', '2017-05-08 12:22:44'),\n",
       " ('4709741e829775567b92abc42437b461', '2018-03-29 22:46:19'),\n",
       " ('0341b60065c49221a27293793f11b117', '2018-04-22 14:26:17'),\n",
       " ('25ebb07a1069a75d3cb9baf0a94f22d0', '2018-07-22 06:24:50'),\n",
       " ('c2d07d9078b700b9198a126183867c16', '2018-08-14 17:48:09'),\n",
       " ('25d47ee9a060a0359e8a10a858fc39a1', '2017-12-19 13:02:13'),\n",
       " ('cf0ac4e12ad66c28302fc103670222fa', '2017-10-25 13:32:46'),\n",
       " ('43488f856ed3fa3e7d3f8228755d383b', '2017-07-31 19:05:32'),\n",
       " ('32bda40452bf0485c310bca24eb53886', '2018-07-06 18:16:06'),\n",
       " ('2728209b1b0553533bce4afc52716b60', '2017-10-24 14:23:58'),\n",
       " ('b335cf4d393acc627b82e83b3b3711fe', '2018-06-12 20:54:25'),\n",
       " ('59d34e1064930d037d30041b73683aa7', '2017-11-09 21:08:01'),\n",
       " ('6f6665c1d76e55561978ccb45bdcafc6', '2017-02-23 08:03:00'),\n",
       " ('db5fdbee9ab29d55f24c329246e6fe51', '2017-06-17 13:16:44'),\n",
       " ('9cf566da5a3277749dbd61fa060e8110', '2017-05-29 12:35:44'),\n",
       " ('15fb9c745e91eff5482a9af2a5fad0e6', '2018-05-24 12:16:48'),\n",
       " ('141ad0192cfa16174e4fd0a1a7e7ba4a', '2018-06-03 21:08:31'),\n",
       " ('5869074071e0f56e9085dc3742c97b2a', '2018-06-08 20:06:48'),\n",
       " ('e5d931ebd7214cd492fff71fb6a2aeff', '2018-05-14 17:56:57'),\n",
       " ('7842147864c0425541edd55923f3c0f1', '2018-01-29 13:38:02'),\n",
       " ('6b7c5703bdc03335b37020877a06625e', '2017-11-24 01:34:00'),\n",
       " ('cbbb524a0e1646aa6cf7a3c0bbe517ad', '2016-10-05 07:31:49'),\n",
       " ('77af7c6e42549e58f42977d5be538d0d', '2018-03-07 16:27:30'),\n",
       " ('7e05645577366863a93350aac5cc7de5', '2017-03-22 17:25:28'),\n",
       " ('ed01ce003df13cab401ba2ff57ea2542', '2017-11-06 18:20:00'),\n",
       " ('b7a4a9ecb1cd3ef6a3e36a48e200e3be', '2017-05-19 18:13:54'),\n",
       " ('f09942b1e1419e69f7509158f2a9c1d6', '2017-12-16 13:51:18'),\n",
       " ('d10090be5f75fb89b6817469f0ce1a30', '2018-04-18 13:13:47'),\n",
       " ('5342acb7b183acec77f59e4d78f7c804', '2018-03-29 20:53:48'),\n",
       " ('72ee4a26e767e55282ac10e63c7b1227', '2018-06-23 19:24:21'),\n",
       " ('6cd474b81add3c3d62536cab3e34aa23', '2018-08-06 09:12:33'),\n",
       " ('4f7e398a1ddb1c349465b42b6865c60b', '2017-06-02 14:00:19'),\n",
       " ('05387d537bd2e5027aadbfb6a5123e4b', '2017-11-06 16:24:03'),\n",
       " ('59b32faedc12322c672e95ec3716d614', '2018-06-27 11:10:11'),\n",
       " ('c158e9806f85a33877bdfd4f607b72e7', '2017-04-14 22:06:32'),\n",
       " ('19721d59a9764437477eff0730b48665', '2018-03-26 11:02:31'),\n",
       " ('08652363092b158440e2422e7c3ccaf4', '2017-12-04 18:26:12'),\n",
       " ('e92f3505810692cd4a0350b19e2d9045', '2018-06-13 22:54:20'),\n",
       " ('38c1e3d4ed6a13cd0cf612d4c09766e9', '2018-02-02 15:26:38'),\n",
       " ('5a63a60ea2852393994270157cd61e0a', '2017-08-10 19:47:29'),\n",
       " ('1b9ecfe83cdc259250e1a8aca174f0ad', '2018-08-04 14:29:27'),\n",
       " ('409e4a6eadbdc33f16ccf0bda01eec1f', '2017-09-05 18:24:22'),\n",
       " ('4fc42727f0b542099a7568206da01fa6', '2017-12-07 20:38:37'),\n",
       " ('b0ff8ff92f8d916fa2e8005cd8e1a135', '2017-11-19 16:12:34'),\n",
       " ('bb27f9e70d5cdc66d0c616aee3dbb387', '2017-12-08 23:41:49'),\n",
       " ('b60b53ad0bb7dacacf2989fe27ad567a', '2017-05-10 14:03:27'),\n",
       " ('db0d194c127a36909de3bda3edad30bc', '2017-11-30 13:34:43'),\n",
       " ('884b1394fc8888e6a877df86eb19e74c', '2018-03-19 21:50:14'),\n",
       " ('ac7a92560a9e99f0a0ab4988102f491b', '2018-03-04 15:58:09'),\n",
       " ('197edbaa61a8a349f382553fd2180ee1', '2018-07-02 13:58:59'),\n",
       " ('da8be3bb62e9bf01e2e1a3bfd74ebd1a', '2017-04-06 13:44:08'),\n",
       " ('dcbd516c0f39081a5e542ef76bbc3fe4', '2018-08-12 12:04:03'),\n",
       " ('c2215076050fa358934105b15c34cf3b', '2017-07-16 10:04:36'),\n",
       " ('8bbbef97d763f4dcf2e12cc5b5e0cee6', '2018-07-28 20:07:49'),\n",
       " ('6de3383be650cfe96aed26171ad65c47', '2017-10-18 16:44:45'),\n",
       " ('b8c38cf37cd17fd645f2e84101c8a679', '2017-08-28 22:47:13'),\n",
       " ('21f4a37ec131158f1615d0f186f190af', '2017-12-21 20:11:07'),\n",
       " ('c186ebe3937470a2f562a2dc0bc74dd7', '2017-11-27 13:33:35'),\n",
       " ('56a4ac10a4a8f2ba7693523bb439eede', '2018-07-22 13:04:47'),\n",
       " ('d62387acb3914789e712406e9882e549', '2018-05-08 19:48:01'),\n",
       " ('e659b8223be6f632acb24fb80cf50ca9', '2017-11-18 11:30:58'),\n",
       " ('b693d6c35867fa1937455e04f2547df2', '2017-05-11 09:13:17'),\n",
       " ('0f9dc92df0635605588c51ec2e4c58a0', '2017-12-27 19:19:44'),\n",
       " ('8efc076145638bcd5298053ddde6ff0c', '2018-01-09 11:19:49'),\n",
       " ('35b7d83c8629ba8d0f718d9d293cf436', '2018-06-23 18:07:30'),\n",
       " ('418764469a9e73f76f56783c1863bd05', '2018-07-03 19:34:23'),\n",
       " ('45ed6e85398a87c253db47c2d9f48216', '2017-06-08 21:18:45'),\n",
       " ('0bc4a984d79279c843421830f595273c', '2017-10-17 18:22:05'),\n",
       " ('bb3b61a129aba9eeb10bb81a4770f3b1', '2017-09-08 13:37:07'),\n",
       " ('7876404b81dcee26d47be1c7131b16ec', '2017-07-17 09:29:02'),\n",
       " ('0ac645ddb846d1373321decb39c9956f', '2018-05-07 20:57:42'),\n",
       " ('711f6009f8bf028b3fa426696b581432', '2018-08-01 16:54:38'),\n",
       " ('cf18c0b77059499a99818871229ab994', '2018-08-21 10:19:27'),\n",
       " ('6147a4d49752afd35a119d794e481588', '2017-04-25 13:35:09'),\n",
       " ('d977821da81b766c90bcd3351f0dbf19', '2018-05-04 21:40:39'),\n",
       " ('5c1f2bd7eff419c165428371164d750c', '2018-03-08 15:59:11'),\n",
       " ('5a00ef28abf9645038a7d37c1639d2c2', '2018-06-11 13:00:02'),\n",
       " ('5a0e5ad33542c79b10be87a344ee0086', '2017-06-13 11:13:38'),\n",
       " ('0d25f1b15acb59ceff22667265743132', '2017-08-04 21:44:43'),\n",
       " ('f0a82a328fd64b2796242bbfddb7e1d4', '2017-10-06 18:22:19'),\n",
       " ('bba5aa837be7e597e91c6ddedf604cd8', '2018-05-19 12:14:08'),\n",
       " ('72144791fc7fd8048eafc90d7f82ba54', '2017-08-05 19:30:41'),\n",
       " ('664c5e57eb8479a79caeb79fc79699ca', '2017-10-31 09:59:07'),\n",
       " ('f97a6e53615dfc1488e4bcf3dfe1cb2f', '2017-09-11 09:40:11'),\n",
       " ('faa911f9ff46e53aedc9408c5d6a24ad', '2018-03-07 16:42:57'),\n",
       " ('72344ea1113e3227494c465a64ae58aa', '2018-01-13 15:43:58'),\n",
       " ('b3fb87dd5ffb58351fd40c4f9fe03cdf', '2018-06-19 00:26:23'),\n",
       " ('95e42e6aaf6264cd3e77c06b32dc3003', '2017-11-24 09:23:33'),\n",
       " ('690199d6a2c51ff57c6b392d7680cbfd', '2018-03-16 11:31:18'),\n",
       " ('56ecd129e9283080044e40f77065b350', '2017-10-12 23:11:44'),\n",
       " ('3b881091c6fc2687191b01c705287c13', '2018-08-06 22:25:10'),\n",
       " ('86f408a9212aebbcddb41c1e8c65ebe0', '2018-06-16 18:31:23'),\n",
       " ('1cb6cfd9e6306cfe607017391834999a', '2017-04-29 20:09:24'),\n",
       " ('6c2953724cd30669e1b904e179a2346f', '2018-02-17 10:33:27'),\n",
       " ('567653c46861b54519b6f4cdee500f0a', '2018-08-01 17:57:54'),\n",
       " ('7b58fca3faf09217a36d5febee5739a5', '2018-03-04 22:59:50'),\n",
       " ('f30607daae66843552e00843c6de88ef', '2018-02-21 13:18:37'),\n",
       " ('4207ad8e0e4e4070f271c930d25f72d7', '2017-10-09 19:42:43'),\n",
       " ('38b7efdf33dd5561f4f5d4f6e07b0414', '2017-08-01 18:17:41'),\n",
       " ('4f7ce3efe568a5e57290a9fa3e45b1f5', '2018-01-26 13:32:22'),\n",
       " ('3440f090efa1949bc4e9ebd0b89b2b6c', '2017-01-27 00:34:10'),\n",
       " ('b34523b3a1e3a1ad856985080738c879', '2017-09-18 01:02:11'),\n",
       " ('550a019d25590b5b3b6d31c0fd3edbbb', '2017-04-03 23:09:50'),\n",
       " ('0d09617395364c88c4ad7c457b439314', '2018-06-04 08:33:09'),\n",
       " ('e5a7c745f93cb381d78042cdef65b05b', '2017-09-14 18:32:52'),\n",
       " ('f112b9fc8967a675670bedf5a2bc6b2b', '2017-02-17 17:37:52'),\n",
       " ('580c882a5805c78546ea65ec6d3690e4', '2018-02-05 17:40:34'),\n",
       " ('8adafb3466daa5395694d3a906ff9d40', '2017-01-25 15:47:27'),\n",
       " ('66cf92fc3ec94fbafc4edd77e0814818', '2017-04-27 14:17:37'),\n",
       " ('e54613f3313c396f77d8280b9121ea2e', '2018-06-15 21:45:12'),\n",
       " ('eb270c4cbf3671961f3883e8b888571b', '2017-12-06 09:53:36'),\n",
       " ('a87f63f16c37c383775f476c6f22b635', '2017-01-14 15:42:20'),\n",
       " ('dc05a07c0cc70e26e10e274313034ad3', '2018-08-01 16:37:54'),\n",
       " ('ec3d63b91b19bedcbe453ea0df14dd50', '2018-05-20 10:33:47'),\n",
       " ('d4922affdd87d3e42657243354c7acd1', '2018-07-01 21:12:33'),\n",
       " ('6e09e14cbfbf46215f17805edfb79aae', '2017-05-21 21:10:35'),\n",
       " ('f847298c3beb552989d31c5f673da6fc', '2018-03-14 11:22:37'),\n",
       " ('b1b5b604a5e207c764779ffb50527018', '2017-10-31 21:47:13'),\n",
       " ('c3fd670b03599718895218d479f660b6', '2017-10-04 17:56:28'),\n",
       " ('a57a5bbb57b15b49050bc6a58a2f240e', '2018-01-17 09:55:37'),\n",
       " ('267e5fff0e80197e6553c5596ed81dbd', '2018-07-20 11:46:49'),\n",
       " ('5a630e3d4aeb6fca86404481eb19cfe7', '2017-12-14 09:06:34'),\n",
       " ('dcb4a1d21593a108db61f12a4b3d61db', '2018-06-19 13:22:15'),\n",
       " ('3b14820d642ea72e95df3289b6539c1c', '2018-04-02 13:01:06'),\n",
       " ('32e4fa9bb468884309b58b9348de70c3', '2018-07-04 16:49:21'),\n",
       " ('813f8916cd12b887b0fa271f3263a4d3', '2017-04-13 17:26:06'),\n",
       " ('4df92d82d79c3b52c7138679fa9b07fc', '2018-07-24 11:32:11'),\n",
       " ('27f9fff9f14236589804b62bce39f526', '2017-07-05 11:55:58'),\n",
       " ('142ac5357e541e5881d26fc5eb5f3754', '2018-04-30 20:24:33'),\n",
       " ('f833a0260cb98fa615a517d4e4a8cdf3', '2017-05-03 14:31:43'),\n",
       " ('9d48a2dfef2e0cb6155f816b9bf8489c', '2018-05-25 22:10:13'),\n",
       " ('9dc8d1a6f16f1b89874c29c9d8d30447', '2017-10-12 13:33:22'),\n",
       " ('d83706c29baf36eedf5e8adfb0da304e', '2017-03-13 11:36:11'),\n",
       " ('9472d3c8a0ad463cbfc89897334431da', '2017-11-20 16:21:04'),\n",
       " ('e811880120e802367a37c73fdbc0a7a2', '2017-11-26 15:47:51'),\n",
       " ('d4ab8a264235be36f72a07621046d082', '2018-06-01 15:34:15'),\n",
       " ('b417d44c131fe6470b3226c7b59f6a8f', '2017-12-23 15:50:03'),\n",
       " ('f049e19134a95d09c806851a5ea1872e', '2017-12-01 07:15:07'),\n",
       " ('e5d48f5d3719ee190629a850e362dc57', '2017-12-03 20:22:53'),\n",
       " ('407408433ee2a9ed77984aa5a06e2b2e', '2017-10-04 11:31:15'),\n",
       " ('a0411a1811cf1c3c1312372cb0495c6f', '2018-08-21 20:36:22'),\n",
       " ('0fc34e566d3273325c404c113f4a8b2a', '2017-11-02 14:51:11'),\n",
       " ('50c71607b83f5edc9a65e7c7d9910b1a', '2017-06-23 11:23:50'),\n",
       " ('3c3fa8869e142a240f57aef59c095f6c', '2018-05-10 16:04:42'),\n",
       " ('5b96fa278c2b3c1e29c190ef1b651d08', '2017-02-13 09:35:10'),\n",
       " ('b3206cf64b7cd1480a6c6f9912b20666', '2017-09-13 20:30:02'),\n",
       " ('33209e0f87b2ed543a0876812c9c5c40', '2018-04-11 14:59:05'),\n",
       " ('ea337f88a8c5cab4e99da87460f1b99e', '2017-03-19 23:15:51'),\n",
       " ('c82430e4a84f03b67cc2a82fecd873f0', '2017-11-03 12:56:49'),\n",
       " ('c3664571c21d82f7d8ada5770af419f9', '2017-11-27 19:41:55'),\n",
       " ('ad7ddb009f1bcd6c40cb1106471c292c', '2018-07-18 16:16:28'),\n",
       " ('a865adb8bec2475e30e835eaf1b9e7d6', '2018-05-06 10:27:56'),\n",
       " ('ac85808794ef111b4689bbdb5ea7f2c9', '2017-11-11 12:10:02'),\n",
       " ('9d513821c0477231fc7c1bfd684d13d8', '2017-02-20 21:31:59'),\n",
       " ('39a0eaa2a980c810beaf68d76e52fa96', '2018-03-07 17:53:30'),\n",
       " ('cf3d593f97ce4a58adbd6b488579fa36', '2018-06-24 08:21:25'),\n",
       " ('8ca57f2b32c00588cab243b2115441f5', '2018-08-06 18:45:01'),\n",
       " ('65d7e9625cc211f641191203e231ac24', '2017-08-04 10:46:33'),\n",
       " ('ad2b0f4fd912cd3c834e5976c46b75b7', '2018-05-03 14:31:13'),\n",
       " ('c432ba5b3bb83966c1b66696c395a2fb', '2017-12-02 07:55:59'),\n",
       " ('62fe29a53926ef67e73c4b5f3e1ba6f3', '2018-01-01 23:15:14'),\n",
       " ('769cad60df1d40dccfd5ec163be24654', '2017-09-03 15:21:44'),\n",
       " ('48a928c553c276852b35ce90fedfeee2', '2018-02-03 00:18:09'),\n",
       " ('40ef667b4259d5f521a0fd1a093d0415', '2018-07-11 19:25:07'),\n",
       " ('7f97f025c45cac922275120fdee4e062', '2017-02-07 12:01:07'),\n",
       " ('00125cb692d04887809806618a2a145f', '2017-03-23 12:21:17'),\n",
       " ('eba75422c6a2414d3cd8289123e64200', '2018-07-30 18:25:18'),\n",
       " ('626e4ba4ac663dadb68a6fe4b0d7b8d4', '2018-02-09 15:26:21'),\n",
       " ('3ec2c982a9497e2aa32da12b18ce7266', '2018-05-04 20:19:38'),\n",
       " ('98e54ac24cb241c366307ed88ae84902', '2017-11-26 12:15:07'),\n",
       " ('18d686f1bb1270182c646fe337459d79', '2018-02-15 15:07:11'),\n",
       " ('93b82c635931ca55e5d20e0d095507ce', '2017-08-31 05:31:43'),\n",
       " ('c5e754f77f6f127371e929ccb707fce3', '2017-02-11 10:53:48'),\n",
       " ('0f8532e6a9c1e86b215fda5c13f37fad', '2017-05-08 14:59:40'),\n",
       " ('4fe2fd5509bca02cbd39aa5b3eeb2a8f', '2018-08-27 13:57:36'),\n",
       " ('46c22ce0488991c798933effd2b57574', '2017-02-06 15:43:18'),\n",
       " ('cd864dfff08db3d739750d749ec053b3', '2018-01-16 10:02:20'),\n",
       " ('b65067f5a1e9e4aea30dae0dc505119b', '2018-05-18 11:26:45'),\n",
       " ('31426d292a5d34315a18ac11d6eef7eb', '2018-01-22 19:19:21'),\n",
       " ('eafef0e6c44f121531569a69a318c3b3', '2017-11-29 13:03:33'),\n",
       " ('1f6405caa14a2debb88594b0471ed340', '2017-12-26 02:35:27'),\n",
       " ('2ed75ffbf396fcdc6341f17d1a16ef5d', '2017-12-12 20:54:42'),\n",
       " ('c0e59bb74c6b71dbd39b3073120e957d', '2018-08-04 09:09:37'),\n",
       " ('10918fe4d665fda80034712895c2b92f', '2017-06-26 07:04:39'),\n",
       " ('64a9f2b487f66506d463ca18152280e8', '2018-02-24 08:45:01'),\n",
       " ('e5e6a20a4c3fbe6ee280c01f8fe279cc', '2018-08-05 11:05:53'),\n",
       " ('6d46f8b7f485ad93146f9880682d4eb2', '2017-11-26 11:38:04'),\n",
       " ('011b142c9e082a5c1d10e0a88cd9c8e8', '2018-03-23 11:43:13'),\n",
       " ('cd0019d8419b82109ff269d8b4e18791', '2018-05-17 07:17:54'),\n",
       " ('fa859e78da068661b096bfb4466ded18', '2017-12-09 17:13:50'),\n",
       " ('7753606fb1d0067848f8a1a7ae5abefa', '2018-05-02 13:17:54'),\n",
       " ('3606d0126c19d4197f835572f5162c20', '2018-01-25 19:46:47'),\n",
       " ('4d2d8a4224215f680cc5221011347401', '2018-03-01 12:43:37'),\n",
       " ('87386e2485df1ab61a6d060a092e4d6f', '2017-11-16 23:40:17'),\n",
       " ('91bcade2288597459e1dbce52d6d0ef9', '2018-01-04 13:14:34'),\n",
       " ('df8e5e994bcc820fcf403f9a875201e6', '2018-08-01 13:30:12'),\n",
       " ('3480c6733692db0895d7f240dc18d9d6', '2017-10-17 15:58:05'),\n",
       " ('b028c30dc8af213ae4c26a64446211db', '2017-11-16 16:20:02'),\n",
       " ('7845a2492ab1b4f2cf3d56c7b8da1446', '2018-01-18 12:35:45'),\n",
       " ('b3ceb7d2c66651bd0f6531ffba8745fb', '2017-09-08 14:56:50'),\n",
       " ('c4cffa375b754170e9823a1fe9ac75bb', '2018-07-29 00:48:48'),\n",
       " ('d44b754260def6c94daa9e661e530044', '2017-04-25 21:33:39'),\n",
       " ('f9fe35b6ddb4b18faa9a9a683e20eaea', '2018-04-26 09:49:09'),\n",
       " ('d52140bee663636aa4f6057e50bc06a3', '2018-03-01 20:30:22'),\n",
       " ('cfa4fa27b417971e86d8127cb688712f', '2018-08-16 09:44:23'),\n",
       " ('3ad68235680db3c8a491e0362402fd96', '2018-01-25 08:43:46'),\n",
       " ('df6e64a3be9ccea48c3bfe8e096e8749', '2017-08-16 08:00:13'),\n",
       " ('bcdbb3b243d4e882503b919785e2343f', '2018-05-21 13:16:36'),\n",
       " ('3acf8c12de0c5a31ce57671e97cb48a1', '2018-05-12 00:18:28'),\n",
       " ('112f6cd3047e7f158607233e26206398', '2018-01-03 16:29:52'),\n",
       " ('598cd40a798aa27cded050fe918ffbe7', '2017-08-31 09:31:20'),\n",
       " ('ac244956f757aeeb76242334254bf9a5', '2017-07-12 18:45:24'),\n",
       " ('4c460fdf49b517270b6258ba2d3c1ef9', '2018-06-14 18:37:58'),\n",
       " ('118045506e1c1dda060171af43fe11b4', '2018-03-08 19:06:05'),\n",
       " ('18bf036204cea32b152a8e2a2f2bab40', '2017-05-08 16:31:38'),\n",
       " ('ec07555943e04d757937a8bea3a75ed7', '2017-11-16 13:18:14'),\n",
       " ('825c221a4e981f278e9c5ec6ead83a3f', '2017-06-29 23:08:50'),\n",
       " ('371f13dd168ce30a881e0db8cf3929fb', '2017-08-26 10:26:53'),\n",
       " ('6699d7eb202a80ad0dd024134fe5ed60', '2018-01-15 00:14:21'),\n",
       " ('c046779e1ef14c11e325b9b9a46d610d', '2018-06-05 19:53:27'),\n",
       " ('4b81496f1e0fd587a7394ba1e1b8aebb', '2017-03-04 09:55:08'),\n",
       " ('b3e2b81932a8bc32dfffd128937c3c5e', '2017-07-04 23:29:52'),\n",
       " ('62fcfe5da58296dface200da2e196fcd', '2017-05-19 14:12:50'),\n",
       " ('ac71263052acddd3b2031b5937f8fc30', '2018-04-24 22:18:53'),\n",
       " ('9db49839ad325c2bf4303df727694be2', '2017-09-13 17:53:28'),\n",
       " ('390d4039e108e33c6a93031f5f3f9e0d', '2017-11-20 11:44:11'),\n",
       " ('f633c884a99eb63866600655356d973e', '2018-04-04 00:33:47'),\n",
       " ('b8bfafcbe46deea4900feeffb2d6afaf', '2018-01-19 18:07:37'),\n",
       " ('16e38caa92e342c7780f68832f832d4d', '2018-05-07 01:09:09'),\n",
       " ('c272bcd21c287498b4883c7512019702', '2018-01-31 11:31:37'),\n",
       " ('6d710101fb9f067dd5385ea1b6021946', '2018-05-31 10:16:12'),\n",
       " ('d5af7f6e2db2c527fe19decfc2d37a83', '2017-07-31 20:47:50'),\n",
       " ('49e19ca07e42bde08630a08e50ad980e', '2018-05-31 17:47:23'),\n",
       " ('ed3b269b4badaf0126050c9d4f7b854c', '2018-07-12 22:14:06'),\n",
       " ('6ac882284d5fcde113962e178ba0edbb', '2017-12-07 15:40:14'),\n",
       " ('5e0311cb517d342851ca3b346cd4c5ab', '2017-12-10 23:35:48'),\n",
       " ('4efb9f3d8ba57d35f9f884744e757265', '2017-07-24 16:14:28'),\n",
       " ('f4b76dbfe0f911217da5adaa458f5b5b', '2017-07-27 23:29:11'),\n",
       " ('3783e0b4f1ef0985e0d9aca4629f756b', '2018-04-19 19:34:08'),\n",
       " ('1b5bd1070a7857f30e0856e204f30f25', '2017-11-28 08:02:38'),\n",
       " ('4d315c56f2d8d8d27bf1a1365d41c923', '2018-06-28 10:28:34'),\n",
       " ('68a001baa8dbd45ba5096b470f57a498', '2017-10-16 18:26:48'),\n",
       " ('bb90b02637daa6d6ea968529eed50699', '2018-01-23 10:15:38'),\n",
       " ('186d50e82bb60fc547f3dbf7aa6f6f8a', '2018-08-19 11:28:11'),\n",
       " ('2042abeefae68e63a8aa30edd4b0eb48', '2018-05-26 23:52:17'),\n",
       " ('f9c8a2771f663e15460ae6ba93205354', '2017-09-21 22:33:55'),\n",
       " ('b2ce866408709e3ba155f339e97b8405', '2018-05-04 00:12:31'),\n",
       " ('2e1b28b55908e9904e59370fa0ecbb8e', '2017-12-20 14:00:18'),\n",
       " ('a98012aa8c697f2bcff9f8c2183e0f2b', '2018-05-13 22:50:32'),\n",
       " ('302e27012670f8e2db4418e6c619f54c', '2018-02-16 09:17:44'),\n",
       " ('f3d418a0887dbfd5bd41c788c87ac28b', '2017-12-10 16:46:22'),\n",
       " ('31b157fa9491800710e3feeb482ccee9', '2017-12-11 23:18:07'),\n",
       " ('315ab79b5d15b5e9304d729579d36a42', '2017-03-10 11:45:28'),\n",
       " ('9f2da077d2d1eb6e8abcacef8776e941', '2017-10-28 21:26:26'),\n",
       " ('b92fa055c4f004d4ae52eccce4efbe5f', '2018-02-22 14:54:45'),\n",
       " ('d396adb7e51ca1bcb4a84cb786fee813', '2017-07-03 16:42:42'),\n",
       " ('714fb133a6730ab81fa1d3c1b2007291', '2018-01-26 21:34:08'),\n",
       " ('f3381b1e6c37c70f2b3c9d211b166412', '2018-04-24 10:29:25'),\n",
       " ('b9afddbdcfadc9a87b41a83271c3e888', '2018-08-16 13:50:48'),\n",
       " ('bc024a50e4e6ff5212d0febb0f4b4a37', '2017-08-28 20:27:54'),\n",
       " ('4630b9ea86d473a936d6dd589cee8b22', '2018-06-27 16:11:38'),\n",
       " ('0e31f844aae10fe7dc2369bc0340bf21', '2017-10-17 17:02:32'),\n",
       " ('98cc17e56c367cbbe628aca0bbf9f08e', '2018-01-06 21:37:54'),\n",
       " ('21fc1ff2a7ed8b2ec6ff62ac18d7a1b7', '2018-02-15 11:58:49'),\n",
       " ('ea12bd9ee4b9a167ce287004482769e1', '2017-10-26 20:30:28'),\n",
       " ('7958d9e7f3083099780539e0054d0c54', '2018-03-03 17:11:33'),\n",
       " ('4cd9478b63edacb631dcf780b036b157', '2018-06-23 19:29:12'),\n",
       " ('ba863950726dd067d21b2262ab48df78', '2017-10-22 14:25:40'),\n",
       " ('9f035a4126d6f9cf43447e9b8eb6abae', '2017-09-20 11:35:09'),\n",
       " ('c514dba8d0ed614c6a397d2f0f3fe202', '2018-07-31 20:47:41'),\n",
       " ('b7ed5b357d48b6c8f588c5cf0d7ddf5d', '2018-03-10 23:24:50'),\n",
       " ('05ae7d6bd78e2a61f4c0076a9d690aa8', '2018-07-20 12:25:03'),\n",
       " ('d9a79759e192eeea9d5227b706bb6155', '2017-10-04 23:23:34'),\n",
       " ('1a08b06cb8b9b557453b70b83fdc69cb', '2018-01-21 16:46:04'),\n",
       " ('c3716204ec5bc2bc5593bee858279148', '2018-07-31 21:51:41'),\n",
       " ('f86b24a45dc34d1b7fcdeb817bf503da', '2017-03-06 21:15:37'),\n",
       " ('bac5dc94cc5dbf0810f1919c2aac13cd', '2017-07-08 17:35:03'),\n",
       " ('01835ef41c5ac66dd9ec6084fa1d0533', '2017-05-11 21:36:10'),\n",
       " ('26e7beff0239dc6ed3a8f2bb5972911c', '2018-01-22 15:24:44'),\n",
       " ('e995d128a5a5bd59d704a736c4a75fd5', '2018-03-10 20:39:19'),\n",
       " ('d92d62eadcca8fd6509c4d0afad5b2c2', '2018-08-07 14:12:05'),\n",
       " ('22bd668810988f93e2c335459e72a312', '2017-12-27 20:24:42'),\n",
       " ('9a886ac42ca6eb5571fbdd1bdd8be02e', '2017-04-15 23:53:50'),\n",
       " ('0ab63e307694f40a88a0ecd358c0939d', '2018-04-15 22:11:11'),\n",
       " ('f8ebe0a43498e8d689afbbfec4b3eaba', '2017-09-11 15:39:11'),\n",
       " ('d2741de337666d1bb01913f415e6643f', '2017-02-25 14:34:40'),\n",
       " ('f29d0fd6d4e6d5ce550e0b2f9335116c', '2018-05-17 16:34:49'),\n",
       " ('d30680568af2e9f0aeba3420292df26d', '2017-09-16 09:20:26'),\n",
       " ('2d8f8f85abccae68275f423d878f2b7e', '2018-02-27 08:31:17'),\n",
       " ('cfd355e6233b9854f7decc72472f9c3e', '2017-03-24 15:50:46'),\n",
       " ('fc66798245e4d173bcc7eb36eb72a278', '2018-06-15 20:16:34'),\n",
       " ('1a7ee01992a69255a005e9db8a96d898', '2017-05-31 20:57:49'),\n",
       " ('6ffdb56df83717770ba1d34001f4686a', '2018-07-13 19:38:58'),\n",
       " ('d0d828105d7a6106d4b6cfd55607c278', '2018-04-30 11:18:47'),\n",
       " ('d0d85933667e8a90939ca37947942b62', '2017-03-08 19:55:23'),\n",
       " ('41de3b8bbb80e2cc80c8d446a752d2fb', '2018-05-06 19:45:32'),\n",
       " ('be82da060fda4b85c7fe6ea6512f67e8', '2017-05-02 16:35:06'),\n",
       " ('14676aebeb151a1fa4f20e8fc3544621', '2018-02-17 16:39:44'),\n",
       " ('2f4545bda1b1c794a9a35a3fbe4257ba', '2018-05-16 13:47:51'),\n",
       " ('e6c3435aca88a50c893f06b6b13e9242', '2017-06-19 18:00:01'),\n",
       " ('5f69f6bf68dce110479aa0bb515b47c8', '2017-11-26 11:20:27'),\n",
       " ('cafc9b2f7d35ec42bdb74347cc6e8a70', '2018-01-19 00:48:30'),\n",
       " ('2978901accabf6eef42711d8133a62f1', '2017-11-23 14:31:36'),\n",
       " ('fb4c699559386e0b6b970181177d99bd', '2018-04-16 14:21:02'),\n",
       " ('a2ea081c06c12c25c068089e4985745a', '2018-05-05 09:22:24'),\n",
       " ('7fd4d653725c9338a9c3eae892dbf616', '2018-03-06 14:21:57'),\n",
       " ('0bb0dd89956cc5f44ff556c2189e7160', '2017-06-20 13:08:17'),\n",
       " ('e2676f5f513bf595fcbd506999db7c26', '2017-08-02 15:36:19'),\n",
       " ('3c9a3ff1e41cb58bb8a24ae6f6eea080', '2018-04-28 22:02:50'),\n",
       " ('a4b79dbc2ad1b141dcc00a17f2450a11', '2017-10-12 20:26:33'),\n",
       " ('376a342d70faa7a733b871acc701def8', '2017-12-11 11:50:54'),\n",
       " ('acbe07f22f29ad7e5a78f30008cc6ec7', '2017-11-18 14:33:04'),\n",
       " ('07fbc4f433fc8754c492bc6dfb0b1c52', '2017-07-05 08:49:56'),\n",
       " ('16cb3a72f04e248a1244b076ce0d9bb7', '2018-05-23 14:21:17'),\n",
       " ('6f36c999f8ef8d1a3a999079a5b637aa', '2017-12-16 15:29:46'),\n",
       " ('cc66dee6fbc18bb79903c3a2cc14ff52', '2018-04-12 14:37:29'),\n",
       " ('f15ee2f37da0500e278ec213c201edf3', '2018-07-27 11:58:46'),\n",
       " ('14d68c5b215a31950340dc9cb3f73efe', '2018-01-28 11:47:10'),\n",
       " ('b6a50dc1cfeb4ad7219d3577ab9a2454', '2017-08-31 07:27:54'),\n",
       " ('446e20f85f1b9cf552376d6f31c983b2', '2018-02-23 13:12:12'),\n",
       " ('6ccac061be472c84db514aca9acd26e0', '2017-12-11 07:50:11'),\n",
       " ('4a5cc9b4e332e03d76bf553a7f2fa5d3', '2017-12-15 23:33:32'),\n",
       " ('555e4d40fb6beea866d46eb6a5a01b41', '2017-09-17 18:52:44'),\n",
       " ('191a0013ee3ec32e27da5f85cf028081', '2018-03-31 11:48:59'),\n",
       " ('1b00c4d80c81cdbc36487c96c6e92f07', '2017-05-14 09:36:36'),\n",
       " ('eb1873ec4d6a2af1c0626a7d08bd9c09', '2018-05-10 17:48:41'),\n",
       " ('38971812f1db9e4a30885e5574dcbe53', '2018-06-24 13:38:07'),\n",
       " ('ee3fad68d0f56d60e91a2363ec879e44', '2018-07-25 07:39:35'),\n",
       " ('cf771efcb04c578f9d3619f2632d8333', '2018-02-12 17:33:54'),\n",
       " ('d3c64cf55752f7821e85e7ea9b9b3f30', '2017-05-06 11:20:18'),\n",
       " ('37553832a3a89c9b2db59701c357ca67', '2017-08-14 17:38:02'),\n",
       " ('3d34d8e3ea34d73617a75deea86ced48', '2017-11-30 11:05:02'),\n",
       " ('de81104d0d1d1a5d4dd09e89a7ea4cd1', '2017-02-10 16:37:55'),\n",
       " ('2d9ea2efa410b1efd6bbd47d126819b6', '2018-02-19 00:38:22'),\n",
       " ('9f2ff91a3b8c4c34b7847c9c68971cfd', '2018-08-24 09:55:31'),\n",
       " ('498a0b00b1c51a95e61baebf6379d76b', '2018-07-20 11:28:33'),\n",
       " ('db115077a7bd949a515922eb40aea6c3', '2018-07-23 11:30:12'),\n",
       " ('794f771a39b24c7c47aa9eb198f066ed', '2017-11-26 13:24:33'),\n",
       " ('75d4b0b71e66d09b6070bd54c61e20fd', '2017-11-19 20:06:12'),\n",
       " ('2cb414479754a8e1ed07eed0ccfc0778', '2018-06-03 09:59:42'),\n",
       " ('b5e23127e5bc161906c1d23be69f7e16', '2017-11-13 16:23:17'),\n",
       " ('afe207b8795179c5b29bc4c2f0052178', '2017-11-30 15:27:05'),\n",
       " ('ac2b7c522d811acba0aa270ed3e112e4', '2016-10-05 15:08:00'),\n",
       " ('1b99333d39cf95f48be3864b2e1e88b3', '2017-05-23 20:19:03'),\n",
       " ('633dfa0c56ae5c0c7f2e90620ad55b2f', '2018-06-22 13:43:19'),\n",
       " ('8a0b2bc5c7a1c524635f4de8bae9dffe', '2017-11-23 22:27:55'),\n",
       " ('fa4c0ad484374bf0485f99f6a57255a5', '2018-01-26 18:30:17'),\n",
       " ('54bc2449fbe0368b74470e4280fe494e', '2018-04-24 13:35:49'),\n",
       " ('1f7ef4e37ca10d4ed60f43c7cf81e181', '2017-12-15 21:32:23'),\n",
       " ('d5211af24819d319c02a285e7bb51750', '2018-08-03 16:29:05'),\n",
       " ('db6a3a98e587a2b75215bf8f467d43ec', '2017-12-01 21:39:03'),\n",
       " ('477ee3f21cb7374ecfa12433c30f53f5', '2018-06-21 10:46:55'),\n",
       " ('15d086bbbae9b9e4b50c916c919479ed', '2018-07-22 23:18:54'),\n",
       " ('0daf1f0e67b534ad873ba61c5d6ad7d3', '2017-09-05 10:54:17'),\n",
       " ('234c056c50619f48da64f731c48242b4', '2018-08-14 14:49:15'),\n",
       " ('62a56f9bfe98de42bcdbe6cc57284dfb', '2018-08-08 01:23:58'),\n",
       " ('a11ebb9e9f1a018eea99fe7105f2d897', '2018-07-18 18:42:47'),\n",
       " ('bb2dfe6031f35f7abc9a3c7dad5e4467', '2017-01-22 14:09:03'),\n",
       " ('4dcc01481b7ab4f5f37c8eb4c4c67841', '2018-04-08 13:20:21'),\n",
       " ('662823ed689412b9a2e5085620e06070', '2018-03-15 15:57:24'),\n",
       " ('4380bb6c7d8375926bbea2c8b514dc8c', '2018-01-29 21:09:10'),\n",
       " ('169f6274660e528484fd239aa7d27097', '2017-06-27 17:58:14'),\n",
       " ('bfafa269a969ef03e5db5dc7d7a72471', '2018-05-02 22:17:41'),\n",
       " ('a4163ebff79ff34a631c57d5350215ae', '2018-03-30 20:27:16'),\n",
       " ('7b2f3756c235e93b2ad6330c54805401', '2018-03-12 16:54:01'),\n",
       " ('a890088df39d4c062a07081527034784', '2018-02-21 18:47:50'),\n",
       " ('476984a30a6929077bedabbefc98ce38', '2018-06-20 16:44:28'),\n",
       " ('48b7d84507eb52608a007fde9d641daa', '2018-05-07 15:38:06'),\n",
       " ('d0e9849de800fdb4cb3b5e6d42c6b367', '2017-08-31 11:38:18'),\n",
       " ('7d1ac7d65c6b5d59a9ac241fa41da57d', '2017-06-16 23:17:41'),\n",
       " ('4dadcd5f9e682c17fdc6dded70c048e0', '2017-05-07 13:53:39'),\n",
       " ('8ad3f1d0f96992e43566c4c82c9f6c58', '2018-07-17 21:25:29'),\n",
       " ('cdbe906438125d1d5bf88bb289f8ed61', '2018-08-02 12:25:18'),\n",
       " ('1107e64e1795b6cf551a7044612e8bd8', '2017-02-26 17:33:51'),\n",
       " ('e9280658289b5c5215dcc3b7183c0541', '2017-10-24 09:13:05'),\n",
       " ('ca290a06ee0945b956f79c93b5191633', '2018-04-09 22:02:30'),\n",
       " ('50fe82ce977520094518dd8618d7331a', '2018-05-24 18:32:11'),\n",
       " ('443a73a22cd4e0078a47c275b358b786', '2018-05-16 12:22:12'),\n",
       " ('d3ca7b82c922817b06e5ca21165c5ea2', '2017-11-16 13:54:08'),\n",
       " ('962debbd5f682617761de8b0f7789bc5', '2017-06-05 08:45:30'),\n",
       " ('d57e15fb07fd180f06ab3926b39edcd2', '2018-01-08 19:39:03'),\n",
       " ('d8e2d2a26010eb732a91d8b6952e2c9e', '2018-01-11 12:20:07'),\n",
       " ('f6f6a68d78c7dd4b319f6df3c846094b', '2018-04-13 12:10:45'),\n",
       " ('9d047c83463a30fcc3f2b361d9a33d2f', '2018-04-06 19:17:22'),\n",
       " ('6a6c7d523fd59eb5bbefc007331af717', '2017-11-24 20:09:33'),\n",
       " ('0d5cbb8e4c1c7a7fc26899126197a6b9', '2018-06-27 11:57:05'),\n",
       " ('c1f0e475378c6500b5907a2134bda1da', '2017-10-18 15:53:45'),\n",
       " ('80d36d94a5ac668fd0479b5e848207c9', '2017-11-16 17:01:14'),\n",
       " ('e91398c99556f8519e116e6ca4f774e1', '2018-03-21 15:30:57'),\n",
       " ('7d219bd2feeb13ad311a00db33c06a3c', '2017-05-25 13:50:11'),\n",
       " ('c9c52a849ead8fc8b85d828ae740ec78', '2017-11-28 00:34:46'),\n",
       " ('76a1ee4ee17ea3b77f3c483c0a73e9c1', '2017-08-05 14:39:14'),\n",
       " ('3ec275bc012162de739c7ab6dcf11677', '2017-08-20 11:07:39'),\n",
       " ('3c333445207b077f35c9e81a7e7c7273', '2018-07-13 13:42:50'),\n",
       " ('682fba8f9ac0c164d162ff702d6bcc23', '2017-12-05 15:24:25'),\n",
       " ('e897d96adf4da16805cd6faf2913ce48', '2017-05-06 12:28:42'),\n",
       " ('1a4cc55b483d875e3b8bbd64a1b31bba', '2018-04-12 14:05:08'),\n",
       " ('58b198357d2b68044f885a370a585ff3', '2017-04-15 22:00:21'),\n",
       " ('4190ab61a7fced69f3ee84d1da1120cc', '2017-12-08 11:38:00'),\n",
       " ('0d13e311818a800d01cd46fb35dd3c27', '2017-03-29 23:16:20'),\n",
       " ('a06c43ed81f5c604287461f4d21949ce', '2017-10-24 17:39:10'),\n",
       " ('f3c916d220c67cd493a09b5bb17bfc23', '2018-03-23 16:39:38'),\n",
       " ('ccd7d6d23c5d29de6367dd5332aab16d', '2017-06-05 11:44:22'),\n",
       " ('919a615149354b4e074eff65adaeae81', '2017-12-28 18:40:56'),\n",
       " ('49e76d6a1b1f9ff4d04f85b2304ad378', '2018-01-26 15:52:15'),\n",
       " ('ed24759a0ae96582e88fdca0c0997d22', '2018-03-24 11:58:06'),\n",
       " ('27a78fdbe7b915a0596af3a5803a41cb', '2018-05-14 16:18:26'),\n",
       " ('d118d545516947d2d82fda28e9d631af', '2017-08-02 13:18:30'),\n",
       " ('f343624eab419250ad81f1ce6be22c93', '2017-03-07 11:47:20'),\n",
       " ('1d5b194c01e762aa59a47ae8dca7199f', '2017-06-10 18:02:25'),\n",
       " ('f98ae4bbfd1a32ea2104c8cf1f64dabf', '2018-02-25 18:53:53'),\n",
       " ('7209ce21354cff1e1957b42ea0a76cd1', '2018-01-11 22:59:49'),\n",
       " ('0132451f29a10b66a5cf1bacc85f9afe', '2017-11-08 17:08:56'),\n",
       " ('f9f15e02ed74cf8a21b8266a55498942', '2017-10-12 21:46:31'),\n",
       " ('d445a6e277eaa62900bc18d453d96d76', '2017-08-03 10:39:39'),\n",
       " ('e55e8c9f6f33a8562db1430444f22092', '2018-06-13 11:29:48'),\n",
       " ('bd5c9d506fee7419ee3c669d0123a067', '2017-03-25 23:51:57'),\n",
       " ('1f69e4870ffb8313df2fef3df0af2718', '2018-03-06 17:12:14'),\n",
       " ('a236ae70310b60403c3adac81f96d5e6', '2018-07-16 23:40:37'),\n",
       " ('673426deedf113369fd0f139e97ed084', '2017-07-10 20:58:17'),\n",
       " ('64ea4c51ad1203229ba011693f35da54', '2018-01-29 13:09:31'),\n",
       " ('fbbd2907c49e21c3c105257b12772380', '2017-10-22 16:11:06'),\n",
       " ('47cdb12caf2067098633bc9a0d3679f7', '2018-06-24 11:32:26'),\n",
       " ('aa2e81559d88cca16ac122e7627078c8', '2017-03-27 14:04:58'),\n",
       " ('c0e6116a3c6c2d732ec1b43bb7b5f307', '2017-10-27 19:00:02'),\n",
       " ('fe91d55ea129eb6d5a2d5fc82bcacbd0', '2018-07-16 08:52:35'),\n",
       " ('a33e52fbf9a20b226a588f30d9aab612', '2018-01-11 18:37:55'),\n",
       " ('fdbd371c335ecb94ccb8a65c37d8ebba', '2017-12-25 20:14:34'),\n",
       " ('c788aeedf593229d4ee84e790c2e5483', '2017-03-05 22:44:58'),\n",
       " ('c4d5588c1ee36814fc302422334e67f5', '2017-12-17 11:25:52'),\n",
       " ('dd6d0f11a9c3d2abdc91e95b9598b332', '2018-01-11 21:42:30'),\n",
       " ('61e7365ad2e2ce5a3dbf650586623b7f', '2018-08-14 16:20:40'),\n",
       " ('18905a8655f8255bf50d2eeadce2641e', '2018-01-25 23:32:16'),\n",
       " ('4ef04edb491b8cc23eabe782ced6715c', '2018-01-19 09:51:37'),\n",
       " ('af500adf58ab55b8bdd27be8cf81aeba', '2018-05-21 12:21:48'),\n",
       " ('ca0400dec2c292340c373e63b1c2c597', '2017-11-28 10:27:09'),\n",
       " ('965c963c874eedc47cd261cbe057121b', '2018-06-16 19:48:05'),\n",
       " ('305b0101ce8f8fd2d7b32f7480340018', '2017-04-30 18:34:22'),\n",
       " ('c5d58ec8e7e7184d9a9d42b75ffa002d', '2017-02-12 12:30:04'),\n",
       " ('911fba382ab724c847ae5577e47949d4', '2018-02-27 10:31:04'),\n",
       " ('ee43d4bf4491386fa4837c502b9c3f4e', '2017-03-07 06:35:43'),\n",
       " ('06bafdd8b6d0b5befb44337a7674a1ec', '2018-02-10 11:48:42'),\n",
       " ('492bed007520827cbed51959e4ce4385', '2018-05-28 12:53:12'),\n",
       " ('df82ea7ca7f0f799161e0fd92c3ab96a', '2018-05-14 11:28:58'),\n",
       " ('bd3f8b3f4ff1469c0709218f7fde9fe8', '2017-11-13 11:16:06'),\n",
       " ('b23b43e19386862a7c0aaa27c80e782f', '2018-04-12 09:52:07'),\n",
       " ('5f674c43ef69fe052df34f1519f7bc12', '2017-10-25 18:57:29'),\n",
       " ('d965c84427fa1d6daad237adfbf75554', '2017-11-17 13:00:10'),\n",
       " ('7d7b903bbd7d3b762ad60115c30185f2', '2017-08-14 21:13:44'),\n",
       " ('0197cb265e2c84b9f89dfd784095d2f6', '2017-12-21 20:55:24'),\n",
       " ('103355b1bc5b63508c20e2b7eeb58961', '2017-03-01 18:29:06'),\n",
       " ('6be749c0e984143242faa174d084889f', '2018-08-10 08:35:14'),\n",
       " ('d2b9580c38485b5aa4eb815c689c3164', '2017-07-19 16:45:17'),\n",
       " ('90855e99e15fa22aff68cdb4323b27c9', '2018-07-18 21:37:46'),\n",
       " ('f3c95cc4d7074e5b709ac1a9c10dea1c', '2017-01-22 16:10:09'),\n",
       " ('802ee584365ed44c00f4207fb17ae67b', '2018-07-23 10:11:13'),\n",
       " ('75d1b089800a77f3c4b653e297632423', '2018-08-14 11:16:44'),\n",
       " ('c761a8b74f1e876bc5efc4186f720e27', '2017-04-03 19:07:32'),\n",
       " ('6d60cc495dfb5a5851f56f188c4e4059', '2017-04-20 21:03:10'),\n",
       " ('746347ecc5cc9cb88a346545608fb635', '2017-07-26 13:47:20'),\n",
       " ('6051e6d3da9a50b7325cbe9c81025062', '2018-07-03 23:40:16'),\n",
       " ('f9ca536e1ef897f153c183d72ba141bb', '2018-04-05 18:34:49'),\n",
       " ('99fe1f54d97630a40c549779ea00e8c9', '2017-05-16 21:30:59'),\n",
       " ('03f83b59e7c7355647462745b18119f1', '2017-07-14 16:49:26'),\n",
       " ('88c588c116fd06fb8e48dd83af88ec4a', '2017-11-19 13:23:27'),\n",
       " ('cf1bc456a0d5c63bb6c94d3b8b2c56e7', '2017-09-06 10:15:27'),\n",
       " ('4f38a875c972c4803a792f62b999b4cd', '2018-05-28 10:31:05'),\n",
       " ('3bbbeac55063ea854a8b5d32a2cbf8b0', '2018-06-09 18:56:00'),\n",
       " ('1d767ef13195f2cb3337b6b077e1f752', '2018-07-23 14:56:35'),\n",
       " ('46f3c70ec2c3e58a0c126aeb5d10d9b9', '2017-09-11 19:42:40'),\n",
       " ('7ab9c55c59eaeea579d047e2d8aaed81', '2017-01-22 13:04:20'),\n",
       " ('20a6605d8265ca357d15eaf4f6710f63', '2017-05-14 14:56:41'),\n",
       " ('8e96f3e6633f7601ec50f3a904c3a3a2', '2017-08-28 18:43:50'),\n",
       " ('d8917c684fbf577ca5d76423b29f29da', '2018-06-30 19:46:13'),\n",
       " ('6a3cdd7762dfe7bfa407496303097855', '2018-03-17 12:39:10'),\n",
       " ('f312113915f8f85b447cbbb41a3bda73', '2017-08-10 13:51:49'),\n",
       " ('95d9d2979d40161be87292ff88563cba', '2018-06-07 23:42:37'),\n",
       " ('263ba12390d0fbce329dd16da8cd20f8', '2018-06-20 09:46:53'),\n",
       " ('a9b151f0c0471d9b2534fa73c9c0e123', '2017-03-09 16:18:47'),\n",
       " ('ddb0d201c7d2c8ce0e966d98128d16e9', '2017-10-01 10:11:40'),\n",
       " ('1446390485bfa8ea593dbd273d725218', '2018-01-10 13:58:09'),\n",
       " ('eea0eb694d4eb8ffa2ed9279f4c348e5', '2018-03-08 16:00:56'),\n",
       " ('b323a1bf3949211f3d9fbc43772534e6', '2018-05-07 10:59:47'),\n",
       " ('93483f560d46ab6fb3fbf571c59d78dd', '2017-12-17 22:49:34'),\n",
       " ('f644267f332fbcb9fe143fbb7478441c', '2017-11-24 22:21:21'),\n",
       " ('351126ee473c51592cb591efea295181', '2018-06-28 22:11:43'),\n",
       " ('3d4359c9a8031f632995e7923608dd4d', '2018-07-27 15:25:51'),\n",
       " ('6c12feac9a308e1382d9b19cca7f20b2', '2017-05-05 13:48:37'),\n",
       " ('cc06813c8d9909633f390ed9b5df999f', '2018-04-14 18:31:02'),\n",
       " ('9a40a61b2f04271f655c7423a3fb82a7', '2018-03-27 15:55:38'),\n",
       " ('14986dd5b5dc6b4203bda6666311e4d0', '2018-08-25 22:17:18'),\n",
       " ('338d39656f66d84fdf7b2d9b578121bf', '2017-06-17 16:54:26'),\n",
       " ('a027919471097ed720c04340e1495e1c', '2017-11-24 21:04:41'),\n",
       " ('db2351cb5d7dbd5c45ac607d32f2cb9b', '2018-01-25 11:11:12'),\n",
       " ('a678d97aa95d0393384c211a82455e50', '2017-06-06 00:11:09'),\n",
       " ('7ce20b22753ccc86fdb3b6f7efefcc75', '2018-07-25 13:25:20'),\n",
       " ('f083654dfd0f9ad9ae0356bf7c68f246', '2017-07-23 17:53:00'),\n",
       " ('53239db74c7835641f106ef90b3d0100', '2017-07-11 17:46:45'),\n",
       " ('7297f6bfea2a33ef176cff30f467aa41', '2018-04-16 13:44:10'),\n",
       " ('9855054362f487c4f25172bd0b8a44cf', '2018-08-15 16:30:22'),\n",
       " ('95bf775f5db872acb7ac9cf5cdbbc292', '2018-07-16 11:56:49'),\n",
       " ('563404de47cdc6763e7eced487016b66', '2018-01-02 17:46:40'),\n",
       " ('bcdbca456c84595f3dadfbef9eeeaf51', '2017-04-03 22:19:08'),\n",
       " ('2ba4074f243f2ec78961779a7c89b1c3', '2017-06-24 17:11:53'),\n",
       " ('b2908d9328eb32bdb9b7ac1e197c05fe', '2017-10-27 12:07:08'),\n",
       " ('a69bb719ee2c8b4a25bf1a1a5f3ae686', '2018-06-13 09:46:14'),\n",
       " ('02610d88ac343ed64988d2706ce3ebfd', '2018-02-04 19:34:05'),\n",
       " ('00bdcdda88e6b02977fc6ce3d412c600', '2018-06-12 09:51:55'),\n",
       " ('b5ae10bf67afb6e14718789096f22787', '2018-08-12 19:28:01'),\n",
       " ('f7fd9088963ee4f442fd642219d80fb5', '2018-04-23 10:50:18'),\n",
       " ('bb2e64c3040ceb9b7ca2bfc602adca08', '2017-11-03 11:29:00'),\n",
       " ('39e9813f11fbc948f71cfaf189976662', '2017-04-24 09:37:26'),\n",
       " ('895e066de0072faddf0044db8e490353', '2018-04-03 15:03:21'),\n",
       " ('3dddd02cc38fbaa0a544a1e928aee40e', '2018-05-17 16:46:58'),\n",
       " ('96f182413ae321e91ee91f3e422c6416', '2017-03-15 15:54:53'),\n",
       " ('eba18dfa91e31cf748f9f52b779f9ae8', '2017-11-14 08:13:32'),\n",
       " ('5f071a8534fb6805fa6ec902f04219e4', '2018-08-20 20:28:26'),\n",
       " ('a41753c6a1d8accb89732e36243432d7', '2017-05-12 10:51:43'),\n",
       " ('d0a72f8bcc1f2045167eaa548647e77c', '2018-07-03 10:03:33'),\n",
       " ('1ac605c3c8e2ee53279c7b0bd52c6aec', '2018-03-08 09:26:27'),\n",
       " ('a17fec30c4ce5a766edee3f4c7701c0f', '2017-03-25 19:13:03'),\n",
       " ('0917636d789ce3b3eac37895935af5c2', '2017-11-24 22:09:42'),\n",
       " ('9c1becadc6a0c6445eb02167b8d1bbff', '2017-09-08 10:57:39'),\n",
       " ('675bc8cd15e6b9225582b9161288670f', '2018-08-25 23:32:01'),\n",
       " ('9dc9f2ae74e006656a3312dd31e76b5f', '2018-02-18 00:10:50'),\n",
       " ('cfb361b2049fa0ddeb6ca3959fa0767d', '2018-08-20 23:06:39'),\n",
       " ('9370fc845feb5045400765a17c075cae', '2018-02-07 08:04:29'),\n",
       " ('b26eb89dfb4e2d970274ef0c668fd43a', '2018-03-17 19:59:25'),\n",
       " ('61898b3ad4d51459e014bc6d4c2e7166', '2018-06-10 15:44:20'),\n",
       " ('f76b895a9902ad634abed7eec3211a10', '2018-05-10 11:04:45'),\n",
       " ('b9f23a5c0cbae81d8a326804b0c7513d', '2018-02-19 19:18:16'),\n",
       " ('0ae7144116fa718b3bb90cd8d855713a', '2017-04-18 16:00:31'),\n",
       " ('84398110dbaecfbc9ef3dc592c6b189b', '2017-04-12 02:16:32'),\n",
       " ('c09652e16426e2ecbb85f2617192904a', '2017-10-29 23:44:13'),\n",
       " ('6f209510f34ce1a8c89d11273039981d', '2018-05-12 09:58:38'),\n",
       " ('16e62e9da7d33d61b6f26ccf68bc962c', '2018-02-21 13:48:55'),\n",
       " ('80b0f4fc350532f6e0ce9aa81ccde91c', '2018-03-01 16:51:27'),\n",
       " ('0b50bea7ba1e8ba7a21b01b7c9d1350b', '2017-10-25 10:03:39'),\n",
       " ('8ac7bcd85522aa82e2d89d27ea9cb818', '2018-03-23 20:57:50'),\n",
       " ('6a4b06a2b62d1f2c69cf1f7a4eae074a', '2018-04-13 21:18:46'),\n",
       " ('6abaa1126b7b6ae01eb168ec3da96dac', '2018-06-16 19:42:55'),\n",
       " ('f2e97c3464ad5fb53d6be7afcd0e3eaa', '2017-07-29 12:18:53'),\n",
       " ('045c9852284420b9c02d156436e1481c', '2018-05-16 16:38:10'),\n",
       " ('3bb580c88504df63102b61f70164fb75', '2017-09-14 19:12:49'),\n",
       " ('1c5998a66da200447c5cbb528969a95a', '2018-01-17 07:22:36'),\n",
       " ('4edca0186e467f58fe99ab648f604ce8', '2018-03-14 15:55:57'),\n",
       " ('714e2644ab665027234ed7a6b3e82274', '2017-08-11 08:41:43'),\n",
       " ('d16d35b47ec2d842e3846a4c7f4586d0', '2017-04-04 13:15:05'),\n",
       " ('54912035e047f9834df97cdfef0d2768', '2018-05-13 19:57:13'),\n",
       " ('9e5e54c4be8f6625005c76b7f8801ee8', '2017-03-31 11:30:55'),\n",
       " ('c7172e1a6b8de65fbc6e9e77afda672d', '2018-02-01 17:15:54'),\n",
       " ('56472b840118d1bfb244c6cb42581ae6', '2018-04-20 12:53:58'),\n",
       " ('fd180ff2363b236f823a4fa8a2a729f1', '2017-05-18 09:34:58'),\n",
       " ('7c3e6d9d783f5fb5927a500abf1cfbaf', '2018-08-22 01:35:54'),\n",
       " ('44fdca9e41cfd8248c3ac1e369447eff', '2018-07-02 14:20:11'),\n",
       " ('90e4c72e836cb3e0bea6a31fd981a346', '2017-08-24 19:35:00'),\n",
       " ('c6174e20db037528301ee8eaf325a469', '2017-11-07 09:23:40'),\n",
       " ('eb366fe32c33e3b4037e9c3290b3ecec', '2017-11-20 16:35:55'),\n",
       " ('8dbdb81783a3c754dc9441826510a36a', '2018-08-10 14:54:25'),\n",
       " ('8b37f436aea079bd73bbcbe103d14a0b', '2018-01-24 20:07:10'),\n",
       " ('5713bef560364e39ec1630ff62449492', '2018-02-16 20:16:34'),\n",
       " ('5a88502f6bbc1f8c972aa98c64830616', '2018-01-31 21:04:47'),\n",
       " ('5d7f0dc1e401127edfe8b79e174a52c8', '2017-10-13 10:15:28'),\n",
       " ('97d3d89c5b932c10e6d3d4d8c2ba7dd3', '2017-11-24 15:54:35'),\n",
       " ('06ad94997dd34a7c2186b82d8e9be6a5', '2017-06-15 16:02:23'),\n",
       " ('99fa6518deac14b2890b49d1645d64be', '2017-12-01 09:21:49'),\n",
       " ('efe9bd98be3cb5cb5c87e7ca27abe613', '2018-01-21 13:28:36'),\n",
       " ('83d47a55a238c75386e31ef70f5d8b45', '2018-02-01 14:44:21'),\n",
       " ('cd81fccdeffb11e33de701e2c53c85c6', '2018-04-26 22:47:26'),\n",
       " ('7ebe19943d85e81a7b0eb108681276b7', '2018-07-22 10:28:14'),\n",
       " ('2b0ff3c2ec4265091bba2e1e5d9aa762', '2017-05-14 19:00:05'),\n",
       " ('114e12eca60507f3e3153182f258684d', '2017-08-15 11:14:25'),\n",
       " ('db0b67b642c6fdc947608f6b2108f802', '2018-01-28 15:50:29'),\n",
       " ('1133f2dfc033ba92bf6c470b20f6f332', '2018-05-21 13:31:41'),\n",
       " ('275950acf4956dfc3d23514eb61f1d9b', '2018-02-14 16:38:58'),\n",
       " ('f5218a2401f92542f87b1de5bc3f92ff', '2018-03-02 11:04:18'),\n",
       " ('e311f8fc30348d6213964a43f70f87fb', '2018-04-17 16:54:48'),\n",
       " ('747996a66f5aa711deb8ae58f5ae46a0', '2017-01-05 15:25:10'),\n",
       " ('f396e1280028fa9c8c83111abee5f2e9', '2018-07-13 20:58:24'),\n",
       " ('08763574782690116475ea62ffdecadb', '2017-11-28 07:50:35'),\n",
       " ('87afd3fd1ec1b984a228c772b5dd2a4c', '2018-06-06 21:48:46'),\n",
       " ('2d816b6a11ddd3843f307d1333321091', '2017-08-22 18:53:15'),\n",
       " ('0f02ea56e4c9e7d30adb19a0c3e07b02', '2018-02-28 23:42:55'),\n",
       " ('97fdf3115437c18e71138bdaa80ec60b', '2017-07-26 11:29:35'),\n",
       " ('bceafe41324f7de517b199a7b4e2a074', '2017-08-06 23:40:08'),\n",
       " ('86e6162676905a8c6ad0bcbd7df8debe', '2017-07-16 09:15:31'),\n",
       " ('91d7491c6b0eada151a7e307697841bc', '2018-08-17 07:59:51'),\n",
       " ('dd480c63548e3c0b7219520e3784ebd2', '2017-01-26 16:25:36'),\n",
       " ('8cd615f11b504c1ea4ea2d07e7ac2930', '2018-03-16 13:57:53'),\n",
       " ('a2fc0d6559cd85b95e1a02c8d97d55ec', '2018-04-18 09:55:14'),\n",
       " ('a1ba9164e568e28f6977c343fb78e9b1', '2018-03-11 22:14:38'),\n",
       " ('09bb35a3939c3181b4a5619cb3918976', '2017-11-26 03:42:06'),\n",
       " ('760312f5735ee281f01e56d5ddee05e3', '2018-06-11 15:32:06'),\n",
       " ('eb7aac057d7c17adb860b770451ae250', '2017-02-02 23:24:24'),\n",
       " ('b9383cd99539eb0ccb11ab1a62bd0621', '2018-08-02 20:38:59'),\n",
       " ('92a9ef7f0a0d392c9ad0d5f44e86b4ba', '2018-03-25 16:43:56'),\n",
       " ('dcc3610bd6745b8ec0d84354631fbd3d', '2018-07-22 20:04:02'),\n",
       " ('939e85580cc5404abd2ba9df25330fb8', '2017-07-10 18:12:09'),\n",
       " ('d8a7be3bdd16ebaf4601bc8252f54a08', '2018-08-14 01:13:48'),\n",
       " ('a062c240bb299fa3f0ce55cf05ec8390', '2018-07-13 19:00:27'),\n",
       " ('59a0b1e1b934789d033dfb98797d9d34', '2017-07-20 23:51:43'),\n",
       " ('af42887f85d980291a066176c4d13709', '2017-06-18 19:51:54'),\n",
       " ('0adf4c5c9a1399ceefdb7ba880df1ca7', '2017-02-22 13:22:13'),\n",
       " ('7e3f9f89f31e57c84fe4ef9a5bb9bc1e', '2017-08-26 12:43:02'),\n",
       " ('32931b358e8eb9042cf278a4e233321f', '2017-07-02 19:37:07'),\n",
       " ('83ea47ad24b5fce57aa5ade0fd069c94', '2017-09-26 01:25:02'),\n",
       " ('1f3fcd02b6ab99b6b499dcd412076175', '2017-07-17 13:51:31'),\n",
       " ('1cbcc355e275e5143ab1dbf260ca14f1', '2017-03-12 19:04:41'),\n",
       " ('28b2d19e3d604381f30089a68a4e0831', '2018-04-29 14:31:40'),\n",
       " ('568b0f8bb1f7efe803f006abfd707e5e', '2018-02-26 11:06:56'),\n",
       " ('ee038389c9f437f7c0e2d1b105a26038', '2017-07-02 12:03:31'),\n",
       " ('5711d8a02451fd508dc8911ee1fb4ac9', '2017-10-27 16:44:14'),\n",
       " ('9b2fa9acfe395734a133a58bcbfb9776', '2018-04-25 01:03:27'),\n",
       " ('7535955a5fee70328e9fe079653e03f1', '2017-04-30 14:48:53'),\n",
       " ('54d591a90dbfa19ae578252a9b5a2720', '2018-05-30 17:38:11'),\n",
       " ('06875ab72c5b9bb2eb303a70031bfeb0', '2018-01-11 20:04:57'),\n",
       " ('4f32c93f66aadbd682294f5cedde7c18', '2018-03-10 16:15:17'),\n",
       " ('8736140c61ea584cb4250074756d8f3b', '2017-08-10 13:35:55'),\n",
       " ('39ca4fbb87367cf7440fc32125b86202', '2017-04-24 20:32:15'),\n",
       " ('c9205528d5e1b823f414b4f15314c03f', '2017-08-21 19:33:15'),\n",
       " ('25b6b32773813a83fe535d412fa6e805', '2017-11-26 17:47:17'),\n",
       " ('d262943abbea3ae2db6528a4261ba247', '2018-04-02 16:10:57'),\n",
       " ('50c67fc0ce3ee7959b7dfeeabfbe6b78', '2017-11-27 17:19:58'),\n",
       " ('e5e7f892785fbe21a339bcd77efdae86', '2017-12-01 20:48:11'),\n",
       " ('54c48a1401020a79d5d52ff20cb07aa7', '2017-04-06 13:45:15'),\n",
       " ('4652332a6a0d39960cdec082ef7b52b8', '2018-05-25 13:28:45'),\n",
       " ('0f93b20928bc59f8571a39b03ed0c1bb', '2017-09-25 09:48:34'),\n",
       " ('eb79e3366c1e8ef5a331f96b5c73995f', '2017-09-04 11:39:25'),\n",
       " ('444ebbf5602b5acdad22e0b4a9951bda', '2017-11-29 11:24:18'),\n",
       " ('0acdae809654a2de1235d18a12cf73f3', '2018-06-14 11:29:22'),\n",
       " ('38097aba0f729783af8bf48eabf5e496', '2018-05-01 13:44:06'),\n",
       " ('a3a3b0aaa23eddcb93f63fad71f13391', '2017-09-12 08:16:19'),\n",
       " ('a82922658c32130591989ddab7111ed6', '2017-11-02 09:30:52'),\n",
       " ('b436fd24a04e7267307e1d900faa8eb1', '2018-05-30 12:58:00'),\n",
       " ('91c75b7ba1ec17918b96773bc0f8f443', '2017-05-05 13:35:44'),\n",
       " ('ef5b03340b5839974405018a62e03f29', '2018-05-04 16:08:55'),\n",
       " ('674b530698f9bd8a9167b30ed86bd51d', '2017-06-02 10:18:35'),\n",
       " ('97c6f98cd025659444b815df5050d8d7', '2017-09-12 17:49:55'),\n",
       " ('e2493d49c7ac426207fb7575814ebbd4', '2017-12-04 17:16:55'),\n",
       " ('be6e034d294e425c514e215bf0b7120a', '2017-05-22 15:57:42'),\n",
       " ('777ee9a9950b655601a65012d4e45584', '2017-10-08 14:53:58'),\n",
       " ('f056d4857c146c38ff02566b3e152bca', '2018-05-17 16:37:03'),\n",
       " ('8e3f8be6e1ce8ec5b39dae59e0aabcff', '2018-03-23 11:07:13'),\n",
       " ...]"
      ]
     },
     "execution_count": 6,
     "metadata": {},
     "output_type": "execute_result"
    }
   ],
   "source": [
    "query = \"\"\"SELECT order_id,order_purchase_timestamp FROM ecommerce.orders;;\"\"\"\n",
    "\n",
    "cur.execute(query)\n",
    "\n",
    "data=cur.fetchall()\n",
    "\n",
    "data"
   ]
  },
  {
   "cell_type": "code",
   "execution_count": 8,
   "metadata": {},
   "outputs": [
    {
     "data": {
      "text/html": [
       "<div>\n",
       "<style scoped>\n",
       "    .dataframe tbody tr th:only-of-type {\n",
       "        vertical-align: middle;\n",
       "    }\n",
       "\n",
       "    .dataframe tbody tr th {\n",
       "        vertical-align: top;\n",
       "    }\n",
       "\n",
       "    .dataframe thead th {\n",
       "        text-align: right;\n",
       "    }\n",
       "</style>\n",
       "<table border=\"1\" class=\"dataframe\">\n",
       "  <thead>\n",
       "    <tr style=\"text-align: right;\">\n",
       "      <th></th>\n",
       "      <th>order_id</th>\n",
       "      <th>order_purchase_timestamp</th>\n",
       "    </tr>\n",
       "  </thead>\n",
       "  <tbody>\n",
       "    <tr>\n",
       "      <th>0</th>\n",
       "      <td>e481f51cbdc54678b7cc49136f2d6af7</td>\n",
       "      <td>2017-10-02 10:56:33</td>\n",
       "    </tr>\n",
       "    <tr>\n",
       "      <th>1</th>\n",
       "      <td>53cdb2fc8bc7dce0b6741e2150273451</td>\n",
       "      <td>2018-07-24 20:41:37</td>\n",
       "    </tr>\n",
       "    <tr>\n",
       "      <th>2</th>\n",
       "      <td>47770eb9100c2d0c44946d9cf07ec65d</td>\n",
       "      <td>2018-08-08 08:38:49</td>\n",
       "    </tr>\n",
       "    <tr>\n",
       "      <th>3</th>\n",
       "      <td>949d5b44dbf5de918fe9c16f97b45f8a</td>\n",
       "      <td>2017-11-18 19:28:06</td>\n",
       "    </tr>\n",
       "    <tr>\n",
       "      <th>4</th>\n",
       "      <td>ad21c59c0840e6cb83a9ceb5573f8159</td>\n",
       "      <td>2018-02-13 21:18:39</td>\n",
       "    </tr>\n",
       "  </tbody>\n",
       "</table>\n",
       "</div>"
      ],
      "text/plain": [
       "                           order_id order_purchase_timestamp\n",
       "0  e481f51cbdc54678b7cc49136f2d6af7      2017-10-02 10:56:33\n",
       "1  53cdb2fc8bc7dce0b6741e2150273451      2018-07-24 20:41:37\n",
       "2  47770eb9100c2d0c44946d9cf07ec65d      2018-08-08 08:38:49\n",
       "3  949d5b44dbf5de918fe9c16f97b45f8a      2017-11-18 19:28:06\n",
       "4  ad21c59c0840e6cb83a9ceb5573f8159      2018-02-13 21:18:39"
      ]
     },
     "execution_count": 8,
     "metadata": {},
     "output_type": "execute_result"
    }
   ],
   "source": [
    "df= pd.DataFrame(data, columns=[\"order_id\",\"order_purchase_timestamp\"])\n",
    "df.head()"
   ]
  },
  {
   "cell_type": "code",
   "execution_count": 9,
   "metadata": {},
   "outputs": [
    {
     "name": "stdout",
     "output_type": "stream",
     "text": [
      "<class 'pandas.core.frame.DataFrame'>\n",
      "RangeIndex: 99441 entries, 0 to 99440\n",
      "Data columns (total 2 columns):\n",
      " #   Column                    Non-Null Count  Dtype \n",
      "---  ------                    --------------  ----- \n",
      " 0   order_id                  99441 non-null  object\n",
      " 1   order_purchase_timestamp  99441 non-null  object\n",
      "dtypes: object(2)\n",
      "memory usage: 1.5+ MB\n"
     ]
    }
   ],
   "source": [
    "df.info()"
   ]
  },
  {
   "cell_type": "code",
   "execution_count": 10,
   "metadata": {},
   "outputs": [],
   "source": [
    "# Convert order_purchase_timestamp to datetime\n",
    "df['order_purchase_timestamp'] = pd.to_datetime(df['order_purchase_timestamp'])"
   ]
  },
  {
   "cell_type": "code",
   "execution_count": 11,
   "metadata": {},
   "outputs": [],
   "source": [
    "# Filter for the year 2018\n",
    "df_2018 = df[df['order_purchase_timestamp'].dt.year == 2018]"
   ]
  },
  {
   "cell_type": "code",
   "execution_count": 14,
   "metadata": {},
   "outputs": [],
   "source": [
    "orders_per_month = df_2018.groupby(df_2018['order_purchase_timestamp'].dt.month).count()"
   ]
  },
  {
   "cell_type": "code",
   "execution_count": 16,
   "metadata": {},
   "outputs": [
    {
     "name": "stdout",
     "output_type": "stream",
     "text": [
      "month\n",
      "1     7269\n",
      "2     6728\n",
      "3     7211\n",
      "4     6939\n",
      "5     6873\n",
      "6     6167\n",
      "7     6292\n",
      "8     6512\n",
      "9       16\n",
      "10       4\n",
      "Name: number_of_orders, dtype: int64\n"
     ]
    }
   ],
   "source": [
    "# Select the order_id column for the count\n",
    "orders_per_month = orders_per_month['order_id']\n",
    "orders_per_month.index.name = 'month'\n",
    "orders_per_month.name = 'number_of_orders'\n",
    "\n",
    "# Display the result\n",
    "print(orders_per_month)"
   ]
  },
  {
   "cell_type": "code",
   "execution_count": 17,
   "metadata": {},
   "outputs": [
    {
     "data": {
      "text/plain": [
       "[('July', 6292),\n",
       " ('August', 6512),\n",
       " ('February', 6728),\n",
       " ('June', 6167),\n",
       " ('March', 7211),\n",
       " ('January', 7269),\n",
       " ('May', 6873),\n",
       " ('April', 6939),\n",
       " ('September', 16),\n",
       " ('October', 4)]"
      ]
     },
     "execution_count": 17,
     "metadata": {},
     "output_type": "execute_result"
    }
   ],
   "source": [
    "query = \"\"\"SELECT monthname(order_purchase_timestamp) as Months,count(order_id) AS Order_count\n",
    "FROM orders WHERE year(order_purchase_timestamp) =2018\n",
    "group by Months;\"\"\"\n",
    "\n",
    "cur.execute(query)\n",
    "\n",
    "data=cur.fetchall()\n",
    "\n",
    "data"
   ]
  },
  {
   "cell_type": "code",
   "execution_count": 22,
   "metadata": {},
   "outputs": [
    {
     "data": {
      "text/html": [
       "<div>\n",
       "<style scoped>\n",
       "    .dataframe tbody tr th:only-of-type {\n",
       "        vertical-align: middle;\n",
       "    }\n",
       "\n",
       "    .dataframe tbody tr th {\n",
       "        vertical-align: top;\n",
       "    }\n",
       "\n",
       "    .dataframe thead th {\n",
       "        text-align: right;\n",
       "    }\n",
       "</style>\n",
       "<table border=\"1\" class=\"dataframe\">\n",
       "  <thead>\n",
       "    <tr style=\"text-align: right;\">\n",
       "      <th></th>\n",
       "      <th>Months</th>\n",
       "      <th>Order_Count</th>\n",
       "    </tr>\n",
       "  </thead>\n",
       "  <tbody>\n",
       "    <tr>\n",
       "      <th>0</th>\n",
       "      <td>July</td>\n",
       "      <td>6292</td>\n",
       "    </tr>\n",
       "    <tr>\n",
       "      <th>1</th>\n",
       "      <td>August</td>\n",
       "      <td>6512</td>\n",
       "    </tr>\n",
       "    <tr>\n",
       "      <th>2</th>\n",
       "      <td>February</td>\n",
       "      <td>6728</td>\n",
       "    </tr>\n",
       "    <tr>\n",
       "      <th>3</th>\n",
       "      <td>June</td>\n",
       "      <td>6167</td>\n",
       "    </tr>\n",
       "    <tr>\n",
       "      <th>4</th>\n",
       "      <td>March</td>\n",
       "      <td>7211</td>\n",
       "    </tr>\n",
       "    <tr>\n",
       "      <th>5</th>\n",
       "      <td>January</td>\n",
       "      <td>7269</td>\n",
       "    </tr>\n",
       "    <tr>\n",
       "      <th>6</th>\n",
       "      <td>May</td>\n",
       "      <td>6873</td>\n",
       "    </tr>\n",
       "    <tr>\n",
       "      <th>7</th>\n",
       "      <td>April</td>\n",
       "      <td>6939</td>\n",
       "    </tr>\n",
       "    <tr>\n",
       "      <th>8</th>\n",
       "      <td>September</td>\n",
       "      <td>16</td>\n",
       "    </tr>\n",
       "    <tr>\n",
       "      <th>9</th>\n",
       "      <td>October</td>\n",
       "      <td>4</td>\n",
       "    </tr>\n",
       "  </tbody>\n",
       "</table>\n",
       "</div>"
      ],
      "text/plain": [
       "      Months  Order_Count\n",
       "0       July         6292\n",
       "1     August         6512\n",
       "2   February         6728\n",
       "3       June         6167\n",
       "4      March         7211\n",
       "5    January         7269\n",
       "6        May         6873\n",
       "7      April         6939\n",
       "8  September           16\n",
       "9    October            4"
      ]
     },
     "execution_count": 22,
     "metadata": {},
     "output_type": "execute_result"
    }
   ],
   "source": [
    "dff=pd.DataFrame(data, columns=[\"Months\",\"Order_Count\"])\n",
    "dff"
   ]
  },
  {
   "cell_type": "code",
   "execution_count": 20,
   "metadata": {},
   "outputs": [],
   "source": [
    "order =  ['January', 'February', 'March', 'April', 'May', 'June', 'July', 'August', 'September', 'October']"
   ]
  },
  {
   "cell_type": "code",
   "execution_count": 37,
   "metadata": {},
   "outputs": [
    {
     "data": {
      "text/plain": [
       "<Axes: xlabel='Order_Count', ylabel='Months'>"
      ]
     },
     "execution_count": 37,
     "metadata": {},
     "output_type": "execute_result"
    },
    {
     "data": {
      "image/png": "[encoded data removed]",
      "text/plain": [
       "<Figure size 640x480 with 1 Axes>"
      ]
     },
     "metadata": {},
     "output_type": "display_data"
    }
   ],
   "source": [
    "sns.barplot(dff, x=\"Order_Count\" ,y= \"Months\", order= order , color=\"darkred\")\n"
   ]
  },
  {
   "cell_type": "code",
   "execution_count": 45,
   "metadata": {},
   "outputs": [
    {
     "data": {
      "application/vnd.plotly.v1+json": {
       "config": {
        "plotlyServerURL": "https://plot.ly"
       },
       "data": [
        {
         "alignmentgroup": "True",
         "hovertemplate": "Months=%{x}<br>Order_Count=%{y}<extra></extra>",
         "legendgroup": "",
         "marker": {
          "color": "darkcyan",
          "pattern": {
           "shape": ""
          }
         },
         "name": "",
         "offsetgroup": "",
         "orientation": "v",
         "showlegend": false,
         "textposition": "auto",
         "type": "bar",
         "x": [
          "July",
          "August",
          "February",
          "June",
          "March",
          "January",
          "May",
          "April",
          "September",
          "October"
         ],
         "xaxis": "x",
         "y": [
          6292,
          6512,
          6728,
          6167,
          7211,
          7269,
          6873,
          6939,
          16,
          4
         ],
         "yaxis": "y"
        }
       ],
       "layout": {
        "barmode": "relative",
        "legend": {
         "tracegroupgap": 0
        },
        "margin": {
         "t": 60
        },
        "template": {
         "data": {
          "bar": [
           {
            "error_x": {
             "color": "#2a3f5f"
            },
            "error_y": {
             "color": "#2a3f5f"
            },
            "marker": {
             "line": {
              "color": "#E5ECF6",
              "width": 0.5
             },
             "pattern": {
              "fillmode": "overlay",
              "size": 10,
              "solidity": 0.2
             }
            },
            "type": "bar"
           }
          ],
          "barpolar": [
           {
            "marker": {
             "line": {
              "color": "#E5ECF6",
              "width": 0.5
             },
             "pattern": {
              "fillmode": "overlay",
              "size": 10,
              "solidity": 0.2
             }
            },
            "type": "barpolar"
           }
          ],
          "carpet": [
           {
            "aaxis": {
             "endlinecolor": "#2a3f5f",
             "gridcolor": "white",
             "linecolor": "white",
             "minorgridcolor": "white",
             "startlinecolor": "#2a3f5f"
            },
            "baxis": {
             "endlinecolor": "#2a3f5f",
             "gridcolor": "white",
             "linecolor": "white",
             "minorgridcolor": "white",
             "startlinecolor": "#2a3f5f"
            },
            "type": "carpet"
           }
          ],
          "choropleth": [
           {
            "colorbar": {
             "outlinewidth": 0,
             "ticks": ""
            },
            "type": "choropleth"
           }
          ],
          "contour": [
           {
            "colorbar": {
             "outlinewidth": 0,
             "ticks": ""
            },
            "colorscale": [
             [
              0,
              "#0d0887"
             ],
             [
              0.1111111111111111,
              "#46039f"
             ],
             [
              0.2222222222222222,
              "#7201a8"
             ],
             [
              0.3333333333333333,
              "#9c179e"
             ],
             [
              0.4444444444444444,
              "#bd3786"
             ],
             [
              0.5555555555555556,
              "#d8576b"
             ],
             [
              0.6666666666666666,
              "#ed7953"
             ],
             [
              0.7777777777777778,
              "#fb9f3a"
             ],
             [
              0.8888888888888888,
              "#fdca26"
             ],
             [
              1,
              "#f0f921"
             ]
            ],
            "type": "contour"
           }
          ],
          "contourcarpet": [
           {
            "colorbar": {
             "outlinewidth": 0,
             "ticks": ""
            },
            "type": "contourcarpet"
           }
          ],
          "heatmap": [
           {
            "colorbar": {
             "outlinewidth": 0,
             "ticks": ""
            },
            "colorscale": [
             [
              0,
              "#0d0887"
             ],
             [
              0.1111111111111111,
              "#46039f"
             ],
             [
              0.2222222222222222,
              "#7201a8"
             ],
             [
              0.3333333333333333,
              "#9c179e"
             ],
             [
              0.4444444444444444,
              "#bd3786"
             ],
             [
              0.5555555555555556,
              "#d8576b"
             ],
             [
              0.6666666666666666,
              "#ed7953"
             ],
             [
              0.7777777777777778,
              "#fb9f3a"
             ],
             [
              0.8888888888888888,
              "#fdca26"
             ],
             [
              1,
              "#f0f921"
             ]
            ],
            "type": "heatmap"
           }
          ],
          "heatmapgl": [
           {
            "colorbar": {
             "outlinewidth": 0,
             "ticks": ""
            },
            "colorscale": [
             [
              0,
              "#0d0887"
             ],
             [
              0.1111111111111111,
              "#46039f"
             ],
             [
              0.2222222222222222,
              "#7201a8"
             ],
             [
              0.3333333333333333,
              "#9c179e"
             ],
             [
              0.4444444444444444,
              "#bd3786"
             ],
             [
              0.5555555555555556,
              "#d8576b"
             ],
             [
              0.6666666666666666,
              "#ed7953"
             ],
             [
              0.7777777777777778,
              "#fb9f3a"
             ],
             [
              0.8888888888888888,
              "#fdca26"
             ],
             [
              1,
              "#f0f921"
             ]
            ],
            "type": "heatmapgl"
           }
          ],
          "histogram": [
           {
            "marker": {
             "pattern": {
              "fillmode": "overlay",
              "size": 10,
              "solidity": 0.2
             }
            },
            "type": "histogram"
           }
          ],
          "histogram2d": [
           {
            "colorbar": {
             "outlinewidth": 0,
             "ticks": ""
            },
            "colorscale": [
             [
              0,
              "#0d0887"
             ],
             [
              0.1111111111111111,
              "#46039f"
             ],
             [
              0.2222222222222222,
              "#7201a8"
             ],
             [
              0.3333333333333333,
              "#9c179e"
             ],
             [
              0.4444444444444444,
              "#bd3786"
             ],
             [
              0.5555555555555556,
              "#d8576b"
             ],
             [
              0.6666666666666666,
              "#ed7953"
             ],
             [
              0.7777777777777778,
              "#fb9f3a"
             ],
             [
              0.8888888888888888,
              "#fdca26"
             ],
             [
              1,
              "#f0f921"
             ]
            ],
            "type": "histogram2d"
           }
          ],
          "histogram2dcontour": [
           {
            "colorbar": {
             "outlinewidth": 0,
             "ticks": ""
            },
            "colorscale": [
             [
              0,
              "#0d0887"
             ],
             [
              0.1111111111111111,
              "#46039f"
             ],
             [
              0.2222222222222222,
              "#7201a8"
             ],
             [
              0.3333333333333333,
              "#9c179e"
             ],
             [
              0.4444444444444444,
              "#bd3786"
             ],
             [
              0.5555555555555556,
              "#d8576b"
             ],
             [
              0.6666666666666666,
              "#ed7953"
             ],
             [
              0.7777777777777778,
              "#fb9f3a"
             ],
             [
              0.8888888888888888,
              "#fdca26"
             ],
             [
              1,
              "#f0f921"
             ]
            ],
            "type": "histogram2dcontour"
           }
          ],
          "mesh3d": [
           {
            "colorbar": {
             "outlinewidth": 0,
             "ticks": ""
            },
            "type": "mesh3d"
           }
          ],
          "parcoords": [
           {
            "line": {
             "colorbar": {
              "outlinewidth": 0,
              "ticks": ""
             }
            },
            "type": "parcoords"
           }
          ],
          "pie": [
           {
            "automargin": true,
            "type": "pie"
           }
          ],
          "scatter": [
           {
            "fillpattern": {
             "fillmode": "overlay",
             "size": 10,
             "solidity": 0.2
            },
            "type": "scatter"
           }
          ],
          "scatter3d": [
           {
            "line": {
             "colorbar": {
              "outlinewidth": 0,
              "ticks": ""
             }
            },
            "marker": {
             "colorbar": {
              "outlinewidth": 0,
              "ticks": ""
             }
            },
            "type": "scatter3d"
           }
          ],
          "scattercarpet": [
           {
            "marker": {
             "colorbar": {
              "outlinewidth": 0,
              "ticks": ""
             }
            },
            "type": "scattercarpet"
           }
          ],
          "scattergeo": [
           {
            "marker": {
             "colorbar": {
              "outlinewidth": 0,
              "ticks": ""
             }
            },
            "type": "scattergeo"
           }
          ],
          "scattergl": [
           {
            "marker": {
             "colorbar": {
              "outlinewidth": 0,
              "ticks": ""
             }
            },
            "type": "scattergl"
           }
          ],
          "scattermapbox": [
           {
            "marker": {
             "colorbar": {
              "outlinewidth": 0,
              "ticks": ""
             }
            },
            "type": "scattermapbox"
           }
          ],
          "scatterpolar": [
           {
            "marker": {
             "colorbar": {
              "outlinewidth": 0,
              "ticks": ""
             }
            },
            "type": "scatterpolar"
           }
          ],
          "scatterpolargl": [
           {
            "marker": {
             "colorbar": {
              "outlinewidth": 0,
              "ticks": ""
             }
            },
            "type": "scatterpolargl"
           }
          ],
          "scatterternary": [
           {
            "marker": {
             "colorbar": {
              "outlinewidth": 0,
              "ticks": ""
             }
            },
            "type": "scatterternary"
           }
          ],
          "surface": [
           {
            "colorbar": {
             "outlinewidth": 0,
             "ticks": ""
            },
            "colorscale": [
             [
              0,
              "#0d0887"
             ],
             [
              0.1111111111111111,
              "#46039f"
             ],
             [
              0.2222222222222222,
              "#7201a8"
             ],
             [
              0.3333333333333333,
              "#9c179e"
             ],
             [
              0.4444444444444444,
              "#bd3786"
             ],
             [
              0.5555555555555556,
              "#d8576b"
             ],
             [
              0.6666666666666666,
              "#ed7953"
             ],
             [
              0.7777777777777778,
              "#fb9f3a"
             ],
             [
              0.8888888888888888,
              "#fdca26"
             ],
             [
              1,
              "#f0f921"
             ]
            ],
            "type": "surface"
           }
          ],
          "table": [
           {
            "cells": {
             "fill": {
              "color": "#EBF0F8"
             },
             "line": {
              "color": "white"
             }
            },
            "header": {
             "fill": {
              "color": "#C8D4E3"
             },
             "line": {
              "color": "white"
             }
            },
            "type": "table"
           }
          ]
         },
         "layout": {
          "annotationdefaults": {
           "arrowcolor": "#2a3f5f",
           "arrowhead": 0,
           "arrowwidth": 1
          },
          "autotypenumbers": "strict",
          "coloraxis": {
           "colorbar": {
            "outlinewidth": 0,
            "ticks": ""
           }
          },
          "colorscale": {
           "diverging": [
            [
             0,
             "#8e0152"
            ],
            [
             0.1,
             "#c51b7d"
            ],
            [
             0.2,
             "#de77ae"
            ],
            [
             0.3,
             "#f1b6da"
            ],
            [
             0.4,
             "#fde0ef"
            ],
            [
             0.5,
             "#f7f7f7"
            ],
            [
             0.6,
             "#e6f5d0"
            ],
            [
             0.7,
             "#b8e186"
            ],
            [
             0.8,
             "#7fbc41"
            ],
            [
             0.9,
             "#4d9221"
            ],
            [
             1,
             "#276419"
            ]
           ],
           "sequential": [
            [
             0,
             "#0d0887"
            ],
            [
             0.1111111111111111,
             "#46039f"
            ],
            [
             0.2222222222222222,
             "#7201a8"
            ],
            [
             0.3333333333333333,
             "#9c179e"
            ],
            [
             0.4444444444444444,
             "#bd3786"
            ],
            [
             0.5555555555555556,
             "#d8576b"
            ],
            [
             0.6666666666666666,
             "#ed7953"
            ],
            [
             0.7777777777777778,
             "#fb9f3a"
            ],
            [
             0.8888888888888888,
             "#fdca26"
            ],
            [
             1,
             "#f0f921"
            ]
           ],
           "sequentialminus": [
            [
             0,
             "#0d0887"
            ],
            [
             0.1111111111111111,
             "#46039f"
            ],
            [
             0.2222222222222222,
             "#7201a8"
            ],
            [
             0.3333333333333333,
             "#9c179e"
            ],
            [
             0.4444444444444444,
             "#bd3786"
            ],
            [
             0.5555555555555556,
             "#d8576b"
            ],
            [
             0.6666666666666666,
             "#ed7953"
            ],
            [
             0.7777777777777778,
             "#fb9f3a"
            ],
            [
             0.8888888888888888,
             "#fdca26"
            ],
            [
             1,
             "#f0f921"
            ]
           ]
          },
          "colorway": [
           "#636efa",
           "#EF553B",
           "#00cc96",
           "#ab63fa",
           "#FFA15A",
           "#19d3f3",
           "#FF6692",
           "#B6E880",
           "#FF97FF",
           "#FECB52"
          ],
          "font": {
           "color": "#2a3f5f"
          },
          "geo": {
           "bgcolor": "white",
           "lakecolor": "white",
           "landcolor": "#E5ECF6",
           "showlakes": true,
           "showland": true,
           "subunitcolor": "white"
          },
          "hoverlabel": {
           "align": "left"
          },
          "hovermode": "closest",
          "mapbox": {
           "style": "light"
          },
          "paper_bgcolor": "white",
          "plot_bgcolor": "#E5ECF6",
          "polar": {
           "angularaxis": {
            "gridcolor": "white",
            "linecolor": "white",
            "ticks": ""
           },
           "bgcolor": "#E5ECF6",
           "radialaxis": {
            "gridcolor": "white",
            "linecolor": "white",
            "ticks": ""
           }
          },
          "scene": {
           "xaxis": {
            "backgroundcolor": "#E5ECF6",
            "gridcolor": "white",
            "gridwidth": 2,
            "linecolor": "white",
            "showbackground": true,
            "ticks": "",
            "zerolinecolor": "white"
           },
           "yaxis": {
            "backgroundcolor": "#E5ECF6",
            "gridcolor": "white",
            "gridwidth": 2,
            "linecolor": "white",
            "showbackground": true,
            "ticks": "",
            "zerolinecolor": "white"
           },
           "zaxis": {
            "backgroundcolor": "#E5ECF6",
            "gridcolor": "white",
            "gridwidth": 2,
            "linecolor": "white",
            "showbackground": true,
            "ticks": "",
            "zerolinecolor": "white"
           }
          },
          "shapedefaults": {
           "line": {
            "color": "#2a3f5f"
           }
          },
          "ternary": {
           "aaxis": {
            "gridcolor": "white",
            "linecolor": "white",
            "ticks": ""
           },
           "baxis": {
            "gridcolor": "white",
            "linecolor": "white",
            "ticks": ""
           },
           "bgcolor": "#E5ECF6",
           "caxis": {
            "gridcolor": "white",
            "linecolor": "white",
            "ticks": ""
           }
          },
          "title": {
           "x": 0.05
          },
          "xaxis": {
           "automargin": true,
           "gridcolor": "white",
           "linecolor": "white",
           "ticks": "",
           "title": {
            "standoff": 15
           },
           "zerolinecolor": "white",
           "zerolinewidth": 2
          },
          "yaxis": {
           "automargin": true,
           "gridcolor": "white",
           "linecolor": "white",
           "ticks": "",
           "title": {
            "standoff": 15
           },
           "zerolinecolor": "white",
           "zerolinewidth": 2
          }
         }
        },
        "xaxis": {
         "anchor": "y",
         "categoryarray": [
          "January",
          "February",
          "March",
          "April",
          "May",
          "June",
          "July",
          "August",
          "September",
          "October"
         ],
         "categoryorder": "array",
         "domain": [
          0,
          1
         ],
         "title": {
          "text": "Months"
         }
        },
        "yaxis": {
         "anchor": "x",
         "domain": [
          0,
          1
         ],
         "title": {
          "text": "Order_Count"
         }
        }
       }
      }
     },
     "metadata": {},
     "output_type": "display_data"
    }
   ],
   "source": [
    "fig = px.bar(dff, x=\"Months\", y=\"Order_Count\",\n",
    "             category_orders={\"Months\": order},\n",
    "             color_discrete_sequence=[\"darkcyan\"])\n",
    "fig.show()"
   ]
  },
  {
   "cell_type": "markdown",
   "metadata": {},
   "source": [
    "### 2. Find the average number of products per order, grouped by customer city."
   ]
  },
  {
   "cell_type": "code",
   "execution_count": 49,
   "metadata": {},
   "outputs": [
    {
     "data": {
      "text/html": [
       "<div>\n",
       "<style scoped>\n",
       "    .dataframe tbody tr th:only-of-type {\n",
       "        vertical-align: middle;\n",
       "    }\n",
       "\n",
       "    .dataframe tbody tr th {\n",
       "        vertical-align: top;\n",
       "    }\n",
       "\n",
       "    .dataframe thead th {\n",
       "        text-align: right;\n",
       "    }\n",
       "</style>\n",
       "<table border=\"1\" class=\"dataframe\">\n",
       "  <thead>\n",
       "    <tr style=\"text-align: right;\">\n",
       "      <th></th>\n",
       "      <th>Customer City</th>\n",
       "      <th>Avg Product Per Order</th>\n",
       "    </tr>\n",
       "  </thead>\n",
       "  <tbody>\n",
       "    <tr>\n",
       "      <th>0</th>\n",
       "      <td>sonora</td>\n",
       "      <td>1.00</td>\n",
       "    </tr>\n",
       "    <tr>\n",
       "      <th>1</th>\n",
       "      <td>porteiras</td>\n",
       "      <td>1.00</td>\n",
       "    </tr>\n",
       "    <tr>\n",
       "      <th>2</th>\n",
       "      <td>itabi</td>\n",
       "      <td>1.00</td>\n",
       "    </tr>\n",
       "    <tr>\n",
       "      <th>3</th>\n",
       "      <td>silvanopolis</td>\n",
       "      <td>1.00</td>\n",
       "    </tr>\n",
       "    <tr>\n",
       "      <th>4</th>\n",
       "      <td>salmourao</td>\n",
       "      <td>1.00</td>\n",
       "    </tr>\n",
       "    <tr>\n",
       "      <th>5</th>\n",
       "      <td>cha de alegria</td>\n",
       "      <td>1.00</td>\n",
       "    </tr>\n",
       "    <tr>\n",
       "      <th>6</th>\n",
       "      <td>cerro grande</td>\n",
       "      <td>1.00</td>\n",
       "    </tr>\n",
       "    <tr>\n",
       "      <th>7</th>\n",
       "      <td>francisco santos</td>\n",
       "      <td>1.00</td>\n",
       "    </tr>\n",
       "    <tr>\n",
       "      <th>8</th>\n",
       "      <td>barras</td>\n",
       "      <td>1.00</td>\n",
       "    </tr>\n",
       "    <tr>\n",
       "      <th>9</th>\n",
       "      <td>grupiara</td>\n",
       "      <td>1.00</td>\n",
       "    </tr>\n",
       "  </tbody>\n",
       "</table>\n",
       "</div>"
      ],
      "text/plain": [
       "      Customer City Avg Product Per Order\n",
       "0            sonora                  1.00\n",
       "1         porteiras                  1.00\n",
       "2             itabi                  1.00\n",
       "3      silvanopolis                  1.00\n",
       "4         salmourao                  1.00\n",
       "5    cha de alegria                  1.00\n",
       "6      cerro grande                  1.00\n",
       "7  francisco santos                  1.00\n",
       "8            barras                  1.00\n",
       "9          grupiara                  1.00"
      ]
     },
     "execution_count": 49,
     "metadata": {},
     "output_type": "execute_result"
    }
   ],
   "source": [
    "query = \"\"\"with count_per_order as\n",
    "(SELECT orders.order_id, orders.customer_id , count(order_items.order_id) as oc\n",
    "FROM orders JOIN order_items \n",
    "ON orders.order_id = order_items.order_id\n",
    "GROUP BY orders.order_id,orders.customer_id)\n",
    "\n",
    "SELECT customers.customer_city, ROUND(AVG(count_per_order.oc),2) AS avg_order\n",
    "FROM customers join count_per_order\n",
    "ON customers.customer_id= count_per_order.customer_id\n",
    "GROUP BY customers.customer_city ORDER BY avg_order ;\"\"\"\n",
    "\n",
    "cur.execute(query)\n",
    "\n",
    "data=cur.fetchall()\n",
    "\n",
    "df=pd.DataFrame(data, columns=[\"Customer City\",\"Avg Product Per Order\"])\n",
    "df.head(10)"
   ]
  },
  {
   "cell_type": "markdown",
   "metadata": {},
   "source": [
    "### 3. Calculate the percentage of total revenue contributed by each product category."
   ]
  },
  {
   "cell_type": "code",
   "execution_count": 54,
   "metadata": {},
   "outputs": [
    {
     "data": {
      "text/html": [
       "<div>\n",
       "<style scoped>\n",
       "    .dataframe tbody tr th:only-of-type {\n",
       "        vertical-align: middle;\n",
       "    }\n",
       "\n",
       "    .dataframe tbody tr th {\n",
       "        vertical-align: top;\n",
       "    }\n",
       "\n",
       "    .dataframe thead th {\n",
       "        text-align: right;\n",
       "    }\n",
       "</style>\n",
       "<table border=\"1\" class=\"dataframe\">\n",
       "  <thead>\n",
       "    <tr style=\"text-align: right;\">\n",
       "      <th></th>\n",
       "      <th>Category</th>\n",
       "      <th>SALES_PERCENTAGE</th>\n",
       "    </tr>\n",
       "  </thead>\n",
       "  <tbody>\n",
       "    <tr>\n",
       "      <th>0</th>\n",
       "      <td>BED TABLE BATH</td>\n",
       "      <td>10.70</td>\n",
       "    </tr>\n",
       "    <tr>\n",
       "      <th>1</th>\n",
       "      <td>HEALTH BEAUTY</td>\n",
       "      <td>10.35</td>\n",
       "    </tr>\n",
       "    <tr>\n",
       "      <th>2</th>\n",
       "      <td>COMPUTER ACCESSORIES</td>\n",
       "      <td>9.90</td>\n",
       "    </tr>\n",
       "    <tr>\n",
       "      <th>3</th>\n",
       "      <td>FURNITURE DECORATION</td>\n",
       "      <td>8.93</td>\n",
       "    </tr>\n",
       "    <tr>\n",
       "      <th>4</th>\n",
       "      <td>WATCHES PRESENT</td>\n",
       "      <td>8.93</td>\n",
       "    </tr>\n",
       "    <tr>\n",
       "      <th>...</th>\n",
       "      <td>...</td>\n",
       "      <td>...</td>\n",
       "    </tr>\n",
       "    <tr>\n",
       "      <th>69</th>\n",
       "      <td>HOUSE COMFORT 2</td>\n",
       "      <td>0.01</td>\n",
       "    </tr>\n",
       "    <tr>\n",
       "      <th>70</th>\n",
       "      <td>CDS MUSIC DVDS</td>\n",
       "      <td>0.01</td>\n",
       "    </tr>\n",
       "    <tr>\n",
       "      <th>71</th>\n",
       "      <td>PC GAMER</td>\n",
       "      <td>0.01</td>\n",
       "    </tr>\n",
       "    <tr>\n",
       "      <th>72</th>\n",
       "      <td>FASHION CHILDREN'S CLOTHING</td>\n",
       "      <td>0.00</td>\n",
       "    </tr>\n",
       "    <tr>\n",
       "      <th>73</th>\n",
       "      <td>INSURANCE AND SERVICES</td>\n",
       "      <td>0.00</td>\n",
       "    </tr>\n",
       "  </tbody>\n",
       "</table>\n",
       "<p>74 rows × 2 columns</p>\n",
       "</div>"
      ],
      "text/plain": [
       "                       Category  SALES_PERCENTAGE\n",
       "0                BED TABLE BATH             10.70\n",
       "1                 HEALTH BEAUTY             10.35\n",
       "2          COMPUTER ACCESSORIES              9.90\n",
       "3          FURNITURE DECORATION              8.93\n",
       "4               WATCHES PRESENT              8.93\n",
       "..                          ...               ...\n",
       "69              HOUSE COMFORT 2              0.01\n",
       "70               CDS MUSIC DVDS              0.01\n",
       "71                     PC GAMER              0.01\n",
       "72  FASHION CHILDREN'S CLOTHING              0.00\n",
       "73       INSURANCE AND SERVICES              0.00\n",
       "\n",
       "[74 rows x 2 columns]"
      ]
     },
     "execution_count": 54,
     "metadata": {},
     "output_type": "execute_result"
    }
   ],
   "source": [
    "query = \"\"\"SELECT UPPER(products.product_category) AS Category ,\n",
    "ROUND(((sum(payments.payment_value))/(SELECT SUM(payment_value) FROM payments))*100,2) AS SALES_PERCENTAGE\n",
    "FROM products\n",
    "JOIN order_items\n",
    "ON products.product_id=order_items.product_id\n",
    "JOIN payments\n",
    "ON payments.order_id=order_items.order_id\n",
    "GROUP BY product_category ORDER BY SALES_PERCENTAGE DESC;\"\"\"\n",
    "\n",
    "cur.execute(query)\n",
    "\n",
    "data=cur.fetchall()\n",
    "\n",
    "df=pd.DataFrame(data, columns=[\"Category\", \"SALES_PERCENTAGE\"])\n",
    "df"
   ]
  },
  {
   "cell_type": "markdown",
   "metadata": {},
   "source": [
    "### 4. Identify the correlation between product price and the number of times a product has been purchased."
   ]
  },
  {
   "cell_type": "code",
   "execution_count": 56,
   "metadata": {},
   "outputs": [
    {
     "data": {
      "text/html": [
       "<div>\n",
       "<style scoped>\n",
       "    .dataframe tbody tr th:only-of-type {\n",
       "        vertical-align: middle;\n",
       "    }\n",
       "\n",
       "    .dataframe tbody tr th {\n",
       "        vertical-align: top;\n",
       "    }\n",
       "\n",
       "    .dataframe thead th {\n",
       "        text-align: right;\n",
       "    }\n",
       "</style>\n",
       "<table border=\"1\" class=\"dataframe\">\n",
       "  <thead>\n",
       "    <tr style=\"text-align: right;\">\n",
       "      <th></th>\n",
       "      <th>Product Category</th>\n",
       "      <th>Product Count</th>\n",
       "      <th>Avg Price</th>\n",
       "    </tr>\n",
       "  </thead>\n",
       "  <tbody>\n",
       "    <tr>\n",
       "      <th>0</th>\n",
       "      <td>HEALTH BEAUTY</td>\n",
       "      <td>9670</td>\n",
       "      <td>130.16</td>\n",
       "    </tr>\n",
       "    <tr>\n",
       "      <th>1</th>\n",
       "      <td>sport leisure</td>\n",
       "      <td>8641</td>\n",
       "      <td>114.34</td>\n",
       "    </tr>\n",
       "    <tr>\n",
       "      <th>2</th>\n",
       "      <td>Cool Stuff</td>\n",
       "      <td>3796</td>\n",
       "      <td>167.36</td>\n",
       "    </tr>\n",
       "    <tr>\n",
       "      <th>3</th>\n",
       "      <td>computer accessories</td>\n",
       "      <td>7827</td>\n",
       "      <td>116.51</td>\n",
       "    </tr>\n",
       "    <tr>\n",
       "      <th>4</th>\n",
       "      <td>Watches present</td>\n",
       "      <td>5991</td>\n",
       "      <td>201.14</td>\n",
       "    </tr>\n",
       "    <tr>\n",
       "      <th>...</th>\n",
       "      <td>...</td>\n",
       "      <td>...</td>\n",
       "      <td>...</td>\n",
       "    </tr>\n",
       "    <tr>\n",
       "      <th>69</th>\n",
       "      <td>flowers</td>\n",
       "      <td>33</td>\n",
       "      <td>33.64</td>\n",
       "    </tr>\n",
       "    <tr>\n",
       "      <th>70</th>\n",
       "      <td>Kitchen portable and food coach</td>\n",
       "      <td>15</td>\n",
       "      <td>264.57</td>\n",
       "    </tr>\n",
       "    <tr>\n",
       "      <th>71</th>\n",
       "      <td>House Comfort 2</td>\n",
       "      <td>30</td>\n",
       "      <td>25.34</td>\n",
       "    </tr>\n",
       "    <tr>\n",
       "      <th>72</th>\n",
       "      <td>CITTE AND UPHACK FURNITURE</td>\n",
       "      <td>38</td>\n",
       "      <td>114.95</td>\n",
       "    </tr>\n",
       "    <tr>\n",
       "      <th>73</th>\n",
       "      <td>cds music dvds</td>\n",
       "      <td>14</td>\n",
       "      <td>52.14</td>\n",
       "    </tr>\n",
       "  </tbody>\n",
       "</table>\n",
       "<p>74 rows × 3 columns</p>\n",
       "</div>"
      ],
      "text/plain": [
       "                   Product Category  Product Count  Avg Price\n",
       "0                     HEALTH BEAUTY           9670     130.16\n",
       "1                     sport leisure           8641     114.34\n",
       "2                        Cool Stuff           3796     167.36\n",
       "3              computer accessories           7827     116.51\n",
       "4                   Watches present           5991     201.14\n",
       "..                              ...            ...        ...\n",
       "69                          flowers             33      33.64\n",
       "70  Kitchen portable and food coach             15     264.57\n",
       "71                  House Comfort 2             30      25.34\n",
       "72       CITTE AND UPHACK FURNITURE             38     114.95\n",
       "73                   cds music dvds             14      52.14\n",
       "\n",
       "[74 rows x 3 columns]"
      ]
     },
     "execution_count": 56,
     "metadata": {},
     "output_type": "execute_result"
    }
   ],
   "source": [
    "query = \"\"\"SELECT products.product_category,\n",
    "COUNT(order_items.product_id),\n",
    "ROUND(AVG(order_items.price),2)\n",
    "FROM products JOIN order_items\n",
    "ON products.product_id=order_items.product_id\n",
    "GROUP BY product_category;\"\"\"\n",
    "\n",
    "cur.execute(query)\n",
    "\n",
    "data=cur.fetchall()\n",
    "\n",
    "df=pd.DataFrame(data, columns=[\"Product Category\", \"Product Count\",\"Avg Price\"])\n",
    "df"
   ]
  },
  {
   "cell_type": "code",
   "execution_count": 57,
   "metadata": {},
   "outputs": [
    {
     "data": {
      "text/plain": [
       "<Axes: xlabel='Product Count', ylabel='Avg Price'>"
      ]
     },
     "execution_count": 57,
     "metadata": {},
     "output_type": "execute_result"
    },
    {
     "data": {
      "image/png": "[encoded data removed]",
      "text/plain": [
       "<Figure size 640x480 with 1 Axes>"
      ]
     },
     "metadata": {},
     "output_type": "display_data"
    }
   ],
   "source": [
    "sns.scatterplot(df, x=\"Product Count\", y= \"Avg Price\")"
   ]
  },
  {
   "cell_type": "markdown",
   "metadata": {},
   "source": [
    "### 5. Calculate the total revenue generated by each seller, and rank them by revenue.\n"
   ]
  },
  {
   "cell_type": "code",
   "execution_count": 2,
   "metadata": {},
   "outputs": [
    {
     "data": {
      "text/html": [
       "<div>\n",
       "<style scoped>\n",
       "    .dataframe tbody tr th:only-of-type {\n",
       "        vertical-align: middle;\n",
       "    }\n",
       "\n",
       "    .dataframe tbody tr th {\n",
       "        vertical-align: top;\n",
       "    }\n",
       "\n",
       "    .dataframe thead th {\n",
       "        text-align: right;\n",
       "    }\n",
       "</style>\n",
       "<table border=\"1\" class=\"dataframe\">\n",
       "  <thead>\n",
       "    <tr style=\"text-align: right;\">\n",
       "      <th></th>\n",
       "      <th>Seller ID</th>\n",
       "      <th>Revenue</th>\n",
       "      <th>Rank</th>\n",
       "    </tr>\n",
       "  </thead>\n",
       "  <tbody>\n",
       "    <tr>\n",
       "      <th>0</th>\n",
       "      <td>7c67e1448b00f6e969d365cea6b010ab</td>\n",
       "      <td>507166.907302</td>\n",
       "      <td>1</td>\n",
       "    </tr>\n",
       "    <tr>\n",
       "      <th>1</th>\n",
       "      <td>1025f0e2d44d7041d6cf58b6550e0bfa</td>\n",
       "      <td>308222.039840</td>\n",
       "      <td>2</td>\n",
       "    </tr>\n",
       "    <tr>\n",
       "      <th>2</th>\n",
       "      <td>4a3ca9315b744ce9f8e9374361493884</td>\n",
       "      <td>301245.269765</td>\n",
       "      <td>3</td>\n",
       "    </tr>\n",
       "    <tr>\n",
       "      <th>3</th>\n",
       "      <td>1f50f920176fa81dab994f9023523100</td>\n",
       "      <td>290253.420128</td>\n",
       "      <td>4</td>\n",
       "    </tr>\n",
       "    <tr>\n",
       "      <th>4</th>\n",
       "      <td>53243585a1d6dc2643021fd1853d8905</td>\n",
       "      <td>284903.080498</td>\n",
       "      <td>5</td>\n",
       "    </tr>\n",
       "    <tr>\n",
       "      <th>...</th>\n",
       "      <td>...</td>\n",
       "      <td>...</td>\n",
       "      <td>...</td>\n",
       "    </tr>\n",
       "    <tr>\n",
       "      <th>3090</th>\n",
       "      <td>ad14615bdd492b01b0d97922e87cb87f</td>\n",
       "      <td>19.209999</td>\n",
       "      <td>3091</td>\n",
       "    </tr>\n",
       "    <tr>\n",
       "      <th>3091</th>\n",
       "      <td>702835e4b785b67a084280efca355756</td>\n",
       "      <td>18.559999</td>\n",
       "      <td>3092</td>\n",
       "    </tr>\n",
       "    <tr>\n",
       "      <th>3092</th>\n",
       "      <td>4965a7002cca77301c82d3f91b82e1a9</td>\n",
       "      <td>16.360001</td>\n",
       "      <td>3093</td>\n",
       "    </tr>\n",
       "    <tr>\n",
       "      <th>3093</th>\n",
       "      <td>77128dec4bec4878c37ab7d6169d6f26</td>\n",
       "      <td>15.220000</td>\n",
       "      <td>3094</td>\n",
       "    </tr>\n",
       "    <tr>\n",
       "      <th>3094</th>\n",
       "      <td>cf6f6bc4df3999b9c6440f124fb2f687</td>\n",
       "      <td>12.220000</td>\n",
       "      <td>3095</td>\n",
       "    </tr>\n",
       "  </tbody>\n",
       "</table>\n",
       "<p>3095 rows × 3 columns</p>\n",
       "</div>"
      ],
      "text/plain": [
       "                             Seller ID        Revenue  Rank\n",
       "0     7c67e1448b00f6e969d365cea6b010ab  507166.907302     1\n",
       "1     1025f0e2d44d7041d6cf58b6550e0bfa  308222.039840     2\n",
       "2     4a3ca9315b744ce9f8e9374361493884  301245.269765     3\n",
       "3     1f50f920176fa81dab994f9023523100  290253.420128     4\n",
       "4     53243585a1d6dc2643021fd1853d8905  284903.080498     5\n",
       "...                                ...            ...   ...\n",
       "3090  ad14615bdd492b01b0d97922e87cb87f      19.209999  3091\n",
       "3091  702835e4b785b67a084280efca355756      18.559999  3092\n",
       "3092  4965a7002cca77301c82d3f91b82e1a9      16.360001  3093\n",
       "3093  77128dec4bec4878c37ab7d6169d6f26      15.220000  3094\n",
       "3094  cf6f6bc4df3999b9c6440f124fb2f687      12.220000  3095\n",
       "\n",
       "[3095 rows x 3 columns]"
      ]
     },
     "execution_count": 2,
     "metadata": {},
     "output_type": "execute_result"
    }
   ],
   "source": [
    "query = \"\"\"SELECT *,RANK() OVER(ORDER BY Revenue DESC) AS rn FROM\n",
    "(SELECT order_items.seller_id, sum(payments.payment_value) AS Revenue\n",
    "FROM order_items JOIN payments\n",
    "ON order_items.order_id=payments.order_id\n",
    "GROUP BY order_items.seller_id) AS a;\"\"\"\n",
    "\n",
    "cur.execute(query)\n",
    "\n",
    "data=cur.fetchall()\n",
    "\n",
    "df=pd.DataFrame(data, columns=[\"Seller ID\", \"Revenue\",\"Rank\"])\n",
    "df"
   ]
  },
  {
   "cell_type": "code",
   "execution_count": 5,
   "metadata": {},
   "outputs": [
    {
     "data": {
      "text/plain": [
       "([0, 1, 2, 3, 4, 5, 6, 7, 8, 9],\n",
       " [Text(0, 0, '7c67e1448b00f6e969d365cea6b010ab'),\n",
       "  Text(1, 0, '1025f0e2d44d7041d6cf58b6550e0bfa'),\n",
       "  Text(2, 0, '4a3ca9315b744ce9f8e9374361493884'),\n",
       "  Text(3, 0, '1f50f920176fa81dab994f9023523100'),\n",
       "  Text(4, 0, '53243585a1d6dc2643021fd1853d8905'),\n",
       "  Text(5, 0, 'da8622b14eb17ae2831f4ac5b9dab84a'),\n",
       "  Text(6, 0, '4869f7a5dfa277a7dca6462dcf3b52b2'),\n",
       "  Text(7, 0, '955fee9216a65b617aa5c0531780ce60'),\n",
       "  Text(8, 0, 'fa1c13f2614d7b5c4749cbc52fecda94'),\n",
       "  Text(9, 0, '7e93a43ef30c4f03f38b393420bc753a')])"
      ]
     },
     "execution_count": 5,
     "metadata": {},
     "output_type": "execute_result"
    },
    {
     "data": {
      "image/png": "[encoded data removed]",
      "text/plain": [
       "<Figure size 640x480 with 1 Axes>"
      ]
     },
     "metadata": {},
     "output_type": "display_data"
    }
   ],
   "source": [
    "top_10= df.head(10)\n",
    "sns.barplot(top_10,x=\"Seller ID\", y=\"Revenue\")\n",
    "plt.xticks(rotation= 90)"
   ]
  },
  {
   "cell_type": "code",
   "execution_count": 8,
   "metadata": {},
   "outputs": [
    {
     "data": {
      "application/vnd.plotly.v1+json": {
       "config": {
        "plotlyServerURL": "https://plot.ly"
       },
       "data": [
        {
         "alignmentgroup": "True",
         "hovertemplate": "Seller ID=%{x}<br>Revenue=%{y}<extra></extra>",
         "legendgroup": "",
         "marker": {
          "color": "#636efa",
          "pattern": {
           "shape": ""
          }
         },
         "name": "",
         "offsetgroup": "",
         "orientation": "v",
         "showlegend": false,
         "textposition": "auto",
         "type": "bar",
         "x": [
          "7c67e1448b00f6e969d365cea6b010ab",
          "1025f0e2d44d7041d6cf58b6550e0bfa",
          "4a3ca9315b744ce9f8e9374361493884",
          "1f50f920176fa81dab994f9023523100",
          "53243585a1d6dc2643021fd1853d8905",
          "da8622b14eb17ae2831f4ac5b9dab84a",
          "4869f7a5dfa277a7dca6462dcf3b52b2",
          "955fee9216a65b617aa5c0531780ce60",
          "fa1c13f2614d7b5c4749cbc52fecda94",
          "7e93a43ef30c4f03f38b393420bc753a"
         ],
         "xaxis": "x",
         "y": [
          507166.9073021412,
          308222.0398402214,
          301245.26976528764,
          290253.42012761533,
          284903.0804977417,
          272219.31931465864,
          264166.1209387779,
          236322.30050226487,
          206513.22986984253,
          185134.20970630646
         ],
         "yaxis": "y"
        }
       ],
       "layout": {
        "barmode": "relative",
        "legend": {
         "tracegroupgap": 0
        },
        "margin": {
         "t": 60
        },
        "template": {
         "data": {
          "bar": [
           {
            "error_x": {
             "color": "#2a3f5f"
            },
            "error_y": {
             "color": "#2a3f5f"
            },
            "marker": {
             "line": {
              "color": "#E5ECF6",
              "width": 0.5
             },
             "pattern": {
              "fillmode": "overlay",
              "size": 10,
              "solidity": 0.2
             }
            },
            "type": "bar"
           }
          ],
          "barpolar": [
           {
            "marker": {
             "line": {
              "color": "#E5ECF6",
              "width": 0.5
             },
             "pattern": {
              "fillmode": "overlay",
              "size": 10,
              "solidity": 0.2
             }
            },
            "type": "barpolar"
           }
          ],
          "carpet": [
           {
            "aaxis": {
             "endlinecolor": "#2a3f5f",
             "gridcolor": "white",
             "linecolor": "white",
             "minorgridcolor": "white",
             "startlinecolor": "#2a3f5f"
            },
            "baxis": {
             "endlinecolor": "#2a3f5f",
             "gridcolor": "white",
             "linecolor": "white",
             "minorgridcolor": "white",
             "startlinecolor": "#2a3f5f"
            },
            "type": "carpet"
           }
          ],
          "choropleth": [
           {
            "colorbar": {
             "outlinewidth": 0,
             "ticks": ""
            },
            "type": "choropleth"
           }
          ],
          "contour": [
           {
            "colorbar": {
             "outlinewidth": 0,
             "ticks": ""
            },
            "colorscale": [
             [
              0,
              "#0d0887"
             ],
             [
              0.1111111111111111,
              "#46039f"
             ],
             [
              0.2222222222222222,
              "#7201a8"
             ],
             [
              0.3333333333333333,
              "#9c179e"
             ],
             [
              0.4444444444444444,
              "#bd3786"
             ],
             [
              0.5555555555555556,
              "#d8576b"
             ],
             [
              0.6666666666666666,
              "#ed7953"
             ],
             [
              0.7777777777777778,
              "#fb9f3a"
             ],
             [
              0.8888888888888888,
              "#fdca26"
             ],
             [
              1,
              "#f0f921"
             ]
            ],
            "type": "contour"
           }
          ],
          "contourcarpet": [
           {
            "colorbar": {
             "outlinewidth": 0,
             "ticks": ""
            },
            "type": "contourcarpet"
           }
          ],
          "heatmap": [
           {
            "colorbar": {
             "outlinewidth": 0,
             "ticks": ""
            },
            "colorscale": [
             [
              0,
              "#0d0887"
             ],
             [
              0.1111111111111111,
              "#46039f"
             ],
             [
              0.2222222222222222,
              "#7201a8"
             ],
             [
              0.3333333333333333,
              "#9c179e"
             ],
             [
              0.4444444444444444,
              "#bd3786"
             ],
             [
              0.5555555555555556,
              "#d8576b"
             ],
             [
              0.6666666666666666,
              "#ed7953"
             ],
             [
              0.7777777777777778,
              "#fb9f3a"
             ],
             [
              0.8888888888888888,
              "#fdca26"
             ],
             [
              1,
              "#f0f921"
             ]
            ],
            "type": "heatmap"
           }
          ],
          "heatmapgl": [
           {
            "colorbar": {
             "outlinewidth": 0,
             "ticks": ""
            },
            "colorscale": [
             [
              0,
              "#0d0887"
             ],
             [
              0.1111111111111111,
              "#46039f"
             ],
             [
              0.2222222222222222,
              "#7201a8"
             ],
             [
              0.3333333333333333,
              "#9c179e"
             ],
             [
              0.4444444444444444,
              "#bd3786"
             ],
             [
              0.5555555555555556,
              "#d8576b"
             ],
             [
              0.6666666666666666,
              "#ed7953"
             ],
             [
              0.7777777777777778,
              "#fb9f3a"
             ],
             [
              0.8888888888888888,
              "#fdca26"
             ],
             [
              1,
              "#f0f921"
             ]
            ],
            "type": "heatmapgl"
           }
          ],
          "histogram": [
           {
            "marker": {
             "pattern": {
              "fillmode": "overlay",
              "size": 10,
              "solidity": 0.2
             }
            },
            "type": "histogram"
           }
          ],
          "histogram2d": [
           {
            "colorbar": {
             "outlinewidth": 0,
             "ticks": ""
            },
            "colorscale": [
             [
              0,
              "#0d0887"
             ],
             [
              0.1111111111111111,
              "#46039f"
             ],
             [
              0.2222222222222222,
              "#7201a8"
             ],
             [
              0.3333333333333333,
              "#9c179e"
             ],
             [
              0.4444444444444444,
              "#bd3786"
             ],
             [
              0.5555555555555556,
              "#d8576b"
             ],
             [
              0.6666666666666666,
              "#ed7953"
             ],
             [
              0.7777777777777778,
              "#fb9f3a"
             ],
             [
              0.8888888888888888,
              "#fdca26"
             ],
             [
              1,
              "#f0f921"
             ]
            ],
            "type": "histogram2d"
           }
          ],
          "histogram2dcontour": [
           {
            "colorbar": {
             "outlinewidth": 0,
             "ticks": ""
            },
            "colorscale": [
             [
              0,
              "#0d0887"
             ],
             [
              0.1111111111111111,
              "#46039f"
             ],
             [
              0.2222222222222222,
              "#7201a8"
             ],
             [
              0.3333333333333333,
              "#9c179e"
             ],
             [
              0.4444444444444444,
              "#bd3786"
             ],
             [
              0.5555555555555556,
              "#d8576b"
             ],
             [
              0.6666666666666666,
              "#ed7953"
             ],
             [
              0.7777777777777778,
              "#fb9f3a"
             ],
             [
              0.8888888888888888,
              "#fdca26"
             ],
             [
              1,
              "#f0f921"
             ]
            ],
            "type": "histogram2dcontour"
           }
          ],
          "mesh3d": [
           {
            "colorbar": {
             "outlinewidth": 0,
             "ticks": ""
            },
            "type": "mesh3d"
           }
          ],
          "parcoords": [
           {
            "line": {
             "colorbar": {
              "outlinewidth": 0,
              "ticks": ""
             }
            },
            "type": "parcoords"
           }
          ],
          "pie": [
           {
            "automargin": true,
            "type": "pie"
           }
          ],
          "scatter": [
           {
            "fillpattern": {
             "fillmode": "overlay",
             "size": 10,
             "solidity": 0.2
            },
            "type": "scatter"
           }
          ],
          "scatter3d": [
           {
            "line": {
             "colorbar": {
              "outlinewidth": 0,
              "ticks": ""
             }
            },
            "marker": {
             "colorbar": {
              "outlinewidth": 0,
              "ticks": ""
             }
            },
            "type": "scatter3d"
           }
          ],
          "scattercarpet": [
           {
            "marker": {
             "colorbar": {
              "outlinewidth": 0,
              "ticks": ""
             }
            },
            "type": "scattercarpet"
           }
          ],
          "scattergeo": [
           {
            "marker": {
             "colorbar": {
              "outlinewidth": 0,
              "ticks": ""
             }
            },
            "type": "scattergeo"
           }
          ],
          "scattergl": [
           {
            "marker": {
             "colorbar": {
              "outlinewidth": 0,
              "ticks": ""
             }
            },
            "type": "scattergl"
           }
          ],
          "scattermapbox": [
           {
            "marker": {
             "colorbar": {
              "outlinewidth": 0,
              "ticks": ""
             }
            },
            "type": "scattermapbox"
           }
          ],
          "scatterpolar": [
           {
            "marker": {
             "colorbar": {
              "outlinewidth": 0,
              "ticks": ""
             }
            },
            "type": "scatterpolar"
           }
          ],
          "scatterpolargl": [
           {
            "marker": {
             "colorbar": {
              "outlinewidth": 0,
              "ticks": ""
             }
            },
            "type": "scatterpolargl"
           }
          ],
          "scatterternary": [
           {
            "marker": {
             "colorbar": {
              "outlinewidth": 0,
              "ticks": ""
             }
            },
            "type": "scatterternary"
           }
          ],
          "surface": [
           {
            "colorbar": {
             "outlinewidth": 0,
             "ticks": ""
            },
            "colorscale": [
             [
              0,
              "#0d0887"
             ],
             [
              0.1111111111111111,
              "#46039f"
             ],
             [
              0.2222222222222222,
              "#7201a8"
             ],
             [
              0.3333333333333333,
              "#9c179e"
             ],
             [
              0.4444444444444444,
              "#bd3786"
             ],
             [
              0.5555555555555556,
              "#d8576b"
             ],
             [
              0.6666666666666666,
              "#ed7953"
             ],
             [
              0.7777777777777778,
              "#fb9f3a"
             ],
             [
              0.8888888888888888,
              "#fdca26"
             ],
             [
              1,
              "#f0f921"
             ]
            ],
            "type": "surface"
           }
          ],
          "table": [
           {
            "cells": {
             "fill": {
              "color": "#EBF0F8"
             },
             "line": {
              "color": "white"
             }
            },
            "header": {
             "fill": {
              "color": "#C8D4E3"
             },
             "line": {
              "color": "white"
             }
            },
            "type": "table"
           }
          ]
         },
         "layout": {
          "annotationdefaults": {
           "arrowcolor": "#2a3f5f",
           "arrowhead": 0,
           "arrowwidth": 1
          },
          "autotypenumbers": "strict",
          "coloraxis": {
           "colorbar": {
            "outlinewidth": 0,
            "ticks": ""
           }
          },
          "colorscale": {
           "diverging": [
            [
             0,
             "#8e0152"
            ],
            [
             0.1,
             "#c51b7d"
            ],
            [
             0.2,
             "#de77ae"
            ],
            [
             0.3,
             "#f1b6da"
            ],
            [
             0.4,
             "#fde0ef"
            ],
            [
             0.5,
             "#f7f7f7"
            ],
            [
             0.6,
             "#e6f5d0"
            ],
            [
             0.7,
             "#b8e186"
            ],
            [
             0.8,
             "#7fbc41"
            ],
            [
             0.9,
             "#4d9221"
            ],
            [
             1,
             "#276419"
            ]
           ],
           "sequential": [
            [
             0,
             "#0d0887"
            ],
            [
             0.1111111111111111,
             "#46039f"
            ],
            [
             0.2222222222222222,
             "#7201a8"
            ],
            [
             0.3333333333333333,
             "#9c179e"
            ],
            [
             0.4444444444444444,
             "#bd3786"
            ],
            [
             0.5555555555555556,
             "#d8576b"
            ],
            [
             0.6666666666666666,
             "#ed7953"
            ],
            [
             0.7777777777777778,
             "#fb9f3a"
            ],
            [
             0.8888888888888888,
             "#fdca26"
            ],
            [
             1,
             "#f0f921"
            ]
           ],
           "sequentialminus": [
            [
             0,
             "#0d0887"
            ],
            [
             0.1111111111111111,
             "#46039f"
            ],
            [
             0.2222222222222222,
             "#7201a8"
            ],
            [
             0.3333333333333333,
             "#9c179e"
            ],
            [
             0.4444444444444444,
             "#bd3786"
            ],
            [
             0.5555555555555556,
             "#d8576b"
            ],
            [
             0.6666666666666666,
             "#ed7953"
            ],
            [
             0.7777777777777778,
             "#fb9f3a"
            ],
            [
             0.8888888888888888,
             "#fdca26"
            ],
            [
             1,
             "#f0f921"
            ]
           ]
          },
          "colorway": [
           "#636efa",
           "#EF553B",
           "#00cc96",
           "#ab63fa",
           "#FFA15A",
           "#19d3f3",
           "#FF6692",
           "#B6E880",
           "#FF97FF",
           "#FECB52"
          ],
          "font": {
           "color": "#2a3f5f"
          },
          "geo": {
           "bgcolor": "white",
           "lakecolor": "white",
           "landcolor": "#E5ECF6",
           "showlakes": true,
           "showland": true,
           "subunitcolor": "white"
          },
          "hoverlabel": {
           "align": "left"
          },
          "hovermode": "closest",
          "mapbox": {
           "style": "light"
          },
          "paper_bgcolor": "white",
          "plot_bgcolor": "#E5ECF6",
          "polar": {
           "angularaxis": {
            "gridcolor": "white",
            "linecolor": "white",
            "ticks": ""
           },
           "bgcolor": "#E5ECF6",
           "radialaxis": {
            "gridcolor": "white",
            "linecolor": "white",
            "ticks": ""
           }
          },
          "scene": {
           "xaxis": {
            "backgroundcolor": "#E5ECF6",
            "gridcolor": "white",
            "gridwidth": 2,
            "linecolor": "white",
            "showbackground": true,
            "ticks": "",
            "zerolinecolor": "white"
           },
           "yaxis": {
            "backgroundcolor": "#E5ECF6",
            "gridcolor": "white",
            "gridwidth": 2,
            "linecolor": "white",
            "showbackground": true,
            "ticks": "",
            "zerolinecolor": "white"
           },
           "zaxis": {
            "backgroundcolor": "#E5ECF6",
            "gridcolor": "white",
            "gridwidth": 2,
            "linecolor": "white",
            "showbackground": true,
            "ticks": "",
            "zerolinecolor": "white"
           }
          },
          "shapedefaults": {
           "line": {
            "color": "#2a3f5f"
           }
          },
          "ternary": {
           "aaxis": {
            "gridcolor": "white",
            "linecolor": "white",
            "ticks": ""
           },
           "baxis": {
            "gridcolor": "white",
            "linecolor": "white",
            "ticks": ""
           },
           "bgcolor": "#E5ECF6",
           "caxis": {
            "gridcolor": "white",
            "linecolor": "white",
            "ticks": ""
           }
          },
          "title": {
           "x": 0.05
          },
          "xaxis": {
           "automargin": true,
           "gridcolor": "white",
           "linecolor": "white",
           "ticks": "",
           "title": {
            "standoff": 15
           },
           "zerolinecolor": "white",
           "zerolinewidth": 2
          },
          "yaxis": {
           "automargin": true,
           "gridcolor": "white",
           "linecolor": "white",
           "ticks": "",
           "title": {
            "standoff": 15
           },
           "zerolinecolor": "white",
           "zerolinewidth": 2
          }
         }
        },
        "xaxis": {
         "anchor": "y",
         "domain": [
          0,
          1
         ],
         "title": {
          "text": "Seller ID"
         }
        },
        "yaxis": {
         "anchor": "x",
         "domain": [
          0,
          1
         ],
         "title": {
          "text": "Revenue"
         }
        }
       }
      }
     },
     "metadata": {},
     "output_type": "display_data"
    }
   ],
   "source": [
    "px.bar(top_10,x=\"Seller ID\", y=\"Revenue\")"
   ]
  },
  {
   "cell_type": "markdown",
   "metadata": {},
   "source": [
    "# Advanced !"
   ]
  },
  {
   "cell_type": "markdown",
   "metadata": {},
   "source": [
    "### 1. Calculate the moving average of order values for each customer over their order history."
   ]
  },
  {
   "cell_type": "code",
   "execution_count": 9,
   "metadata": {},
   "outputs": [
    {
     "data": {
      "text/html": [
       "<div>\n",
       "<style scoped>\n",
       "    .dataframe tbody tr th:only-of-type {\n",
       "        vertical-align: middle;\n",
       "    }\n",
       "\n",
       "    .dataframe tbody tr th {\n",
       "        vertical-align: top;\n",
       "    }\n",
       "\n",
       "    .dataframe thead th {\n",
       "        text-align: right;\n",
       "    }\n",
       "</style>\n",
       "<table border=\"1\" class=\"dataframe\">\n",
       "  <thead>\n",
       "    <tr style=\"text-align: right;\">\n",
       "      <th></th>\n",
       "      <th>Customer ID</th>\n",
       "      <th>TimeStamp</th>\n",
       "      <th>Payment</th>\n",
       "      <th>Moving Avg</th>\n",
       "    </tr>\n",
       "  </thead>\n",
       "  <tbody>\n",
       "    <tr>\n",
       "      <th>0</th>\n",
       "      <td>00012a2ce6f8dcda20d059ce98491703</td>\n",
       "      <td>2017-11-14 16:08:26</td>\n",
       "      <td>114.74</td>\n",
       "      <td>114.739998</td>\n",
       "    </tr>\n",
       "    <tr>\n",
       "      <th>1</th>\n",
       "      <td>000161a058600d5901f007fab4c27140</td>\n",
       "      <td>2017-07-16 09:40:32</td>\n",
       "      <td>67.41</td>\n",
       "      <td>67.410004</td>\n",
       "    </tr>\n",
       "    <tr>\n",
       "      <th>2</th>\n",
       "      <td>0001fd6190edaaf884bcaf3d49edf079</td>\n",
       "      <td>2017-02-28 11:06:43</td>\n",
       "      <td>195.42</td>\n",
       "      <td>195.419998</td>\n",
       "    </tr>\n",
       "    <tr>\n",
       "      <th>3</th>\n",
       "      <td>0002414f95344307404f0ace7a26f1d5</td>\n",
       "      <td>2017-08-16 13:09:20</td>\n",
       "      <td>179.35</td>\n",
       "      <td>179.350006</td>\n",
       "    </tr>\n",
       "    <tr>\n",
       "      <th>4</th>\n",
       "      <td>000379cdec625522490c315e70c7a9fb</td>\n",
       "      <td>2018-04-02 13:42:17</td>\n",
       "      <td>107.01</td>\n",
       "      <td>107.010002</td>\n",
       "    </tr>\n",
       "    <tr>\n",
       "      <th>...</th>\n",
       "      <td>...</td>\n",
       "      <td>...</td>\n",
       "      <td>...</td>\n",
       "      <td>...</td>\n",
       "    </tr>\n",
       "    <tr>\n",
       "      <th>103881</th>\n",
       "      <td>fffecc9f79fd8c764f843e9951b11341</td>\n",
       "      <td>2018-03-29 16:59:26</td>\n",
       "      <td>71.23</td>\n",
       "      <td>27.120001</td>\n",
       "    </tr>\n",
       "    <tr>\n",
       "      <th>103882</th>\n",
       "      <td>fffeda5b6d849fbd39689bb92087f431</td>\n",
       "      <td>2018-05-22 13:36:02</td>\n",
       "      <td>63.13</td>\n",
       "      <td>63.130001</td>\n",
       "    </tr>\n",
       "    <tr>\n",
       "      <th>103883</th>\n",
       "      <td>ffff42319e9b2d713724ae527742af25</td>\n",
       "      <td>2018-06-13 16:57:05</td>\n",
       "      <td>214.13</td>\n",
       "      <td>214.130005</td>\n",
       "    </tr>\n",
       "    <tr>\n",
       "      <th>103884</th>\n",
       "      <td>ffffa3172527f765de70084a7e53aae8</td>\n",
       "      <td>2017-09-02 11:53:32</td>\n",
       "      <td>45.50</td>\n",
       "      <td>45.500000</td>\n",
       "    </tr>\n",
       "    <tr>\n",
       "      <th>103885</th>\n",
       "      <td>ffffe8b65bbe3087b653a978c870db99</td>\n",
       "      <td>2017-09-29 14:07:03</td>\n",
       "      <td>18.37</td>\n",
       "      <td>18.370001</td>\n",
       "    </tr>\n",
       "  </tbody>\n",
       "</table>\n",
       "<p>103886 rows × 4 columns</p>\n",
       "</div>"
      ],
      "text/plain": [
       "                             Customer ID            TimeStamp  Payment  \\\n",
       "0       00012a2ce6f8dcda20d059ce98491703  2017-11-14 16:08:26   114.74   \n",
       "1       000161a058600d5901f007fab4c27140  2017-07-16 09:40:32    67.41   \n",
       "2       0001fd6190edaaf884bcaf3d49edf079  2017-02-28 11:06:43   195.42   \n",
       "3       0002414f95344307404f0ace7a26f1d5  2017-08-16 13:09:20   179.35   \n",
       "4       000379cdec625522490c315e70c7a9fb  2018-04-02 13:42:17   107.01   \n",
       "...                                  ...                  ...      ...   \n",
       "103881  fffecc9f79fd8c764f843e9951b11341  2018-03-29 16:59:26    71.23   \n",
       "103882  fffeda5b6d849fbd39689bb92087f431  2018-05-22 13:36:02    63.13   \n",
       "103883  ffff42319e9b2d713724ae527742af25  2018-06-13 16:57:05   214.13   \n",
       "103884  ffffa3172527f765de70084a7e53aae8  2017-09-02 11:53:32    45.50   \n",
       "103885  ffffe8b65bbe3087b653a978c870db99  2017-09-29 14:07:03    18.37   \n",
       "\n",
       "        Moving Avg  \n",
       "0       114.739998  \n",
       "1        67.410004  \n",
       "2       195.419998  \n",
       "3       179.350006  \n",
       "4       107.010002  \n",
       "...            ...  \n",
       "103881   27.120001  \n",
       "103882   63.130001  \n",
       "103883  214.130005  \n",
       "103884   45.500000  \n",
       "103885   18.370001  \n",
       "\n",
       "[103886 rows x 4 columns]"
      ]
     },
     "execution_count": 9,
     "metadata": {},
     "output_type": "execute_result"
    }
   ],
   "source": [
    "query = \"\"\"SELECT customer_id,order_purchase_timestamp,payment,\n",
    "AVG(payment) OVER (PARTITION BY customer_id ORDER BY order_purchase_timestamp \n",
    "ROWS BETWEEN 2 PRECEDING AND CURRENT ROW) AS mov_avg\n",
    "FROM\n",
    "(SELECT orders.customer_id,orders.order_purchase_timestamp,payments.payment_value AS payment\n",
    "FROM orders JOIN payments\n",
    "ON orders.order_id=payments.order_id) AS a;\"\"\"\n",
    "\n",
    "cur.execute(query)\n",
    "\n",
    "data=cur.fetchall()\n",
    "\n",
    "df=pd.DataFrame(data, columns=[\"Customer ID\", \"TimeStamp\",\"Payment\",\"Moving Avg\"])\n",
    "df"
   ]
  }
 ],
 "metadata": {
  "kernelspec": {
   "display_name": "Python 3",
   "language": "python",
   "name": "python3"
  },
  "language_info": {
   "codemirror_mode": {
    "name": "ipython",
    "version": 3
   },
   "file_extension": ".py",
   "mimetype": "text/x-python",
   "name": "python",
   "nbconvert_exporter": "python",
   "pygments_lexer": "ipython3",
   "version": "3.12.3"
  }
 },
 "nbformat": 4,
 "nbformat_minor": 2
}
